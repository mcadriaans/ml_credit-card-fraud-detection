{
  "cells": [
    {
      "cell_type": "markdown",
      "metadata": {
        "id": "--RWk8bm_tz8"
      },
      "source": [
        "# 💳Credit Card Fraud Detection : Dealing with  Class Imbalance"
      ]
    },
    {
      "cell_type": "markdown",
      "metadata": {
        "id": "d4Iok0Fb_3Dm"
      },
      "source": [
        "## 📤Load data and dependencies"
      ]
    },
    {
      "cell_type": "markdown",
      "metadata": {
        "id": "6cws9UEODi_t"
      },
      "source": [
        "Data Source : https://www.kaggle.com/datasets/mlg-ulb/creditcardfraud"
      ]
    },
    {
      "cell_type": "code",
      "execution_count": null,
      "metadata": {
        "colab": {
          "base_uri": "https://localhost:8080/"
        },
        "id": "sjHthgWMBN0v",
        "outputId": "4d66abcf-9fd6-4561-d574-9389f773ba5b"
      },
      "outputs": [
        {
          "output_type": "stream",
          "name": "stdout",
          "text": [
            "Path to dataset files: /kaggle/input/creditcardfraud\n"
          ]
        }
      ],
      "source": [
        "import kagglehub\n",
        "\n",
        "# Download latest version\n",
        "path = kagglehub.dataset_download(\"mlg-ulb/creditcardfraud\")\n",
        "\n",
        "print(\"Path to dataset files:\", path)"
      ]
    },
    {
      "cell_type": "markdown",
      "metadata": {
        "id": "lGWCdwYfJfbm"
      },
      "source": [
        "### Dependencies and Versions\n",
        "\n",
        "* scikit-learn: 1.6.1\n",
        "* xgboost: 2.1.3"
      ]
    },
    {
      "cell_type": "code",
      "execution_count": null,
      "metadata": {
        "id": "BGk-141-JeoR"
      },
      "outputs": [],
      "source": [
        "#import xgboost\n",
        "#print(xgboost.__version__)"
      ]
    },
    {
      "cell_type": "code",
      "execution_count": null,
      "metadata": {
        "id": "CGGnDxiQDHqI"
      },
      "outputs": [],
      "source": [
        "import pandas as pd\n",
        "import numpy as np\n",
        "import matplotlib.pyplot as plt\n",
        "import seaborn as sns\n",
        "\n",
        "from sklearn.model_selection import train_test_split\n",
        "from sklearn.linear_model import LogisticRegression\n",
        "from sklearn.metrics import confusion_matrix, classification_report\n",
        "from imblearn.over_sampling import SMOTE, RandomOverSampler, ADASYN\n",
        "from imblearn.under_sampling import RandomUnderSampler, EditedNearestNeighbours\n",
        "from sklearn.preprocessing import StandardScaler\n",
        "from sklearn.svm import SVC\n",
        "from sklearn.ensemble import RandomForestClassifier\n",
        "from xgboost import XGBClassifier\n",
        "from sklearn.model_selection import GridSearchCV"
      ]
    },
    {
      "cell_type": "code",
      "execution_count": null,
      "metadata": {
        "id": "HnAn6enKW-P4"
      },
      "outputs": [],
      "source": [
        "# Ignore warnings\n",
        "import warnings\n",
        "warnings.filterwarnings('ignore')"
      ]
    },
    {
      "cell_type": "code",
      "execution_count": null,
      "metadata": {
        "colab": {
          "base_uri": "https://localhost:8080/",
          "height": 256
        },
        "id": "Guam00vy_Qze",
        "outputId": "77bef37a-a189-4a12-eeef-dc11c344ba13"
      },
      "outputs": [
        {
          "output_type": "execute_result",
          "data": {
            "text/plain": [
              "   Time        V1        V2        V3        V4        V5        V6        V7  \\\n",
              "0   0.0 -1.359807 -0.072781  2.536347  1.378155 -0.338321  0.462388  0.239599   \n",
              "1   0.0  1.191857  0.266151  0.166480  0.448154  0.060018 -0.082361 -0.078803   \n",
              "2   1.0 -1.358354 -1.340163  1.773209  0.379780 -0.503198  1.800499  0.791461   \n",
              "3   1.0 -0.966272 -0.185226  1.792993 -0.863291 -0.010309  1.247203  0.237609   \n",
              "4   2.0 -1.158233  0.877737  1.548718  0.403034 -0.407193  0.095921  0.592941   \n",
              "\n",
              "         V8        V9  ...       V21       V22       V23       V24       V25  \\\n",
              "0  0.098698  0.363787  ... -0.018307  0.277838 -0.110474  0.066928  0.128539   \n",
              "1  0.085102 -0.255425  ... -0.225775 -0.638672  0.101288 -0.339846  0.167170   \n",
              "2  0.247676 -1.514654  ...  0.247998  0.771679  0.909412 -0.689281 -0.327642   \n",
              "3  0.377436 -1.387024  ... -0.108300  0.005274 -0.190321 -1.175575  0.647376   \n",
              "4 -0.270533  0.817739  ... -0.009431  0.798278 -0.137458  0.141267 -0.206010   \n",
              "\n",
              "        V26       V27       V28  Amount  Class  \n",
              "0 -0.189115  0.133558 -0.021053  149.62      0  \n",
              "1  0.125895 -0.008983  0.014724    2.69      0  \n",
              "2 -0.139097 -0.055353 -0.059752  378.66      0  \n",
              "3 -0.221929  0.062723  0.061458  123.50      0  \n",
              "4  0.502292  0.219422  0.215153   69.99      0  \n",
              "\n",
              "[5 rows x 31 columns]"
            ],
            "text/html": [
              "\n",
              "  <div id=\"df-3df475d7-bc8a-4070-81f4-2902a4b1a4a4\" class=\"colab-df-container\">\n",
              "    <div>\n",
              "<style scoped>\n",
              "    .dataframe tbody tr th:only-of-type {\n",
              "        vertical-align: middle;\n",
              "    }\n",
              "\n",
              "    .dataframe tbody tr th {\n",
              "        vertical-align: top;\n",
              "    }\n",
              "\n",
              "    .dataframe thead th {\n",
              "        text-align: right;\n",
              "    }\n",
              "</style>\n",
              "<table border=\"1\" class=\"dataframe\">\n",
              "  <thead>\n",
              "    <tr style=\"text-align: right;\">\n",
              "      <th></th>\n",
              "      <th>Time</th>\n",
              "      <th>V1</th>\n",
              "      <th>V2</th>\n",
              "      <th>V3</th>\n",
              "      <th>V4</th>\n",
              "      <th>V5</th>\n",
              "      <th>V6</th>\n",
              "      <th>V7</th>\n",
              "      <th>V8</th>\n",
              "      <th>V9</th>\n",
              "      <th>...</th>\n",
              "      <th>V21</th>\n",
              "      <th>V22</th>\n",
              "      <th>V23</th>\n",
              "      <th>V24</th>\n",
              "      <th>V25</th>\n",
              "      <th>V26</th>\n",
              "      <th>V27</th>\n",
              "      <th>V28</th>\n",
              "      <th>Amount</th>\n",
              "      <th>Class</th>\n",
              "    </tr>\n",
              "  </thead>\n",
              "  <tbody>\n",
              "    <tr>\n",
              "      <th>0</th>\n",
              "      <td>0.0</td>\n",
              "      <td>-1.359807</td>\n",
              "      <td>-0.072781</td>\n",
              "      <td>2.536347</td>\n",
              "      <td>1.378155</td>\n",
              "      <td>-0.338321</td>\n",
              "      <td>0.462388</td>\n",
              "      <td>0.239599</td>\n",
              "      <td>0.098698</td>\n",
              "      <td>0.363787</td>\n",
              "      <td>...</td>\n",
              "      <td>-0.018307</td>\n",
              "      <td>0.277838</td>\n",
              "      <td>-0.110474</td>\n",
              "      <td>0.066928</td>\n",
              "      <td>0.128539</td>\n",
              "      <td>-0.189115</td>\n",
              "      <td>0.133558</td>\n",
              "      <td>-0.021053</td>\n",
              "      <td>149.62</td>\n",
              "      <td>0</td>\n",
              "    </tr>\n",
              "    <tr>\n",
              "      <th>1</th>\n",
              "      <td>0.0</td>\n",
              "      <td>1.191857</td>\n",
              "      <td>0.266151</td>\n",
              "      <td>0.166480</td>\n",
              "      <td>0.448154</td>\n",
              "      <td>0.060018</td>\n",
              "      <td>-0.082361</td>\n",
              "      <td>-0.078803</td>\n",
              "      <td>0.085102</td>\n",
              "      <td>-0.255425</td>\n",
              "      <td>...</td>\n",
              "      <td>-0.225775</td>\n",
              "      <td>-0.638672</td>\n",
              "      <td>0.101288</td>\n",
              "      <td>-0.339846</td>\n",
              "      <td>0.167170</td>\n",
              "      <td>0.125895</td>\n",
              "      <td>-0.008983</td>\n",
              "      <td>0.014724</td>\n",
              "      <td>2.69</td>\n",
              "      <td>0</td>\n",
              "    </tr>\n",
              "    <tr>\n",
              "      <th>2</th>\n",
              "      <td>1.0</td>\n",
              "      <td>-1.358354</td>\n",
              "      <td>-1.340163</td>\n",
              "      <td>1.773209</td>\n",
              "      <td>0.379780</td>\n",
              "      <td>-0.503198</td>\n",
              "      <td>1.800499</td>\n",
              "      <td>0.791461</td>\n",
              "      <td>0.247676</td>\n",
              "      <td>-1.514654</td>\n",
              "      <td>...</td>\n",
              "      <td>0.247998</td>\n",
              "      <td>0.771679</td>\n",
              "      <td>0.909412</td>\n",
              "      <td>-0.689281</td>\n",
              "      <td>-0.327642</td>\n",
              "      <td>-0.139097</td>\n",
              "      <td>-0.055353</td>\n",
              "      <td>-0.059752</td>\n",
              "      <td>378.66</td>\n",
              "      <td>0</td>\n",
              "    </tr>\n",
              "    <tr>\n",
              "      <th>3</th>\n",
              "      <td>1.0</td>\n",
              "      <td>-0.966272</td>\n",
              "      <td>-0.185226</td>\n",
              "      <td>1.792993</td>\n",
              "      <td>-0.863291</td>\n",
              "      <td>-0.010309</td>\n",
              "      <td>1.247203</td>\n",
              "      <td>0.237609</td>\n",
              "      <td>0.377436</td>\n",
              "      <td>-1.387024</td>\n",
              "      <td>...</td>\n",
              "      <td>-0.108300</td>\n",
              "      <td>0.005274</td>\n",
              "      <td>-0.190321</td>\n",
              "      <td>-1.175575</td>\n",
              "      <td>0.647376</td>\n",
              "      <td>-0.221929</td>\n",
              "      <td>0.062723</td>\n",
              "      <td>0.061458</td>\n",
              "      <td>123.50</td>\n",
              "      <td>0</td>\n",
              "    </tr>\n",
              "    <tr>\n",
              "      <th>4</th>\n",
              "      <td>2.0</td>\n",
              "      <td>-1.158233</td>\n",
              "      <td>0.877737</td>\n",
              "      <td>1.548718</td>\n",
              "      <td>0.403034</td>\n",
              "      <td>-0.407193</td>\n",
              "      <td>0.095921</td>\n",
              "      <td>0.592941</td>\n",
              "      <td>-0.270533</td>\n",
              "      <td>0.817739</td>\n",
              "      <td>...</td>\n",
              "      <td>-0.009431</td>\n",
              "      <td>0.798278</td>\n",
              "      <td>-0.137458</td>\n",
              "      <td>0.141267</td>\n",
              "      <td>-0.206010</td>\n",
              "      <td>0.502292</td>\n",
              "      <td>0.219422</td>\n",
              "      <td>0.215153</td>\n",
              "      <td>69.99</td>\n",
              "      <td>0</td>\n",
              "    </tr>\n",
              "  </tbody>\n",
              "</table>\n",
              "<p>5 rows × 31 columns</p>\n",
              "</div>\n",
              "    <div class=\"colab-df-buttons\">\n",
              "\n",
              "  <div class=\"colab-df-container\">\n",
              "    <button class=\"colab-df-convert\" onclick=\"convertToInteractive('df-3df475d7-bc8a-4070-81f4-2902a4b1a4a4')\"\n",
              "            title=\"Convert this dataframe to an interactive table.\"\n",
              "            style=\"display:none;\">\n",
              "\n",
              "  <svg xmlns=\"http://www.w3.org/2000/svg\" height=\"24px\" viewBox=\"0 -960 960 960\">\n",
              "    <path d=\"M120-120v-720h720v720H120Zm60-500h600v-160H180v160Zm220 220h160v-160H400v160Zm0 220h160v-160H400v160ZM180-400h160v-160H180v160Zm440 0h160v-160H620v160ZM180-180h160v-160H180v160Zm440 0h160v-160H620v160Z\"/>\n",
              "  </svg>\n",
              "    </button>\n",
              "\n",
              "  <style>\n",
              "    .colab-df-container {\n",
              "      display:flex;\n",
              "      gap: 12px;\n",
              "    }\n",
              "\n",
              "    .colab-df-convert {\n",
              "      background-color: #E8F0FE;\n",
              "      border: none;\n",
              "      border-radius: 50%;\n",
              "      cursor: pointer;\n",
              "      display: none;\n",
              "      fill: #1967D2;\n",
              "      height: 32px;\n",
              "      padding: 0 0 0 0;\n",
              "      width: 32px;\n",
              "    }\n",
              "\n",
              "    .colab-df-convert:hover {\n",
              "      background-color: #E2EBFA;\n",
              "      box-shadow: 0px 1px 2px rgba(60, 64, 67, 0.3), 0px 1px 3px 1px rgba(60, 64, 67, 0.15);\n",
              "      fill: #174EA6;\n",
              "    }\n",
              "\n",
              "    .colab-df-buttons div {\n",
              "      margin-bottom: 4px;\n",
              "    }\n",
              "\n",
              "    [theme=dark] .colab-df-convert {\n",
              "      background-color: #3B4455;\n",
              "      fill: #D2E3FC;\n",
              "    }\n",
              "\n",
              "    [theme=dark] .colab-df-convert:hover {\n",
              "      background-color: #434B5C;\n",
              "      box-shadow: 0px 1px 3px 1px rgba(0, 0, 0, 0.15);\n",
              "      filter: drop-shadow(0px 1px 2px rgba(0, 0, 0, 0.3));\n",
              "      fill: #FFFFFF;\n",
              "    }\n",
              "  </style>\n",
              "\n",
              "    <script>\n",
              "      const buttonEl =\n",
              "        document.querySelector('#df-3df475d7-bc8a-4070-81f4-2902a4b1a4a4 button.colab-df-convert');\n",
              "      buttonEl.style.display =\n",
              "        google.colab.kernel.accessAllowed ? 'block' : 'none';\n",
              "\n",
              "      async function convertToInteractive(key) {\n",
              "        const element = document.querySelector('#df-3df475d7-bc8a-4070-81f4-2902a4b1a4a4');\n",
              "        const dataTable =\n",
              "          await google.colab.kernel.invokeFunction('convertToInteractive',\n",
              "                                                    [key], {});\n",
              "        if (!dataTable) return;\n",
              "\n",
              "        const docLinkHtml = 'Like what you see? Visit the ' +\n",
              "          '<a target=\"_blank\" href=https://colab.research.google.com/notebooks/data_table.ipynb>data table notebook</a>'\n",
              "          + ' to learn more about interactive tables.';\n",
              "        element.innerHTML = '';\n",
              "        dataTable['output_type'] = 'display_data';\n",
              "        await google.colab.output.renderOutput(dataTable, element);\n",
              "        const docLink = document.createElement('div');\n",
              "        docLink.innerHTML = docLinkHtml;\n",
              "        element.appendChild(docLink);\n",
              "      }\n",
              "    </script>\n",
              "  </div>\n",
              "\n",
              "\n",
              "<div id=\"df-b3081422-fa78-4abc-8999-0de518fd63d2\">\n",
              "  <button class=\"colab-df-quickchart\" onclick=\"quickchart('df-b3081422-fa78-4abc-8999-0de518fd63d2')\"\n",
              "            title=\"Suggest charts\"\n",
              "            style=\"display:none;\">\n",
              "\n",
              "<svg xmlns=\"http://www.w3.org/2000/svg\" height=\"24px\"viewBox=\"0 0 24 24\"\n",
              "     width=\"24px\">\n",
              "    <g>\n",
              "        <path d=\"M19 3H5c-1.1 0-2 .9-2 2v14c0 1.1.9 2 2 2h14c1.1 0 2-.9 2-2V5c0-1.1-.9-2-2-2zM9 17H7v-7h2v7zm4 0h-2V7h2v10zm4 0h-2v-4h2v4z\"/>\n",
              "    </g>\n",
              "</svg>\n",
              "  </button>\n",
              "\n",
              "<style>\n",
              "  .colab-df-quickchart {\n",
              "      --bg-color: #E8F0FE;\n",
              "      --fill-color: #1967D2;\n",
              "      --hover-bg-color: #E2EBFA;\n",
              "      --hover-fill-color: #174EA6;\n",
              "      --disabled-fill-color: #AAA;\n",
              "      --disabled-bg-color: #DDD;\n",
              "  }\n",
              "\n",
              "  [theme=dark] .colab-df-quickchart {\n",
              "      --bg-color: #3B4455;\n",
              "      --fill-color: #D2E3FC;\n",
              "      --hover-bg-color: #434B5C;\n",
              "      --hover-fill-color: #FFFFFF;\n",
              "      --disabled-bg-color: #3B4455;\n",
              "      --disabled-fill-color: #666;\n",
              "  }\n",
              "\n",
              "  .colab-df-quickchart {\n",
              "    background-color: var(--bg-color);\n",
              "    border: none;\n",
              "    border-radius: 50%;\n",
              "    cursor: pointer;\n",
              "    display: none;\n",
              "    fill: var(--fill-color);\n",
              "    height: 32px;\n",
              "    padding: 0;\n",
              "    width: 32px;\n",
              "  }\n",
              "\n",
              "  .colab-df-quickchart:hover {\n",
              "    background-color: var(--hover-bg-color);\n",
              "    box-shadow: 0 1px 2px rgba(60, 64, 67, 0.3), 0 1px 3px 1px rgba(60, 64, 67, 0.15);\n",
              "    fill: var(--button-hover-fill-color);\n",
              "  }\n",
              "\n",
              "  .colab-df-quickchart-complete:disabled,\n",
              "  .colab-df-quickchart-complete:disabled:hover {\n",
              "    background-color: var(--disabled-bg-color);\n",
              "    fill: var(--disabled-fill-color);\n",
              "    box-shadow: none;\n",
              "  }\n",
              "\n",
              "  .colab-df-spinner {\n",
              "    border: 2px solid var(--fill-color);\n",
              "    border-color: transparent;\n",
              "    border-bottom-color: var(--fill-color);\n",
              "    animation:\n",
              "      spin 1s steps(1) infinite;\n",
              "  }\n",
              "\n",
              "  @keyframes spin {\n",
              "    0% {\n",
              "      border-color: transparent;\n",
              "      border-bottom-color: var(--fill-color);\n",
              "      border-left-color: var(--fill-color);\n",
              "    }\n",
              "    20% {\n",
              "      border-color: transparent;\n",
              "      border-left-color: var(--fill-color);\n",
              "      border-top-color: var(--fill-color);\n",
              "    }\n",
              "    30% {\n",
              "      border-color: transparent;\n",
              "      border-left-color: var(--fill-color);\n",
              "      border-top-color: var(--fill-color);\n",
              "      border-right-color: var(--fill-color);\n",
              "    }\n",
              "    40% {\n",
              "      border-color: transparent;\n",
              "      border-right-color: var(--fill-color);\n",
              "      border-top-color: var(--fill-color);\n",
              "    }\n",
              "    60% {\n",
              "      border-color: transparent;\n",
              "      border-right-color: var(--fill-color);\n",
              "    }\n",
              "    80% {\n",
              "      border-color: transparent;\n",
              "      border-right-color: var(--fill-color);\n",
              "      border-bottom-color: var(--fill-color);\n",
              "    }\n",
              "    90% {\n",
              "      border-color: transparent;\n",
              "      border-bottom-color: var(--fill-color);\n",
              "    }\n",
              "  }\n",
              "</style>\n",
              "\n",
              "  <script>\n",
              "    async function quickchart(key) {\n",
              "      const quickchartButtonEl =\n",
              "        document.querySelector('#' + key + ' button');\n",
              "      quickchartButtonEl.disabled = true;  // To prevent multiple clicks.\n",
              "      quickchartButtonEl.classList.add('colab-df-spinner');\n",
              "      try {\n",
              "        const charts = await google.colab.kernel.invokeFunction(\n",
              "            'suggestCharts', [key], {});\n",
              "      } catch (error) {\n",
              "        console.error('Error during call to suggestCharts:', error);\n",
              "      }\n",
              "      quickchartButtonEl.classList.remove('colab-df-spinner');\n",
              "      quickchartButtonEl.classList.add('colab-df-quickchart-complete');\n",
              "    }\n",
              "    (() => {\n",
              "      let quickchartButtonEl =\n",
              "        document.querySelector('#df-b3081422-fa78-4abc-8999-0de518fd63d2 button');\n",
              "      quickchartButtonEl.style.display =\n",
              "        google.colab.kernel.accessAllowed ? 'block' : 'none';\n",
              "    })();\n",
              "  </script>\n",
              "</div>\n",
              "\n",
              "    </div>\n",
              "  </div>\n"
            ],
            "application/vnd.google.colaboratory.intrinsic+json": {
              "type": "dataframe",
              "variable_name": "data"
            }
          },
          "metadata": {},
          "execution_count": 5
        }
      ],
      "source": [
        "data = pd.read_csv(path + \"/creditcard.csv\")\n",
        "data.head()"
      ]
    },
    {
      "cell_type": "code",
      "execution_count": null,
      "metadata": {
        "colab": {
          "base_uri": "https://localhost:8080/"
        },
        "id": "oIR0tgs5FBJu",
        "outputId": "d1051b94-b3ea-469c-d1ab-fe118de95828"
      },
      "outputs": [
        {
          "output_type": "execute_result",
          "data": {
            "text/plain": [
              "284807"
            ]
          },
          "metadata": {},
          "execution_count": 6
        }
      ],
      "source": [
        "len(data)"
      ]
    },
    {
      "cell_type": "markdown",
      "metadata": {
        "id": "_g_nOdg8EuP2"
      },
      "source": [
        "## 🧹 Data Cleaning"
      ]
    },
    {
      "cell_type": "code",
      "execution_count": null,
      "metadata": {
        "colab": {
          "base_uri": "https://localhost:8080/"
        },
        "id": "jZlZ0mrTEvx0",
        "outputId": "7cdfa33e-dd5d-40f4-a4b4-4f76a27400a9"
      },
      "outputs": [
        {
          "output_type": "stream",
          "name": "stdout",
          "text": [
            "There are 1081 duplicates.\n",
            "All duplicates have been removed.\n"
          ]
        }
      ],
      "source": [
        "# Check for duplicates\n",
        "print(f'There are {data.duplicated().sum()} duplicates.')\n",
        "\n",
        "# Remove duplicates\n",
        "data.drop_duplicates(inplace=True)\n",
        "print('All duplicates have been removed.')"
      ]
    },
    {
      "cell_type": "code",
      "execution_count": null,
      "metadata": {
        "colab": {
          "base_uri": "https://localhost:8080/"
        },
        "id": "Wfb43GinFspb",
        "outputId": "093b5253-c3e2-4b04-d13d-712ab946b467"
      },
      "outputs": [
        {
          "output_type": "stream",
          "name": "stdout",
          "text": [
            "Missing values present in dataset: False\n"
          ]
        }
      ],
      "source": [
        "# Check for missing values\n",
        "print(f'Missing values present in dataset: {data.isna().any().any()}')"
      ]
    },
    {
      "cell_type": "code",
      "execution_count": null,
      "metadata": {
        "colab": {
          "base_uri": "https://localhost:8080/"
        },
        "id": "KW8bJJoEErIP",
        "outputId": "e965d457-dfda-4745-8e4e-e2749685e1c9"
      },
      "outputs": [
        {
          "output_type": "execute_result",
          "data": {
            "text/plain": [
              "Index(['time', 'v1', 'v2', 'v3', 'v4', 'v5', 'v6', 'v7', 'v8', 'v9', 'v10',\n",
              "       'v11', 'v12', 'v13', 'v14', 'v15', 'v16', 'v17', 'v18', 'v19', 'v20',\n",
              "       'v21', 'v22', 'v23', 'v24', 'v25', 'v26', 'v27', 'v28', 'amount',\n",
              "       'class'],\n",
              "      dtype='object')"
            ]
          },
          "metadata": {},
          "execution_count": 9
        }
      ],
      "source": [
        "# Change all column names to lowercase\n",
        "data.columns = data.columns.str.lower()\n",
        "data.columns"
      ]
    },
    {
      "cell_type": "code",
      "execution_count": null,
      "metadata": {
        "id": "EeZDvaPbLfD1"
      },
      "outputs": [],
      "source": [
        "# Drop unneccessary columns\n",
        "data.drop(['time'], axis=1, inplace=True)"
      ]
    },
    {
      "cell_type": "code",
      "execution_count": null,
      "metadata": {
        "id": "kxUbYi4iGnD_"
      },
      "outputs": [],
      "source": [
        "df = data.copy()"
      ]
    },
    {
      "cell_type": "markdown",
      "metadata": {
        "id": "OJSsQPs4Gj35"
      },
      "source": [
        "## 📊 EDA: Cleaned data"
      ]
    },
    {
      "cell_type": "markdown",
      "metadata": {
        "id": "50wlDK2sG0GC"
      },
      "source": [
        "### Target Variable : Check for Class Imbalance"
      ]
    },
    {
      "cell_type": "code",
      "execution_count": null,
      "metadata": {
        "colab": {
          "base_uri": "https://localhost:8080/",
          "height": 112
        },
        "id": "hB1vxQrUHitM",
        "outputId": "488fd7c4-46f3-49d3-8190-500caf862c5a"
      },
      "outputs": [
        {
          "output_type": "execute_result",
          "data": {
            "text/plain": [
              "   class   count\n",
              "0      0  283253\n",
              "1      1     473"
            ],
            "text/html": [
              "\n",
              "  <div id=\"df-ef36a959-ac2c-4a81-bf68-e785388033bb\" class=\"colab-df-container\">\n",
              "    <div>\n",
              "<style scoped>\n",
              "    .dataframe tbody tr th:only-of-type {\n",
              "        vertical-align: middle;\n",
              "    }\n",
              "\n",
              "    .dataframe tbody tr th {\n",
              "        vertical-align: top;\n",
              "    }\n",
              "\n",
              "    .dataframe thead th {\n",
              "        text-align: right;\n",
              "    }\n",
              "</style>\n",
              "<table border=\"1\" class=\"dataframe\">\n",
              "  <thead>\n",
              "    <tr style=\"text-align: right;\">\n",
              "      <th></th>\n",
              "      <th>class</th>\n",
              "      <th>count</th>\n",
              "    </tr>\n",
              "  </thead>\n",
              "  <tbody>\n",
              "    <tr>\n",
              "      <th>0</th>\n",
              "      <td>0</td>\n",
              "      <td>283253</td>\n",
              "    </tr>\n",
              "    <tr>\n",
              "      <th>1</th>\n",
              "      <td>1</td>\n",
              "      <td>473</td>\n",
              "    </tr>\n",
              "  </tbody>\n",
              "</table>\n",
              "</div>\n",
              "    <div class=\"colab-df-buttons\">\n",
              "\n",
              "  <div class=\"colab-df-container\">\n",
              "    <button class=\"colab-df-convert\" onclick=\"convertToInteractive('df-ef36a959-ac2c-4a81-bf68-e785388033bb')\"\n",
              "            title=\"Convert this dataframe to an interactive table.\"\n",
              "            style=\"display:none;\">\n",
              "\n",
              "  <svg xmlns=\"http://www.w3.org/2000/svg\" height=\"24px\" viewBox=\"0 -960 960 960\">\n",
              "    <path d=\"M120-120v-720h720v720H120Zm60-500h600v-160H180v160Zm220 220h160v-160H400v160Zm0 220h160v-160H400v160ZM180-400h160v-160H180v160Zm440 0h160v-160H620v160ZM180-180h160v-160H180v160Zm440 0h160v-160H620v160Z\"/>\n",
              "  </svg>\n",
              "    </button>\n",
              "\n",
              "  <style>\n",
              "    .colab-df-container {\n",
              "      display:flex;\n",
              "      gap: 12px;\n",
              "    }\n",
              "\n",
              "    .colab-df-convert {\n",
              "      background-color: #E8F0FE;\n",
              "      border: none;\n",
              "      border-radius: 50%;\n",
              "      cursor: pointer;\n",
              "      display: none;\n",
              "      fill: #1967D2;\n",
              "      height: 32px;\n",
              "      padding: 0 0 0 0;\n",
              "      width: 32px;\n",
              "    }\n",
              "\n",
              "    .colab-df-convert:hover {\n",
              "      background-color: #E2EBFA;\n",
              "      box-shadow: 0px 1px 2px rgba(60, 64, 67, 0.3), 0px 1px 3px 1px rgba(60, 64, 67, 0.15);\n",
              "      fill: #174EA6;\n",
              "    }\n",
              "\n",
              "    .colab-df-buttons div {\n",
              "      margin-bottom: 4px;\n",
              "    }\n",
              "\n",
              "    [theme=dark] .colab-df-convert {\n",
              "      background-color: #3B4455;\n",
              "      fill: #D2E3FC;\n",
              "    }\n",
              "\n",
              "    [theme=dark] .colab-df-convert:hover {\n",
              "      background-color: #434B5C;\n",
              "      box-shadow: 0px 1px 3px 1px rgba(0, 0, 0, 0.15);\n",
              "      filter: drop-shadow(0px 1px 2px rgba(0, 0, 0, 0.3));\n",
              "      fill: #FFFFFF;\n",
              "    }\n",
              "  </style>\n",
              "\n",
              "    <script>\n",
              "      const buttonEl =\n",
              "        document.querySelector('#df-ef36a959-ac2c-4a81-bf68-e785388033bb button.colab-df-convert');\n",
              "      buttonEl.style.display =\n",
              "        google.colab.kernel.accessAllowed ? 'block' : 'none';\n",
              "\n",
              "      async function convertToInteractive(key) {\n",
              "        const element = document.querySelector('#df-ef36a959-ac2c-4a81-bf68-e785388033bb');\n",
              "        const dataTable =\n",
              "          await google.colab.kernel.invokeFunction('convertToInteractive',\n",
              "                                                    [key], {});\n",
              "        if (!dataTable) return;\n",
              "\n",
              "        const docLinkHtml = 'Like what you see? Visit the ' +\n",
              "          '<a target=\"_blank\" href=https://colab.research.google.com/notebooks/data_table.ipynb>data table notebook</a>'\n",
              "          + ' to learn more about interactive tables.';\n",
              "        element.innerHTML = '';\n",
              "        dataTable['output_type'] = 'display_data';\n",
              "        await google.colab.output.renderOutput(dataTable, element);\n",
              "        const docLink = document.createElement('div');\n",
              "        docLink.innerHTML = docLinkHtml;\n",
              "        element.appendChild(docLink);\n",
              "      }\n",
              "    </script>\n",
              "  </div>\n",
              "\n",
              "\n",
              "<div id=\"df-f86155e9-27f9-46a5-b3cb-f49c6788cd19\">\n",
              "  <button class=\"colab-df-quickchart\" onclick=\"quickchart('df-f86155e9-27f9-46a5-b3cb-f49c6788cd19')\"\n",
              "            title=\"Suggest charts\"\n",
              "            style=\"display:none;\">\n",
              "\n",
              "<svg xmlns=\"http://www.w3.org/2000/svg\" height=\"24px\"viewBox=\"0 0 24 24\"\n",
              "     width=\"24px\">\n",
              "    <g>\n",
              "        <path d=\"M19 3H5c-1.1 0-2 .9-2 2v14c0 1.1.9 2 2 2h14c1.1 0 2-.9 2-2V5c0-1.1-.9-2-2-2zM9 17H7v-7h2v7zm4 0h-2V7h2v10zm4 0h-2v-4h2v4z\"/>\n",
              "    </g>\n",
              "</svg>\n",
              "  </button>\n",
              "\n",
              "<style>\n",
              "  .colab-df-quickchart {\n",
              "      --bg-color: #E8F0FE;\n",
              "      --fill-color: #1967D2;\n",
              "      --hover-bg-color: #E2EBFA;\n",
              "      --hover-fill-color: #174EA6;\n",
              "      --disabled-fill-color: #AAA;\n",
              "      --disabled-bg-color: #DDD;\n",
              "  }\n",
              "\n",
              "  [theme=dark] .colab-df-quickchart {\n",
              "      --bg-color: #3B4455;\n",
              "      --fill-color: #D2E3FC;\n",
              "      --hover-bg-color: #434B5C;\n",
              "      --hover-fill-color: #FFFFFF;\n",
              "      --disabled-bg-color: #3B4455;\n",
              "      --disabled-fill-color: #666;\n",
              "  }\n",
              "\n",
              "  .colab-df-quickchart {\n",
              "    background-color: var(--bg-color);\n",
              "    border: none;\n",
              "    border-radius: 50%;\n",
              "    cursor: pointer;\n",
              "    display: none;\n",
              "    fill: var(--fill-color);\n",
              "    height: 32px;\n",
              "    padding: 0;\n",
              "    width: 32px;\n",
              "  }\n",
              "\n",
              "  .colab-df-quickchart:hover {\n",
              "    background-color: var(--hover-bg-color);\n",
              "    box-shadow: 0 1px 2px rgba(60, 64, 67, 0.3), 0 1px 3px 1px rgba(60, 64, 67, 0.15);\n",
              "    fill: var(--button-hover-fill-color);\n",
              "  }\n",
              "\n",
              "  .colab-df-quickchart-complete:disabled,\n",
              "  .colab-df-quickchart-complete:disabled:hover {\n",
              "    background-color: var(--disabled-bg-color);\n",
              "    fill: var(--disabled-fill-color);\n",
              "    box-shadow: none;\n",
              "  }\n",
              "\n",
              "  .colab-df-spinner {\n",
              "    border: 2px solid var(--fill-color);\n",
              "    border-color: transparent;\n",
              "    border-bottom-color: var(--fill-color);\n",
              "    animation:\n",
              "      spin 1s steps(1) infinite;\n",
              "  }\n",
              "\n",
              "  @keyframes spin {\n",
              "    0% {\n",
              "      border-color: transparent;\n",
              "      border-bottom-color: var(--fill-color);\n",
              "      border-left-color: var(--fill-color);\n",
              "    }\n",
              "    20% {\n",
              "      border-color: transparent;\n",
              "      border-left-color: var(--fill-color);\n",
              "      border-top-color: var(--fill-color);\n",
              "    }\n",
              "    30% {\n",
              "      border-color: transparent;\n",
              "      border-left-color: var(--fill-color);\n",
              "      border-top-color: var(--fill-color);\n",
              "      border-right-color: var(--fill-color);\n",
              "    }\n",
              "    40% {\n",
              "      border-color: transparent;\n",
              "      border-right-color: var(--fill-color);\n",
              "      border-top-color: var(--fill-color);\n",
              "    }\n",
              "    60% {\n",
              "      border-color: transparent;\n",
              "      border-right-color: var(--fill-color);\n",
              "    }\n",
              "    80% {\n",
              "      border-color: transparent;\n",
              "      border-right-color: var(--fill-color);\n",
              "      border-bottom-color: var(--fill-color);\n",
              "    }\n",
              "    90% {\n",
              "      border-color: transparent;\n",
              "      border-bottom-color: var(--fill-color);\n",
              "    }\n",
              "  }\n",
              "</style>\n",
              "\n",
              "  <script>\n",
              "    async function quickchart(key) {\n",
              "      const quickchartButtonEl =\n",
              "        document.querySelector('#' + key + ' button');\n",
              "      quickchartButtonEl.disabled = true;  // To prevent multiple clicks.\n",
              "      quickchartButtonEl.classList.add('colab-df-spinner');\n",
              "      try {\n",
              "        const charts = await google.colab.kernel.invokeFunction(\n",
              "            'suggestCharts', [key], {});\n",
              "      } catch (error) {\n",
              "        console.error('Error during call to suggestCharts:', error);\n",
              "      }\n",
              "      quickchartButtonEl.classList.remove('colab-df-spinner');\n",
              "      quickchartButtonEl.classList.add('colab-df-quickchart-complete');\n",
              "    }\n",
              "    (() => {\n",
              "      let quickchartButtonEl =\n",
              "        document.querySelector('#df-f86155e9-27f9-46a5-b3cb-f49c6788cd19 button');\n",
              "      quickchartButtonEl.style.display =\n",
              "        google.colab.kernel.accessAllowed ? 'block' : 'none';\n",
              "    })();\n",
              "  </script>\n",
              "</div>\n",
              "\n",
              "    </div>\n",
              "  </div>\n"
            ],
            "application/vnd.google.colaboratory.intrinsic+json": {
              "type": "dataframe",
              "summary": "{\n  \"name\": \"df['class']\",\n  \"rows\": 2,\n  \"fields\": [\n    {\n      \"column\": \"class\",\n      \"properties\": {\n        \"dtype\": \"number\",\n        \"std\": 0,\n        \"min\": 0,\n        \"max\": 1,\n        \"num_unique_values\": 2,\n        \"samples\": [\n          1,\n          0\n        ],\n        \"semantic_type\": \"\",\n        \"description\": \"\"\n      }\n    },\n    {\n      \"column\": \"count\",\n      \"properties\": {\n        \"dtype\": \"number\",\n        \"std\": 199955,\n        \"min\": 473,\n        \"max\": 283253,\n        \"num_unique_values\": 2,\n        \"samples\": [\n          473,\n          283253\n        ],\n        \"semantic_type\": \"\",\n        \"description\": \"\"\n      }\n    }\n  ]\n}"
            }
          },
          "metadata": {},
          "execution_count": 12
        }
      ],
      "source": [
        "df['class'].value_counts().reset_index()"
      ]
    },
    {
      "cell_type": "code",
      "execution_count": null,
      "metadata": {
        "colab": {
          "base_uri": "https://localhost:8080/",
          "height": 367
        },
        "id": "jCvgNEQZGt_4",
        "outputId": "c36f58a7-7fba-4d82-daf5-7601694a676a"
      },
      "outputs": [
        {
          "output_type": "display_data",
          "data": {
            "text/plain": [
              "<Figure size 600x400 with 1 Axes>"
            ],
            "image/png": "[encoded data removed]"
          },
          "metadata": {}
        }
      ],
      "source": [
        "## Create a pie plot to show the distribution of the class label\n",
        "plt.figure(figsize=(6,4))\n",
        "plt.pie(df['class'].value_counts(), labels=['Legitimate', 'Fraud' ], autopct='%1.1f%%', colors=['green', 'red'])\n",
        "plt.title('Distribution of Class Label')\n",
        "plt.show()"
      ]
    },
    {
      "cell_type": "markdown",
      "metadata": {
        "id": "6AAf05pkCAeN"
      },
      "source": [
        "#### 🔍 Observations\n",
        "\n",
        "Because of the substantial class imbalance, we will explore resampling methods to address it."
      ]
    },
    {
      "cell_type": "markdown",
      "metadata": {
        "id": "zFrcoQ-uK0xU"
      },
      "source": [
        "# ➗ Data Splitting"
      ]
    },
    {
      "cell_type": "code",
      "execution_count": null,
      "metadata": {
        "id": "1A9hiS7zK28v"
      },
      "outputs": [],
      "source": [
        "# Define X and y\n",
        "X = df.drop('class', axis=1)\n",
        "y = df['class']"
      ]
    },
    {
      "cell_type": "code",
      "execution_count": null,
      "metadata": {
        "id": "SibKmVbeLW-K"
      },
      "outputs": [],
      "source": [
        "X_train, X_test, y_train, y_test = train_test_split(X, y, test_size=0.2, random_state=42, stratify=y)"
      ]
    },
    {
      "cell_type": "markdown",
      "source": [
        "# 🛠️ Data Preprocessing"
      ],
      "metadata": {
        "id": "1qYaa_R2Okaf"
      }
    },
    {
      "cell_type": "code",
      "source": [
        "# Instantiate a scaler object\n",
        "scaler = StandardScaler()"
      ],
      "metadata": {
        "id": "g-EOQEqePSxS"
      },
      "execution_count": null,
      "outputs": []
    },
    {
      "cell_type": "code",
      "source": [
        "# Normalize the training and test feature sets to improve model performance\n",
        "X_train_scaled = scaler.fit_transform(X_train)\n",
        "X_test_scaled = scaler.transform(X_test)"
      ],
      "metadata": {
        "id": "9lxz43y6OoPt"
      },
      "execution_count": null,
      "outputs": []
    },
    {
      "cell_type": "markdown",
      "metadata": {
        "id": "-wfPmNnoM6mR"
      },
      "source": [
        "# 🧱✔️Model Building (Training & Evaluation)"
      ]
    },
    {
      "cell_type": "code",
      "execution_count": null,
      "metadata": {
        "id": "yevk4sqI1lkR"
      },
      "outputs": [],
      "source": [
        "def build_and_evaluate_model(model, train_X, train_y, test_X, test_y, technique, threshold=None):\n",
        "  model.fit(train_X, train_y)\n",
        "\n",
        "  if threshold == None:\n",
        "      # Make predictions\n",
        "    y_pred = model.predict(test_X)\n",
        "  else:\n",
        "    y_pred_proba = model.predict_proba(test_X)[:, 1]  # Get fraud class probability\n",
        "    y_pred = (y_pred_proba >= threshold).astype(int)\n",
        "\n",
        "  # Create classification report\n",
        "  print(f'Classification Report: {technique} \\n')\n",
        "  print(classification_report(test_y, y_pred, target_names=['legit', 'fraud']))\n",
        "\n",
        "  # Create confusion matrix\n",
        "  cm = confusion_matrix(test_y, y_pred)\n",
        "  plt.figure(figsize=(3,3))\n",
        "  sns.heatmap(cm, annot=True, fmt='d', cmap='Blues', xticklabels=['Legit', 'Fraud'], yticklabels=['Legit', 'Fraud'],cbar=False) # format=decimal\n",
        "  plt.xlabel('Predicted_Labels'),\n",
        "  plt.ylabel('Actual_Labels')\n",
        "  plt.xticks(fontsize=10)\n",
        "  plt.yticks(fontsize=10)\n",
        "  plt.title('Confusion Matrix')\n",
        "  plt.show()"
      ]
    },
    {
      "cell_type": "markdown",
      "metadata": {
        "id": "WQBjJeQ4NAqY"
      },
      "source": [
        "## Baseline model"
      ]
    },
    {
      "cell_type": "code",
      "execution_count": null,
      "metadata": {
        "id": "mGQNqhU71dQE"
      },
      "outputs": [],
      "source": [
        "#logit= LogisticRegression(max_iter=1000, random_state=42)\n",
        "logit= LogisticRegression(max_iter=1000, random_state=42)"
      ]
    },
    {
      "cell_type": "code",
      "execution_count": null,
      "metadata": {
        "colab": {
          "base_uri": "https://localhost:8080/",
          "height": 524
        },
        "id": "Ip9-KO7M1oBB",
        "outputId": "e753e2ce-c3c4-4058-e85a-1cc50ec1ed6d"
      },
      "outputs": [
        {
          "output_type": "stream",
          "name": "stdout",
          "text": [
            "Classification Report: Baseline \n",
            "\n",
            "              precision    recall  f1-score   support\n",
            "\n",
            "       legit       1.00      1.00      1.00     56651\n",
            "       fraud       0.85      0.58      0.69        95\n",
            "\n",
            "    accuracy                           1.00     56746\n",
            "   macro avg       0.92      0.79      0.84     56746\n",
            "weighted avg       1.00      1.00      1.00     56746\n",
            "\n"
          ]
        },
        {
          "output_type": "display_data",
          "data": {
            "text/plain": [
              "<Figure size 300x300 with 1 Axes>"
            ],
            "image/png": "[encoded data removed]"
          },
          "metadata": {}
        }
      ],
      "source": [
        "build_and_evaluate_model(logit, X_train_scaled, y_train, X_test_scaled, y_test, 'Baseline')"
      ]
    },
    {
      "cell_type": "markdown",
      "metadata": {
        "id": "UXAJpTMXOiaD"
      },
      "source": [
        "### 🔍 Observations\n",
        "\n",
        "* We achieve 100% accuracy, but given the class imbalance, `accuracy_score` is not the most reliable metric.\n",
        "\n",
        "* **Precision for fraud** : Out of all the transactions the model flagged as fraudulent, 85% were indeed fraudulent. This indicates that the model is good at avoiding false positives - it's reliable in the sense that when it says something is fraud, it most likely is.\n",
        "\n",
        "* **Recall for fraud** : The model catches 58% of all actual fraud case. 42% of fraud transactions are undetected by the model."
      ]
    },
    {
      "cell_type": "markdown",
      "metadata": {
        "id": "HtLWkmwjkOJz"
      },
      "source": [
        "* TN = 56641 transactions that are actually legit was also flagged by the model as legit.\n",
        "* FP = 10. The model incorrectly flagged 10 Legit transactions as fraud.\n",
        "* <font color=firebrick>FN = 40. The model incorrectly flagged 40 Fraudulent transactions as legit.</font>\n",
        "* TP = 55 transactions that are actually fraud was also flagged by the model as fraud."
      ]
    },
    {
      "cell_type": "markdown",
      "metadata": {
        "id": "rnHDEK7czb89"
      },
      "source": [
        "**Our goal is to have ths FNs (misclassified fraud) as low as possible while maintaining a balance in Precision. If we miss the opportunity to detect fraud, it could lead to large losses.**"
      ]
    },
    {
      "cell_type": "markdown",
      "metadata": {
        "id": "vVX75OY1M_8E"
      },
      "source": [
        "## 📈 Optimising model performance by addressing class imbalance"
      ]
    },
    {
      "cell_type": "markdown",
      "metadata": {
        "id": "Zqe1VVFEJuJL"
      },
      "source": [
        "###Resampling technique : Oversampling (RandomOverSampler)"
      ]
    },
    {
      "cell_type": "code",
      "execution_count": null,
      "metadata": {
        "id": "3Sub_2EODBkm"
      },
      "outputs": [],
      "source": [
        "ros = RandomOverSampler(random_state=42)"
      ]
    },
    {
      "cell_type": "code",
      "execution_count": null,
      "metadata": {
        "id": "9tSzoSHEJ1TZ"
      },
      "outputs": [],
      "source": [
        "# Resample training data\n",
        "X_resampled_ros, y_resampled_ros = ros.fit_resample(X_train_scaled, y_train)"
      ]
    },
    {
      "cell_type": "code",
      "execution_count": null,
      "metadata": {
        "colab": {
          "base_uri": "https://localhost:8080/",
          "height": 367
        },
        "id": "TEaPClVlKZAV",
        "outputId": "05118bed-67d3-4f37-a6e7-58d131e35977"
      },
      "outputs": [
        {
          "output_type": "display_data",
          "data": {
            "text/plain": [
              "<Figure size 600x400 with 1 Axes>"
            ],
            "image/png": "[encoded data removed]"
          },
          "metadata": {}
        }
      ],
      "source": [
        "## Create a pie plot to show the distribution of the class label\n",
        "plt.figure(figsize=(6,4))\n",
        "plt.pie(y_resampled_ros.value_counts(), labels=['Legitimate', 'Fraud' ], autopct='%1.1f%%', colors=['green', 'red'])\n",
        "plt.title('Distribution of Class Label')\n",
        "plt.show()"
      ]
    },
    {
      "cell_type": "code",
      "execution_count": null,
      "metadata": {
        "colab": {
          "base_uri": "https://localhost:8080/",
          "height": 524
        },
        "id": "ipV480Jnx5B8",
        "outputId": "242e6e07-8195-4684-80c5-b27b1557821c"
      },
      "outputs": [
        {
          "output_type": "stream",
          "name": "stdout",
          "text": [
            "Classification Report: RandomOverSampler \n",
            "\n",
            "              precision    recall  f1-score   support\n",
            "\n",
            "       legit       1.00      0.98      0.99     56651\n",
            "       fraud       0.06      0.87      0.11        95\n",
            "\n",
            "    accuracy                           0.98     56746\n",
            "   macro avg       0.53      0.92      0.55     56746\n",
            "weighted avg       1.00      0.98      0.99     56746\n",
            "\n"
          ]
        },
        {
          "output_type": "display_data",
          "data": {
            "text/plain": [
              "<Figure size 300x300 with 1 Axes>"
            ],
            "image/png": "[encoded data removed]"
          },
          "metadata": {}
        }
      ],
      "source": [
        "build_and_evaluate_model(logit, X_resampled_ros, y_resampled_ros, X_test_scaled, y_test, 'RandomOverSampler')"
      ]
    },
    {
      "cell_type": "markdown",
      "metadata": {
        "id": "oJ1eqHOhJq42"
      },
      "source": [
        "#### 🔍 Observations\n",
        "\n",
        "Appling the **RandomOverSampler** decreased our False Negatives (less missclassified fraud transactions) but at the same time we have significantly more False Positives which is not good for the overall performance of the model as reflected in the very low Precision of 6% and as an extension the f1-score of 11%."
      ]
    },
    {
      "cell_type": "markdown",
      "metadata": {
        "id": "d4t7EDjpPreH"
      },
      "source": [
        "###Resampling technique : Oversampling (SMOTE)"
      ]
    },
    {
      "cell_type": "code",
      "execution_count": null,
      "metadata": {
        "id": "LZTMFgOF79kp"
      },
      "outputs": [],
      "source": [
        "smote = SMOTE(random_state=42)"
      ]
    },
    {
      "cell_type": "code",
      "execution_count": null,
      "metadata": {
        "id": "Cb2gKfjQPqiJ"
      },
      "outputs": [],
      "source": [
        "# Resample training data\n",
        "X_resampled_sm, y_resampled_sm = smote.fit_resample(X_train_scaled, y_train)"
      ]
    },
    {
      "cell_type": "code",
      "execution_count": null,
      "metadata": {
        "colab": {
          "base_uri": "https://localhost:8080/",
          "height": 112
        },
        "id": "99KLuFytP1Nv",
        "outputId": "e9df53f0-2be3-4d47-ff6d-e42cd4e6f7d3"
      },
      "outputs": [
        {
          "output_type": "execute_result",
          "data": {
            "text/plain": [
              "   class   count\n",
              "0      0  226602\n",
              "1      1  226602"
            ],
            "text/html": [
              "\n",
              "  <div id=\"df-3ef55615-1393-4a24-97b7-6ad0b3907c91\" class=\"colab-df-container\">\n",
              "    <div>\n",
              "<style scoped>\n",
              "    .dataframe tbody tr th:only-of-type {\n",
              "        vertical-align: middle;\n",
              "    }\n",
              "\n",
              "    .dataframe tbody tr th {\n",
              "        vertical-align: top;\n",
              "    }\n",
              "\n",
              "    .dataframe thead th {\n",
              "        text-align: right;\n",
              "    }\n",
              "</style>\n",
              "<table border=\"1\" class=\"dataframe\">\n",
              "  <thead>\n",
              "    <tr style=\"text-align: right;\">\n",
              "      <th></th>\n",
              "      <th>class</th>\n",
              "      <th>count</th>\n",
              "    </tr>\n",
              "  </thead>\n",
              "  <tbody>\n",
              "    <tr>\n",
              "      <th>0</th>\n",
              "      <td>0</td>\n",
              "      <td>226602</td>\n",
              "    </tr>\n",
              "    <tr>\n",
              "      <th>1</th>\n",
              "      <td>1</td>\n",
              "      <td>226602</td>\n",
              "    </tr>\n",
              "  </tbody>\n",
              "</table>\n",
              "</div>\n",
              "    <div class=\"colab-df-buttons\">\n",
              "\n",
              "  <div class=\"colab-df-container\">\n",
              "    <button class=\"colab-df-convert\" onclick=\"convertToInteractive('df-3ef55615-1393-4a24-97b7-6ad0b3907c91')\"\n",
              "            title=\"Convert this dataframe to an interactive table.\"\n",
              "            style=\"display:none;\">\n",
              "\n",
              "  <svg xmlns=\"http://www.w3.org/2000/svg\" height=\"24px\" viewBox=\"0 -960 960 960\">\n",
              "    <path d=\"M120-120v-720h720v720H120Zm60-500h600v-160H180v160Zm220 220h160v-160H400v160Zm0 220h160v-160H400v160ZM180-400h160v-160H180v160Zm440 0h160v-160H620v160ZM180-180h160v-160H180v160Zm440 0h160v-160H620v160Z\"/>\n",
              "  </svg>\n",
              "    </button>\n",
              "\n",
              "  <style>\n",
              "    .colab-df-container {\n",
              "      display:flex;\n",
              "      gap: 12px;\n",
              "    }\n",
              "\n",
              "    .colab-df-convert {\n",
              "      background-color: #E8F0FE;\n",
              "      border: none;\n",
              "      border-radius: 50%;\n",
              "      cursor: pointer;\n",
              "      display: none;\n",
              "      fill: #1967D2;\n",
              "      height: 32px;\n",
              "      padding: 0 0 0 0;\n",
              "      width: 32px;\n",
              "    }\n",
              "\n",
              "    .colab-df-convert:hover {\n",
              "      background-color: #E2EBFA;\n",
              "      box-shadow: 0px 1px 2px rgba(60, 64, 67, 0.3), 0px 1px 3px 1px rgba(60, 64, 67, 0.15);\n",
              "      fill: #174EA6;\n",
              "    }\n",
              "\n",
              "    .colab-df-buttons div {\n",
              "      margin-bottom: 4px;\n",
              "    }\n",
              "\n",
              "    [theme=dark] .colab-df-convert {\n",
              "      background-color: #3B4455;\n",
              "      fill: #D2E3FC;\n",
              "    }\n",
              "\n",
              "    [theme=dark] .colab-df-convert:hover {\n",
              "      background-color: #434B5C;\n",
              "      box-shadow: 0px 1px 3px 1px rgba(0, 0, 0, 0.15);\n",
              "      filter: drop-shadow(0px 1px 2px rgba(0, 0, 0, 0.3));\n",
              "      fill: #FFFFFF;\n",
              "    }\n",
              "  </style>\n",
              "\n",
              "    <script>\n",
              "      const buttonEl =\n",
              "        document.querySelector('#df-3ef55615-1393-4a24-97b7-6ad0b3907c91 button.colab-df-convert');\n",
              "      buttonEl.style.display =\n",
              "        google.colab.kernel.accessAllowed ? 'block' : 'none';\n",
              "\n",
              "      async function convertToInteractive(key) {\n",
              "        const element = document.querySelector('#df-3ef55615-1393-4a24-97b7-6ad0b3907c91');\n",
              "        const dataTable =\n",
              "          await google.colab.kernel.invokeFunction('convertToInteractive',\n",
              "                                                    [key], {});\n",
              "        if (!dataTable) return;\n",
              "\n",
              "        const docLinkHtml = 'Like what you see? Visit the ' +\n",
              "          '<a target=\"_blank\" href=https://colab.research.google.com/notebooks/data_table.ipynb>data table notebook</a>'\n",
              "          + ' to learn more about interactive tables.';\n",
              "        element.innerHTML = '';\n",
              "        dataTable['output_type'] = 'display_data';\n",
              "        await google.colab.output.renderOutput(dataTable, element);\n",
              "        const docLink = document.createElement('div');\n",
              "        docLink.innerHTML = docLinkHtml;\n",
              "        element.appendChild(docLink);\n",
              "      }\n",
              "    </script>\n",
              "  </div>\n",
              "\n",
              "\n",
              "<div id=\"df-26b881fd-e287-45fe-8fdd-21b11185258d\">\n",
              "  <button class=\"colab-df-quickchart\" onclick=\"quickchart('df-26b881fd-e287-45fe-8fdd-21b11185258d')\"\n",
              "            title=\"Suggest charts\"\n",
              "            style=\"display:none;\">\n",
              "\n",
              "<svg xmlns=\"http://www.w3.org/2000/svg\" height=\"24px\"viewBox=\"0 0 24 24\"\n",
              "     width=\"24px\">\n",
              "    <g>\n",
              "        <path d=\"M19 3H5c-1.1 0-2 .9-2 2v14c0 1.1.9 2 2 2h14c1.1 0 2-.9 2-2V5c0-1.1-.9-2-2-2zM9 17H7v-7h2v7zm4 0h-2V7h2v10zm4 0h-2v-4h2v4z\"/>\n",
              "    </g>\n",
              "</svg>\n",
              "  </button>\n",
              "\n",
              "<style>\n",
              "  .colab-df-quickchart {\n",
              "      --bg-color: #E8F0FE;\n",
              "      --fill-color: #1967D2;\n",
              "      --hover-bg-color: #E2EBFA;\n",
              "      --hover-fill-color: #174EA6;\n",
              "      --disabled-fill-color: #AAA;\n",
              "      --disabled-bg-color: #DDD;\n",
              "  }\n",
              "\n",
              "  [theme=dark] .colab-df-quickchart {\n",
              "      --bg-color: #3B4455;\n",
              "      --fill-color: #D2E3FC;\n",
              "      --hover-bg-color: #434B5C;\n",
              "      --hover-fill-color: #FFFFFF;\n",
              "      --disabled-bg-color: #3B4455;\n",
              "      --disabled-fill-color: #666;\n",
              "  }\n",
              "\n",
              "  .colab-df-quickchart {\n",
              "    background-color: var(--bg-color);\n",
              "    border: none;\n",
              "    border-radius: 50%;\n",
              "    cursor: pointer;\n",
              "    display: none;\n",
              "    fill: var(--fill-color);\n",
              "    height: 32px;\n",
              "    padding: 0;\n",
              "    width: 32px;\n",
              "  }\n",
              "\n",
              "  .colab-df-quickchart:hover {\n",
              "    background-color: var(--hover-bg-color);\n",
              "    box-shadow: 0 1px 2px rgba(60, 64, 67, 0.3), 0 1px 3px 1px rgba(60, 64, 67, 0.15);\n",
              "    fill: var(--button-hover-fill-color);\n",
              "  }\n",
              "\n",
              "  .colab-df-quickchart-complete:disabled,\n",
              "  .colab-df-quickchart-complete:disabled:hover {\n",
              "    background-color: var(--disabled-bg-color);\n",
              "    fill: var(--disabled-fill-color);\n",
              "    box-shadow: none;\n",
              "  }\n",
              "\n",
              "  .colab-df-spinner {\n",
              "    border: 2px solid var(--fill-color);\n",
              "    border-color: transparent;\n",
              "    border-bottom-color: var(--fill-color);\n",
              "    animation:\n",
              "      spin 1s steps(1) infinite;\n",
              "  }\n",
              "\n",
              "  @keyframes spin {\n",
              "    0% {\n",
              "      border-color: transparent;\n",
              "      border-bottom-color: var(--fill-color);\n",
              "      border-left-color: var(--fill-color);\n",
              "    }\n",
              "    20% {\n",
              "      border-color: transparent;\n",
              "      border-left-color: var(--fill-color);\n",
              "      border-top-color: var(--fill-color);\n",
              "    }\n",
              "    30% {\n",
              "      border-color: transparent;\n",
              "      border-left-color: var(--fill-color);\n",
              "      border-top-color: var(--fill-color);\n",
              "      border-right-color: var(--fill-color);\n",
              "    }\n",
              "    40% {\n",
              "      border-color: transparent;\n",
              "      border-right-color: var(--fill-color);\n",
              "      border-top-color: var(--fill-color);\n",
              "    }\n",
              "    60% {\n",
              "      border-color: transparent;\n",
              "      border-right-color: var(--fill-color);\n",
              "    }\n",
              "    80% {\n",
              "      border-color: transparent;\n",
              "      border-right-color: var(--fill-color);\n",
              "      border-bottom-color: var(--fill-color);\n",
              "    }\n",
              "    90% {\n",
              "      border-color: transparent;\n",
              "      border-bottom-color: var(--fill-color);\n",
              "    }\n",
              "  }\n",
              "</style>\n",
              "\n",
              "  <script>\n",
              "    async function quickchart(key) {\n",
              "      const quickchartButtonEl =\n",
              "        document.querySelector('#' + key + ' button');\n",
              "      quickchartButtonEl.disabled = true;  // To prevent multiple clicks.\n",
              "      quickchartButtonEl.classList.add('colab-df-spinner');\n",
              "      try {\n",
              "        const charts = await google.colab.kernel.invokeFunction(\n",
              "            'suggestCharts', [key], {});\n",
              "      } catch (error) {\n",
              "        console.error('Error during call to suggestCharts:', error);\n",
              "      }\n",
              "      quickchartButtonEl.classList.remove('colab-df-spinner');\n",
              "      quickchartButtonEl.classList.add('colab-df-quickchart-complete');\n",
              "    }\n",
              "    (() => {\n",
              "      let quickchartButtonEl =\n",
              "        document.querySelector('#df-26b881fd-e287-45fe-8fdd-21b11185258d button');\n",
              "      quickchartButtonEl.style.display =\n",
              "        google.colab.kernel.accessAllowed ? 'block' : 'none';\n",
              "    })();\n",
              "  </script>\n",
              "</div>\n",
              "\n",
              "    </div>\n",
              "  </div>\n"
            ],
            "application/vnd.google.colaboratory.intrinsic+json": {
              "type": "dataframe",
              "summary": "{\n  \"name\": \"y_resampled_sm\",\n  \"rows\": 2,\n  \"fields\": [\n    {\n      \"column\": \"class\",\n      \"properties\": {\n        \"dtype\": \"number\",\n        \"std\": 0,\n        \"min\": 0,\n        \"max\": 1,\n        \"num_unique_values\": 2,\n        \"samples\": [\n          1,\n          0\n        ],\n        \"semantic_type\": \"\",\n        \"description\": \"\"\n      }\n    },\n    {\n      \"column\": \"count\",\n      \"properties\": {\n        \"dtype\": \"number\",\n        \"std\": 0,\n        \"min\": 226602,\n        \"max\": 226602,\n        \"num_unique_values\": 1,\n        \"samples\": [\n          226602\n        ],\n        \"semantic_type\": \"\",\n        \"description\": \"\"\n      }\n    }\n  ]\n}"
            }
          },
          "metadata": {},
          "execution_count": 27
        }
      ],
      "source": [
        "# Distribution of class labels\n",
        "y_resampled_sm.value_counts().reset_index()"
      ]
    },
    {
      "cell_type": "code",
      "execution_count": null,
      "metadata": {
        "colab": {
          "base_uri": "https://localhost:8080/",
          "height": 524
        },
        "id": "QjFJrg2-ylpg",
        "outputId": "8367f5fb-f110-4d9a-df85-b6b62efeaf0c"
      },
      "outputs": [
        {
          "output_type": "stream",
          "name": "stdout",
          "text": [
            "Classification Report: SMOTE \n",
            "\n",
            "              precision    recall  f1-score   support\n",
            "\n",
            "       legit       1.00      0.97      0.99     56651\n",
            "       fraud       0.05      0.87      0.10        95\n",
            "\n",
            "    accuracy                           0.97     56746\n",
            "   macro avg       0.53      0.92      0.54     56746\n",
            "weighted avg       1.00      0.97      0.99     56746\n",
            "\n"
          ]
        },
        {
          "output_type": "display_data",
          "data": {
            "text/plain": [
              "<Figure size 300x300 with 1 Axes>"
            ],
            "image/png": "[encoded data removed]"
          },
          "metadata": {}
        }
      ],
      "source": [
        "build_and_evaluate_model(logit, X_resampled_sm, y_resampled_sm, X_test_scaled, y_test, 'SMOTE')"
      ]
    },
    {
      "cell_type": "markdown",
      "metadata": {
        "id": "BpCIMzcwrfKF"
      },
      "source": [
        "####🔍 Observations\n",
        "Exhibits similar performance to the implementation with the RandomOverSampler, but with a slight increase in False Positives. The f1_score remains notably low."
      ]
    },
    {
      "cell_type": "markdown",
      "metadata": {
        "id": "XvC073vvWRrg"
      },
      "source": [
        "###Resampling technique : Oversampling (ADASYN)"
      ]
    },
    {
      "cell_type": "code",
      "execution_count": null,
      "metadata": {
        "id": "8BDrpksg7Kbz"
      },
      "outputs": [],
      "source": [
        "adasyn = ADASYN(random_state=42)"
      ]
    },
    {
      "cell_type": "code",
      "execution_count": null,
      "metadata": {
        "id": "7kDK0cYM7Tdx"
      },
      "outputs": [],
      "source": [
        "# Resample training data\n",
        "X_resampled_adsn, y_resampled_adsn = adasyn.fit_resample(X_train_scaled, y_train)"
      ]
    },
    {
      "cell_type": "code",
      "execution_count": null,
      "metadata": {
        "colab": {
          "base_uri": "https://localhost:8080/",
          "height": 112
        },
        "id": "ubbdRwEeGkMg",
        "outputId": "e2453e4a-7502-44a1-cf9c-e30065bf4cf8"
      },
      "outputs": [
        {
          "output_type": "execute_result",
          "data": {
            "text/plain": [
              "   class   count\n",
              "0      1  226618\n",
              "1      0  226602"
            ],
            "text/html": [
              "\n",
              "  <div id=\"df-d339e335-2171-4b29-8ff9-b8f82e31c2ff\" class=\"colab-df-container\">\n",
              "    <div>\n",
              "<style scoped>\n",
              "    .dataframe tbody tr th:only-of-type {\n",
              "        vertical-align: middle;\n",
              "    }\n",
              "\n",
              "    .dataframe tbody tr th {\n",
              "        vertical-align: top;\n",
              "    }\n",
              "\n",
              "    .dataframe thead th {\n",
              "        text-align: right;\n",
              "    }\n",
              "</style>\n",
              "<table border=\"1\" class=\"dataframe\">\n",
              "  <thead>\n",
              "    <tr style=\"text-align: right;\">\n",
              "      <th></th>\n",
              "      <th>class</th>\n",
              "      <th>count</th>\n",
              "    </tr>\n",
              "  </thead>\n",
              "  <tbody>\n",
              "    <tr>\n",
              "      <th>0</th>\n",
              "      <td>1</td>\n",
              "      <td>226618</td>\n",
              "    </tr>\n",
              "    <tr>\n",
              "      <th>1</th>\n",
              "      <td>0</td>\n",
              "      <td>226602</td>\n",
              "    </tr>\n",
              "  </tbody>\n",
              "</table>\n",
              "</div>\n",
              "    <div class=\"colab-df-buttons\">\n",
              "\n",
              "  <div class=\"colab-df-container\">\n",
              "    <button class=\"colab-df-convert\" onclick=\"convertToInteractive('df-d339e335-2171-4b29-8ff9-b8f82e31c2ff')\"\n",
              "            title=\"Convert this dataframe to an interactive table.\"\n",
              "            style=\"display:none;\">\n",
              "\n",
              "  <svg xmlns=\"http://www.w3.org/2000/svg\" height=\"24px\" viewBox=\"0 -960 960 960\">\n",
              "    <path d=\"M120-120v-720h720v720H120Zm60-500h600v-160H180v160Zm220 220h160v-160H400v160Zm0 220h160v-160H400v160ZM180-400h160v-160H180v160Zm440 0h160v-160H620v160ZM180-180h160v-160H180v160Zm440 0h160v-160H620v160Z\"/>\n",
              "  </svg>\n",
              "    </button>\n",
              "\n",
              "  <style>\n",
              "    .colab-df-container {\n",
              "      display:flex;\n",
              "      gap: 12px;\n",
              "    }\n",
              "\n",
              "    .colab-df-convert {\n",
              "      background-color: #E8F0FE;\n",
              "      border: none;\n",
              "      border-radius: 50%;\n",
              "      cursor: pointer;\n",
              "      display: none;\n",
              "      fill: #1967D2;\n",
              "      height: 32px;\n",
              "      padding: 0 0 0 0;\n",
              "      width: 32px;\n",
              "    }\n",
              "\n",
              "    .colab-df-convert:hover {\n",
              "      background-color: #E2EBFA;\n",
              "      box-shadow: 0px 1px 2px rgba(60, 64, 67, 0.3), 0px 1px 3px 1px rgba(60, 64, 67, 0.15);\n",
              "      fill: #174EA6;\n",
              "    }\n",
              "\n",
              "    .colab-df-buttons div {\n",
              "      margin-bottom: 4px;\n",
              "    }\n",
              "\n",
              "    [theme=dark] .colab-df-convert {\n",
              "      background-color: #3B4455;\n",
              "      fill: #D2E3FC;\n",
              "    }\n",
              "\n",
              "    [theme=dark] .colab-df-convert:hover {\n",
              "      background-color: #434B5C;\n",
              "      box-shadow: 0px 1px 3px 1px rgba(0, 0, 0, 0.15);\n",
              "      filter: drop-shadow(0px 1px 2px rgba(0, 0, 0, 0.3));\n",
              "      fill: #FFFFFF;\n",
              "    }\n",
              "  </style>\n",
              "\n",
              "    <script>\n",
              "      const buttonEl =\n",
              "        document.querySelector('#df-d339e335-2171-4b29-8ff9-b8f82e31c2ff button.colab-df-convert');\n",
              "      buttonEl.style.display =\n",
              "        google.colab.kernel.accessAllowed ? 'block' : 'none';\n",
              "\n",
              "      async function convertToInteractive(key) {\n",
              "        const element = document.querySelector('#df-d339e335-2171-4b29-8ff9-b8f82e31c2ff');\n",
              "        const dataTable =\n",
              "          await google.colab.kernel.invokeFunction('convertToInteractive',\n",
              "                                                    [key], {});\n",
              "        if (!dataTable) return;\n",
              "\n",
              "        const docLinkHtml = 'Like what you see? Visit the ' +\n",
              "          '<a target=\"_blank\" href=https://colab.research.google.com/notebooks/data_table.ipynb>data table notebook</a>'\n",
              "          + ' to learn more about interactive tables.';\n",
              "        element.innerHTML = '';\n",
              "        dataTable['output_type'] = 'display_data';\n",
              "        await google.colab.output.renderOutput(dataTable, element);\n",
              "        const docLink = document.createElement('div');\n",
              "        docLink.innerHTML = docLinkHtml;\n",
              "        element.appendChild(docLink);\n",
              "      }\n",
              "    </script>\n",
              "  </div>\n",
              "\n",
              "\n",
              "<div id=\"df-c9e911e1-c776-4861-9649-0c5efd11471e\">\n",
              "  <button class=\"colab-df-quickchart\" onclick=\"quickchart('df-c9e911e1-c776-4861-9649-0c5efd11471e')\"\n",
              "            title=\"Suggest charts\"\n",
              "            style=\"display:none;\">\n",
              "\n",
              "<svg xmlns=\"http://www.w3.org/2000/svg\" height=\"24px\"viewBox=\"0 0 24 24\"\n",
              "     width=\"24px\">\n",
              "    <g>\n",
              "        <path d=\"M19 3H5c-1.1 0-2 .9-2 2v14c0 1.1.9 2 2 2h14c1.1 0 2-.9 2-2V5c0-1.1-.9-2-2-2zM9 17H7v-7h2v7zm4 0h-2V7h2v10zm4 0h-2v-4h2v4z\"/>\n",
              "    </g>\n",
              "</svg>\n",
              "  </button>\n",
              "\n",
              "<style>\n",
              "  .colab-df-quickchart {\n",
              "      --bg-color: #E8F0FE;\n",
              "      --fill-color: #1967D2;\n",
              "      --hover-bg-color: #E2EBFA;\n",
              "      --hover-fill-color: #174EA6;\n",
              "      --disabled-fill-color: #AAA;\n",
              "      --disabled-bg-color: #DDD;\n",
              "  }\n",
              "\n",
              "  [theme=dark] .colab-df-quickchart {\n",
              "      --bg-color: #3B4455;\n",
              "      --fill-color: #D2E3FC;\n",
              "      --hover-bg-color: #434B5C;\n",
              "      --hover-fill-color: #FFFFFF;\n",
              "      --disabled-bg-color: #3B4455;\n",
              "      --disabled-fill-color: #666;\n",
              "  }\n",
              "\n",
              "  .colab-df-quickchart {\n",
              "    background-color: var(--bg-color);\n",
              "    border: none;\n",
              "    border-radius: 50%;\n",
              "    cursor: pointer;\n",
              "    display: none;\n",
              "    fill: var(--fill-color);\n",
              "    height: 32px;\n",
              "    padding: 0;\n",
              "    width: 32px;\n",
              "  }\n",
              "\n",
              "  .colab-df-quickchart:hover {\n",
              "    background-color: var(--hover-bg-color);\n",
              "    box-shadow: 0 1px 2px rgba(60, 64, 67, 0.3), 0 1px 3px 1px rgba(60, 64, 67, 0.15);\n",
              "    fill: var(--button-hover-fill-color);\n",
              "  }\n",
              "\n",
              "  .colab-df-quickchart-complete:disabled,\n",
              "  .colab-df-quickchart-complete:disabled:hover {\n",
              "    background-color: var(--disabled-bg-color);\n",
              "    fill: var(--disabled-fill-color);\n",
              "    box-shadow: none;\n",
              "  }\n",
              "\n",
              "  .colab-df-spinner {\n",
              "    border: 2px solid var(--fill-color);\n",
              "    border-color: transparent;\n",
              "    border-bottom-color: var(--fill-color);\n",
              "    animation:\n",
              "      spin 1s steps(1) infinite;\n",
              "  }\n",
              "\n",
              "  @keyframes spin {\n",
              "    0% {\n",
              "      border-color: transparent;\n",
              "      border-bottom-color: var(--fill-color);\n",
              "      border-left-color: var(--fill-color);\n",
              "    }\n",
              "    20% {\n",
              "      border-color: transparent;\n",
              "      border-left-color: var(--fill-color);\n",
              "      border-top-color: var(--fill-color);\n",
              "    }\n",
              "    30% {\n",
              "      border-color: transparent;\n",
              "      border-left-color: var(--fill-color);\n",
              "      border-top-color: var(--fill-color);\n",
              "      border-right-color: var(--fill-color);\n",
              "    }\n",
              "    40% {\n",
              "      border-color: transparent;\n",
              "      border-right-color: var(--fill-color);\n",
              "      border-top-color: var(--fill-color);\n",
              "    }\n",
              "    60% {\n",
              "      border-color: transparent;\n",
              "      border-right-color: var(--fill-color);\n",
              "    }\n",
              "    80% {\n",
              "      border-color: transparent;\n",
              "      border-right-color: var(--fill-color);\n",
              "      border-bottom-color: var(--fill-color);\n",
              "    }\n",
              "    90% {\n",
              "      border-color: transparent;\n",
              "      border-bottom-color: var(--fill-color);\n",
              "    }\n",
              "  }\n",
              "</style>\n",
              "\n",
              "  <script>\n",
              "    async function quickchart(key) {\n",
              "      const quickchartButtonEl =\n",
              "        document.querySelector('#' + key + ' button');\n",
              "      quickchartButtonEl.disabled = true;  // To prevent multiple clicks.\n",
              "      quickchartButtonEl.classList.add('colab-df-spinner');\n",
              "      try {\n",
              "        const charts = await google.colab.kernel.invokeFunction(\n",
              "            'suggestCharts', [key], {});\n",
              "      } catch (error) {\n",
              "        console.error('Error during call to suggestCharts:', error);\n",
              "      }\n",
              "      quickchartButtonEl.classList.remove('colab-df-spinner');\n",
              "      quickchartButtonEl.classList.add('colab-df-quickchart-complete');\n",
              "    }\n",
              "    (() => {\n",
              "      let quickchartButtonEl =\n",
              "        document.querySelector('#df-c9e911e1-c776-4861-9649-0c5efd11471e button');\n",
              "      quickchartButtonEl.style.display =\n",
              "        google.colab.kernel.accessAllowed ? 'block' : 'none';\n",
              "    })();\n",
              "  </script>\n",
              "</div>\n",
              "\n",
              "    </div>\n",
              "  </div>\n"
            ],
            "application/vnd.google.colaboratory.intrinsic+json": {
              "type": "dataframe",
              "summary": "{\n  \"name\": \"y_resampled_adsn\",\n  \"rows\": 2,\n  \"fields\": [\n    {\n      \"column\": \"class\",\n      \"properties\": {\n        \"dtype\": \"number\",\n        \"std\": 0,\n        \"min\": 0,\n        \"max\": 1,\n        \"num_unique_values\": 2,\n        \"samples\": [\n          0,\n          1\n        ],\n        \"semantic_type\": \"\",\n        \"description\": \"\"\n      }\n    },\n    {\n      \"column\": \"count\",\n      \"properties\": {\n        \"dtype\": \"number\",\n        \"std\": 11,\n        \"min\": 226602,\n        \"max\": 226618,\n        \"num_unique_values\": 2,\n        \"samples\": [\n          226602,\n          226618\n        ],\n        \"semantic_type\": \"\",\n        \"description\": \"\"\n      }\n    }\n  ]\n}"
            }
          },
          "metadata": {},
          "execution_count": 31
        }
      ],
      "source": [
        "y_resampled_adsn.value_counts().reset_index()"
      ]
    },
    {
      "cell_type": "code",
      "execution_count": null,
      "metadata": {
        "colab": {
          "base_uri": "https://localhost:8080/",
          "height": 524
        },
        "id": "9Vci8WtAwDvI",
        "outputId": "84d1a732-323c-4a66-f73d-f39f4d2b7072"
      },
      "outputs": [
        {
          "output_type": "stream",
          "name": "stdout",
          "text": [
            "Classification Report: ADASYN \n",
            "\n",
            "              precision    recall  f1-score   support\n",
            "\n",
            "       legit       1.00      0.91      0.95     56651\n",
            "       fraud       0.02      0.92      0.03        95\n",
            "\n",
            "    accuracy                           0.91     56746\n",
            "   macro avg       0.51      0.91      0.49     56746\n",
            "weighted avg       1.00      0.91      0.95     56746\n",
            "\n"
          ]
        },
        {
          "output_type": "display_data",
          "data": {
            "text/plain": [
              "<Figure size 300x300 with 1 Axes>"
            ],
            "image/png": "[encoded data removed]"
          },
          "metadata": {}
        }
      ],
      "source": [
        "build_and_evaluate_model(logit, X_resampled_adsn, y_resampled_adsn, X_test_scaled, y_test, 'ADASYN')"
      ]
    },
    {
      "cell_type": "markdown",
      "metadata": {
        "id": "m3VVWW6rr3a6"
      },
      "source": [
        "#### 🔍 Observations\n",
        "Employing ADASYN has significantly reduced False Negatives, resulting in the highest Recall for spam observed so far. However, the rise in False Positives has negatively impacted Precision and f1_score for spam, making this model less suitable if we aim to maintain a balanced performance."
      ]
    },
    {
      "cell_type": "markdown",
      "metadata": {
        "id": "UqQz_i2tApnX"
      },
      "source": [
        "### Resampling technique: Undersampling (RandomUnderSampler)"
      ]
    },
    {
      "cell_type": "code",
      "execution_count": null,
      "metadata": {
        "id": "6SHUC7OOA2Zg"
      },
      "outputs": [],
      "source": [
        "undersample = RandomUnderSampler(random_state=42)"
      ]
    },
    {
      "cell_type": "code",
      "execution_count": null,
      "metadata": {
        "id": "Ikyw-FXHA9yy"
      },
      "outputs": [],
      "source": [
        "X_resampled_under, y_resampled_under = undersample.fit_resample(X_train_scaled, y_train)"
      ]
    },
    {
      "cell_type": "code",
      "execution_count": null,
      "metadata": {
        "colab": {
          "base_uri": "https://localhost:8080/",
          "height": 112
        },
        "id": "JMaIREyyBYR4",
        "outputId": "d3e7a819-b226-41bc-af7e-15f44dabddc5"
      },
      "outputs": [
        {
          "output_type": "execute_result",
          "data": {
            "text/plain": [
              "   class  count\n",
              "0      0    378\n",
              "1      1    378"
            ],
            "text/html": [
              "\n",
              "  <div id=\"df-98a086d7-ff58-4a41-8e94-e3c519b78426\" class=\"colab-df-container\">\n",
              "    <div>\n",
              "<style scoped>\n",
              "    .dataframe tbody tr th:only-of-type {\n",
              "        vertical-align: middle;\n",
              "    }\n",
              "\n",
              "    .dataframe tbody tr th {\n",
              "        vertical-align: top;\n",
              "    }\n",
              "\n",
              "    .dataframe thead th {\n",
              "        text-align: right;\n",
              "    }\n",
              "</style>\n",
              "<table border=\"1\" class=\"dataframe\">\n",
              "  <thead>\n",
              "    <tr style=\"text-align: right;\">\n",
              "      <th></th>\n",
              "      <th>class</th>\n",
              "      <th>count</th>\n",
              "    </tr>\n",
              "  </thead>\n",
              "  <tbody>\n",
              "    <tr>\n",
              "      <th>0</th>\n",
              "      <td>0</td>\n",
              "      <td>378</td>\n",
              "    </tr>\n",
              "    <tr>\n",
              "      <th>1</th>\n",
              "      <td>1</td>\n",
              "      <td>378</td>\n",
              "    </tr>\n",
              "  </tbody>\n",
              "</table>\n",
              "</div>\n",
              "    <div class=\"colab-df-buttons\">\n",
              "\n",
              "  <div class=\"colab-df-container\">\n",
              "    <button class=\"colab-df-convert\" onclick=\"convertToInteractive('df-98a086d7-ff58-4a41-8e94-e3c519b78426')\"\n",
              "            title=\"Convert this dataframe to an interactive table.\"\n",
              "            style=\"display:none;\">\n",
              "\n",
              "  <svg xmlns=\"http://www.w3.org/2000/svg\" height=\"24px\" viewBox=\"0 -960 960 960\">\n",
              "    <path d=\"M120-120v-720h720v720H120Zm60-500h600v-160H180v160Zm220 220h160v-160H400v160Zm0 220h160v-160H400v160ZM180-400h160v-160H180v160Zm440 0h160v-160H620v160ZM180-180h160v-160H180v160Zm440 0h160v-160H620v160Z\"/>\n",
              "  </svg>\n",
              "    </button>\n",
              "\n",
              "  <style>\n",
              "    .colab-df-container {\n",
              "      display:flex;\n",
              "      gap: 12px;\n",
              "    }\n",
              "\n",
              "    .colab-df-convert {\n",
              "      background-color: #E8F0FE;\n",
              "      border: none;\n",
              "      border-radius: 50%;\n",
              "      cursor: pointer;\n",
              "      display: none;\n",
              "      fill: #1967D2;\n",
              "      height: 32px;\n",
              "      padding: 0 0 0 0;\n",
              "      width: 32px;\n",
              "    }\n",
              "\n",
              "    .colab-df-convert:hover {\n",
              "      background-color: #E2EBFA;\n",
              "      box-shadow: 0px 1px 2px rgba(60, 64, 67, 0.3), 0px 1px 3px 1px rgba(60, 64, 67, 0.15);\n",
              "      fill: #174EA6;\n",
              "    }\n",
              "\n",
              "    .colab-df-buttons div {\n",
              "      margin-bottom: 4px;\n",
              "    }\n",
              "\n",
              "    [theme=dark] .colab-df-convert {\n",
              "      background-color: #3B4455;\n",
              "      fill: #D2E3FC;\n",
              "    }\n",
              "\n",
              "    [theme=dark] .colab-df-convert:hover {\n",
              "      background-color: #434B5C;\n",
              "      box-shadow: 0px 1px 3px 1px rgba(0, 0, 0, 0.15);\n",
              "      filter: drop-shadow(0px 1px 2px rgba(0, 0, 0, 0.3));\n",
              "      fill: #FFFFFF;\n",
              "    }\n",
              "  </style>\n",
              "\n",
              "    <script>\n",
              "      const buttonEl =\n",
              "        document.querySelector('#df-98a086d7-ff58-4a41-8e94-e3c519b78426 button.colab-df-convert');\n",
              "      buttonEl.style.display =\n",
              "        google.colab.kernel.accessAllowed ? 'block' : 'none';\n",
              "\n",
              "      async function convertToInteractive(key) {\n",
              "        const element = document.querySelector('#df-98a086d7-ff58-4a41-8e94-e3c519b78426');\n",
              "        const dataTable =\n",
              "          await google.colab.kernel.invokeFunction('convertToInteractive',\n",
              "                                                    [key], {});\n",
              "        if (!dataTable) return;\n",
              "\n",
              "        const docLinkHtml = 'Like what you see? Visit the ' +\n",
              "          '<a target=\"_blank\" href=https://colab.research.google.com/notebooks/data_table.ipynb>data table notebook</a>'\n",
              "          + ' to learn more about interactive tables.';\n",
              "        element.innerHTML = '';\n",
              "        dataTable['output_type'] = 'display_data';\n",
              "        await google.colab.output.renderOutput(dataTable, element);\n",
              "        const docLink = document.createElement('div');\n",
              "        docLink.innerHTML = docLinkHtml;\n",
              "        element.appendChild(docLink);\n",
              "      }\n",
              "    </script>\n",
              "  </div>\n",
              "\n",
              "\n",
              "<div id=\"df-10164fe5-d778-46a8-bc50-28bea9134c34\">\n",
              "  <button class=\"colab-df-quickchart\" onclick=\"quickchart('df-10164fe5-d778-46a8-bc50-28bea9134c34')\"\n",
              "            title=\"Suggest charts\"\n",
              "            style=\"display:none;\">\n",
              "\n",
              "<svg xmlns=\"http://www.w3.org/2000/svg\" height=\"24px\"viewBox=\"0 0 24 24\"\n",
              "     width=\"24px\">\n",
              "    <g>\n",
              "        <path d=\"M19 3H5c-1.1 0-2 .9-2 2v14c0 1.1.9 2 2 2h14c1.1 0 2-.9 2-2V5c0-1.1-.9-2-2-2zM9 17H7v-7h2v7zm4 0h-2V7h2v10zm4 0h-2v-4h2v4z\"/>\n",
              "    </g>\n",
              "</svg>\n",
              "  </button>\n",
              "\n",
              "<style>\n",
              "  .colab-df-quickchart {\n",
              "      --bg-color: #E8F0FE;\n",
              "      --fill-color: #1967D2;\n",
              "      --hover-bg-color: #E2EBFA;\n",
              "      --hover-fill-color: #174EA6;\n",
              "      --disabled-fill-color: #AAA;\n",
              "      --disabled-bg-color: #DDD;\n",
              "  }\n",
              "\n",
              "  [theme=dark] .colab-df-quickchart {\n",
              "      --bg-color: #3B4455;\n",
              "      --fill-color: #D2E3FC;\n",
              "      --hover-bg-color: #434B5C;\n",
              "      --hover-fill-color: #FFFFFF;\n",
              "      --disabled-bg-color: #3B4455;\n",
              "      --disabled-fill-color: #666;\n",
              "  }\n",
              "\n",
              "  .colab-df-quickchart {\n",
              "    background-color: var(--bg-color);\n",
              "    border: none;\n",
              "    border-radius: 50%;\n",
              "    cursor: pointer;\n",
              "    display: none;\n",
              "    fill: var(--fill-color);\n",
              "    height: 32px;\n",
              "    padding: 0;\n",
              "    width: 32px;\n",
              "  }\n",
              "\n",
              "  .colab-df-quickchart:hover {\n",
              "    background-color: var(--hover-bg-color);\n",
              "    box-shadow: 0 1px 2px rgba(60, 64, 67, 0.3), 0 1px 3px 1px rgba(60, 64, 67, 0.15);\n",
              "    fill: var(--button-hover-fill-color);\n",
              "  }\n",
              "\n",
              "  .colab-df-quickchart-complete:disabled,\n",
              "  .colab-df-quickchart-complete:disabled:hover {\n",
              "    background-color: var(--disabled-bg-color);\n",
              "    fill: var(--disabled-fill-color);\n",
              "    box-shadow: none;\n",
              "  }\n",
              "\n",
              "  .colab-df-spinner {\n",
              "    border: 2px solid var(--fill-color);\n",
              "    border-color: transparent;\n",
              "    border-bottom-color: var(--fill-color);\n",
              "    animation:\n",
              "      spin 1s steps(1) infinite;\n",
              "  }\n",
              "\n",
              "  @keyframes spin {\n",
              "    0% {\n",
              "      border-color: transparent;\n",
              "      border-bottom-color: var(--fill-color);\n",
              "      border-left-color: var(--fill-color);\n",
              "    }\n",
              "    20% {\n",
              "      border-color: transparent;\n",
              "      border-left-color: var(--fill-color);\n",
              "      border-top-color: var(--fill-color);\n",
              "    }\n",
              "    30% {\n",
              "      border-color: transparent;\n",
              "      border-left-color: var(--fill-color);\n",
              "      border-top-color: var(--fill-color);\n",
              "      border-right-color: var(--fill-color);\n",
              "    }\n",
              "    40% {\n",
              "      border-color: transparent;\n",
              "      border-right-color: var(--fill-color);\n",
              "      border-top-color: var(--fill-color);\n",
              "    }\n",
              "    60% {\n",
              "      border-color: transparent;\n",
              "      border-right-color: var(--fill-color);\n",
              "    }\n",
              "    80% {\n",
              "      border-color: transparent;\n",
              "      border-right-color: var(--fill-color);\n",
              "      border-bottom-color: var(--fill-color);\n",
              "    }\n",
              "    90% {\n",
              "      border-color: transparent;\n",
              "      border-bottom-color: var(--fill-color);\n",
              "    }\n",
              "  }\n",
              "</style>\n",
              "\n",
              "  <script>\n",
              "    async function quickchart(key) {\n",
              "      const quickchartButtonEl =\n",
              "        document.querySelector('#' + key + ' button');\n",
              "      quickchartButtonEl.disabled = true;  // To prevent multiple clicks.\n",
              "      quickchartButtonEl.classList.add('colab-df-spinner');\n",
              "      try {\n",
              "        const charts = await google.colab.kernel.invokeFunction(\n",
              "            'suggestCharts', [key], {});\n",
              "      } catch (error) {\n",
              "        console.error('Error during call to suggestCharts:', error);\n",
              "      }\n",
              "      quickchartButtonEl.classList.remove('colab-df-spinner');\n",
              "      quickchartButtonEl.classList.add('colab-df-quickchart-complete');\n",
              "    }\n",
              "    (() => {\n",
              "      let quickchartButtonEl =\n",
              "        document.querySelector('#df-10164fe5-d778-46a8-bc50-28bea9134c34 button');\n",
              "      quickchartButtonEl.style.display =\n",
              "        google.colab.kernel.accessAllowed ? 'block' : 'none';\n",
              "    })();\n",
              "  </script>\n",
              "</div>\n",
              "\n",
              "    </div>\n",
              "  </div>\n"
            ],
            "application/vnd.google.colaboratory.intrinsic+json": {
              "type": "dataframe",
              "summary": "{\n  \"name\": \"y_resampled_under\",\n  \"rows\": 2,\n  \"fields\": [\n    {\n      \"column\": \"class\",\n      \"properties\": {\n        \"dtype\": \"number\",\n        \"std\": 0,\n        \"min\": 0,\n        \"max\": 1,\n        \"num_unique_values\": 2,\n        \"samples\": [\n          1,\n          0\n        ],\n        \"semantic_type\": \"\",\n        \"description\": \"\"\n      }\n    },\n    {\n      \"column\": \"count\",\n      \"properties\": {\n        \"dtype\": \"number\",\n        \"std\": 0,\n        \"min\": 378,\n        \"max\": 378,\n        \"num_unique_values\": 1,\n        \"samples\": [\n          378\n        ],\n        \"semantic_type\": \"\",\n        \"description\": \"\"\n      }\n    }\n  ]\n}"
            }
          },
          "metadata": {},
          "execution_count": 35
        }
      ],
      "source": [
        "# Class Distribution\n",
        "y_resampled_under.value_counts().reset_index()"
      ]
    },
    {
      "cell_type": "markdown",
      "metadata": {
        "id": "zH_hFqZdBtYW"
      },
      "source": [
        "We have a lot less data to train on."
      ]
    },
    {
      "cell_type": "code",
      "execution_count": null,
      "metadata": {
        "colab": {
          "base_uri": "https://localhost:8080/",
          "height": 524
        },
        "id": "oULx_vjGBCCp",
        "outputId": "1ae257d8-39f2-4a05-bbd8-5b343efe638a"
      },
      "outputs": [
        {
          "output_type": "stream",
          "name": "stdout",
          "text": [
            "Classification Report: RandomUnderSampler \n",
            "\n",
            "              precision    recall  f1-score   support\n",
            "\n",
            "       legit       1.00      0.97      0.99     56651\n",
            "       fraud       0.05      0.87      0.09        95\n",
            "\n",
            "    accuracy                           0.97     56746\n",
            "   macro avg       0.52      0.92      0.54     56746\n",
            "weighted avg       1.00      0.97      0.98     56746\n",
            "\n"
          ]
        },
        {
          "output_type": "display_data",
          "data": {
            "text/plain": [
              "<Figure size 300x300 with 1 Axes>"
            ],
            "image/png": "[encoded data removed]"
          },
          "metadata": {}
        }
      ],
      "source": [
        "build_and_evaluate_model(logit, X_resampled_under, y_resampled_under, X_test_scaled, y_test, 'RandomUnderSampler')"
      ]
    },
    {
      "cell_type": "markdown",
      "metadata": {
        "id": "dmyB04IjByer"
      },
      "source": [
        "#### 🔍 Observations\n",
        "The f1_score is still low. Not the best approach to use."
      ]
    },
    {
      "cell_type": "markdown",
      "metadata": {
        "id": "X2fIVCufCLBB"
      },
      "source": [
        "### Resampling technique : Undersampling (EditedNearestNeighbours)"
      ]
    },
    {
      "cell_type": "markdown",
      "metadata": {
        "id": "drknMKW0HJTc"
      },
      "source": [
        "ENN  removes samples that have a majority of their nearest neighbors belonging to a different class, effectively cleaning the decision boundary and reducing potential noise.\n",
        "\n",
        "* ENN removes samples from the majority class (and sometimes the minority class) to refine the decision boundary."
      ]
    },
    {
      "cell_type": "code",
      "execution_count": null,
      "metadata": {
        "id": "vjlpX9j8CUbq"
      },
      "outputs": [],
      "source": [
        "ENN = EditedNearestNeighbours()"
      ]
    },
    {
      "cell_type": "code",
      "execution_count": null,
      "metadata": {
        "id": "7PpKiKRlr2s0"
      },
      "outputs": [],
      "source": [
        "X_resampled_ENN, y_resampled_ENN = ENN.fit_resample(X_train_scaled, y_train)"
      ]
    },
    {
      "cell_type": "code",
      "execution_count": null,
      "metadata": {
        "colab": {
          "base_uri": "https://localhost:8080/"
        },
        "id": "T6WXPqYxGV3D",
        "outputId": "fb63d3c3-a739-42e2-db6a-7a279c6961ce"
      },
      "outputs": [
        {
          "output_type": "execute_result",
          "data": {
            "text/plain": [
              "   class   count\n",
              "0      0  226465\n",
              "1      1     378"
            ],
            "text/html": [
              "\n",
              "  <div id=\"df-0e5bdc2d-e7ec-4ccc-802c-e06af3eac4b7\" class=\"colab-df-container\">\n",
              "    <div>\n",
              "<style scoped>\n",
              "    .dataframe tbody tr th:only-of-type {\n",
              "        vertical-align: middle;\n",
              "    }\n",
              "\n",
              "    .dataframe tbody tr th {\n",
              "        vertical-align: top;\n",
              "    }\n",
              "\n",
              "    .dataframe thead th {\n",
              "        text-align: right;\n",
              "    }\n",
              "</style>\n",
              "<table border=\"1\" class=\"dataframe\">\n",
              "  <thead>\n",
              "    <tr style=\"text-align: right;\">\n",
              "      <th></th>\n",
              "      <th>class</th>\n",
              "      <th>count</th>\n",
              "    </tr>\n",
              "  </thead>\n",
              "  <tbody>\n",
              "    <tr>\n",
              "      <th>0</th>\n",
              "      <td>0</td>\n",
              "      <td>226465</td>\n",
              "    </tr>\n",
              "    <tr>\n",
              "      <th>1</th>\n",
              "      <td>1</td>\n",
              "      <td>378</td>\n",
              "    </tr>\n",
              "  </tbody>\n",
              "</table>\n",
              "</div>\n",
              "    <div class=\"colab-df-buttons\">\n",
              "\n",
              "  <div class=\"colab-df-container\">\n",
              "    <button class=\"colab-df-convert\" onclick=\"convertToInteractive('df-0e5bdc2d-e7ec-4ccc-802c-e06af3eac4b7')\"\n",
              "            title=\"Convert this dataframe to an interactive table.\"\n",
              "            style=\"display:none;\">\n",
              "\n",
              "  <svg xmlns=\"http://www.w3.org/2000/svg\" height=\"24px\" viewBox=\"0 -960 960 960\">\n",
              "    <path d=\"M120-120v-720h720v720H120Zm60-500h600v-160H180v160Zm220 220h160v-160H400v160Zm0 220h160v-160H400v160ZM180-400h160v-160H180v160Zm440 0h160v-160H620v160ZM180-180h160v-160H180v160Zm440 0h160v-160H620v160Z\"/>\n",
              "  </svg>\n",
              "    </button>\n",
              "\n",
              "  <style>\n",
              "    .colab-df-container {\n",
              "      display:flex;\n",
              "      gap: 12px;\n",
              "    }\n",
              "\n",
              "    .colab-df-convert {\n",
              "      background-color: #E8F0FE;\n",
              "      border: none;\n",
              "      border-radius: 50%;\n",
              "      cursor: pointer;\n",
              "      display: none;\n",
              "      fill: #1967D2;\n",
              "      height: 32px;\n",
              "      padding: 0 0 0 0;\n",
              "      width: 32px;\n",
              "    }\n",
              "\n",
              "    .colab-df-convert:hover {\n",
              "      background-color: #E2EBFA;\n",
              "      box-shadow: 0px 1px 2px rgba(60, 64, 67, 0.3), 0px 1px 3px 1px rgba(60, 64, 67, 0.15);\n",
              "      fill: #174EA6;\n",
              "    }\n",
              "\n",
              "    .colab-df-buttons div {\n",
              "      margin-bottom: 4px;\n",
              "    }\n",
              "\n",
              "    [theme=dark] .colab-df-convert {\n",
              "      background-color: #3B4455;\n",
              "      fill: #D2E3FC;\n",
              "    }\n",
              "\n",
              "    [theme=dark] .colab-df-convert:hover {\n",
              "      background-color: #434B5C;\n",
              "      box-shadow: 0px 1px 3px 1px rgba(0, 0, 0, 0.15);\n",
              "      filter: drop-shadow(0px 1px 2px rgba(0, 0, 0, 0.3));\n",
              "      fill: #FFFFFF;\n",
              "    }\n",
              "  </style>\n",
              "\n",
              "    <script>\n",
              "      const buttonEl =\n",
              "        document.querySelector('#df-0e5bdc2d-e7ec-4ccc-802c-e06af3eac4b7 button.colab-df-convert');\n",
              "      buttonEl.style.display =\n",
              "        google.colab.kernel.accessAllowed ? 'block' : 'none';\n",
              "\n",
              "      async function convertToInteractive(key) {\n",
              "        const element = document.querySelector('#df-0e5bdc2d-e7ec-4ccc-802c-e06af3eac4b7');\n",
              "        const dataTable =\n",
              "          await google.colab.kernel.invokeFunction('convertToInteractive',\n",
              "                                                    [key], {});\n",
              "        if (!dataTable) return;\n",
              "\n",
              "        const docLinkHtml = 'Like what you see? Visit the ' +\n",
              "          '<a target=\"_blank\" href=https://colab.research.google.com/notebooks/data_table.ipynb>data table notebook</a>'\n",
              "          + ' to learn more about interactive tables.';\n",
              "        element.innerHTML = '';\n",
              "        dataTable['output_type'] = 'display_data';\n",
              "        await google.colab.output.renderOutput(dataTable, element);\n",
              "        const docLink = document.createElement('div');\n",
              "        docLink.innerHTML = docLinkHtml;\n",
              "        element.appendChild(docLink);\n",
              "      }\n",
              "    </script>\n",
              "  </div>\n",
              "\n",
              "\n",
              "<div id=\"df-b42f9e56-9723-482e-903c-7972bda33729\">\n",
              "  <button class=\"colab-df-quickchart\" onclick=\"quickchart('df-b42f9e56-9723-482e-903c-7972bda33729')\"\n",
              "            title=\"Suggest charts\"\n",
              "            style=\"display:none;\">\n",
              "\n",
              "<svg xmlns=\"http://www.w3.org/2000/svg\" height=\"24px\"viewBox=\"0 0 24 24\"\n",
              "     width=\"24px\">\n",
              "    <g>\n",
              "        <path d=\"M19 3H5c-1.1 0-2 .9-2 2v14c0 1.1.9 2 2 2h14c1.1 0 2-.9 2-2V5c0-1.1-.9-2-2-2zM9 17H7v-7h2v7zm4 0h-2V7h2v10zm4 0h-2v-4h2v4z\"/>\n",
              "    </g>\n",
              "</svg>\n",
              "  </button>\n",
              "\n",
              "<style>\n",
              "  .colab-df-quickchart {\n",
              "      --bg-color: #E8F0FE;\n",
              "      --fill-color: #1967D2;\n",
              "      --hover-bg-color: #E2EBFA;\n",
              "      --hover-fill-color: #174EA6;\n",
              "      --disabled-fill-color: #AAA;\n",
              "      --disabled-bg-color: #DDD;\n",
              "  }\n",
              "\n",
              "  [theme=dark] .colab-df-quickchart {\n",
              "      --bg-color: #3B4455;\n",
              "      --fill-color: #D2E3FC;\n",
              "      --hover-bg-color: #434B5C;\n",
              "      --hover-fill-color: #FFFFFF;\n",
              "      --disabled-bg-color: #3B4455;\n",
              "      --disabled-fill-color: #666;\n",
              "  }\n",
              "\n",
              "  .colab-df-quickchart {\n",
              "    background-color: var(--bg-color);\n",
              "    border: none;\n",
              "    border-radius: 50%;\n",
              "    cursor: pointer;\n",
              "    display: none;\n",
              "    fill: var(--fill-color);\n",
              "    height: 32px;\n",
              "    padding: 0;\n",
              "    width: 32px;\n",
              "  }\n",
              "\n",
              "  .colab-df-quickchart:hover {\n",
              "    background-color: var(--hover-bg-color);\n",
              "    box-shadow: 0 1px 2px rgba(60, 64, 67, 0.3), 0 1px 3px 1px rgba(60, 64, 67, 0.15);\n",
              "    fill: var(--button-hover-fill-color);\n",
              "  }\n",
              "\n",
              "  .colab-df-quickchart-complete:disabled,\n",
              "  .colab-df-quickchart-complete:disabled:hover {\n",
              "    background-color: var(--disabled-bg-color);\n",
              "    fill: var(--disabled-fill-color);\n",
              "    box-shadow: none;\n",
              "  }\n",
              "\n",
              "  .colab-df-spinner {\n",
              "    border: 2px solid var(--fill-color);\n",
              "    border-color: transparent;\n",
              "    border-bottom-color: var(--fill-color);\n",
              "    animation:\n",
              "      spin 1s steps(1) infinite;\n",
              "  }\n",
              "\n",
              "  @keyframes spin {\n",
              "    0% {\n",
              "      border-color: transparent;\n",
              "      border-bottom-color: var(--fill-color);\n",
              "      border-left-color: var(--fill-color);\n",
              "    }\n",
              "    20% {\n",
              "      border-color: transparent;\n",
              "      border-left-color: var(--fill-color);\n",
              "      border-top-color: var(--fill-color);\n",
              "    }\n",
              "    30% {\n",
              "      border-color: transparent;\n",
              "      border-left-color: var(--fill-color);\n",
              "      border-top-color: var(--fill-color);\n",
              "      border-right-color: var(--fill-color);\n",
              "    }\n",
              "    40% {\n",
              "      border-color: transparent;\n",
              "      border-right-color: var(--fill-color);\n",
              "      border-top-color: var(--fill-color);\n",
              "    }\n",
              "    60% {\n",
              "      border-color: transparent;\n",
              "      border-right-color: var(--fill-color);\n",
              "    }\n",
              "    80% {\n",
              "      border-color: transparent;\n",
              "      border-right-color: var(--fill-color);\n",
              "      border-bottom-color: var(--fill-color);\n",
              "    }\n",
              "    90% {\n",
              "      border-color: transparent;\n",
              "      border-bottom-color: var(--fill-color);\n",
              "    }\n",
              "  }\n",
              "</style>\n",
              "\n",
              "  <script>\n",
              "    async function quickchart(key) {\n",
              "      const quickchartButtonEl =\n",
              "        document.querySelector('#' + key + ' button');\n",
              "      quickchartButtonEl.disabled = true;  // To prevent multiple clicks.\n",
              "      quickchartButtonEl.classList.add('colab-df-spinner');\n",
              "      try {\n",
              "        const charts = await google.colab.kernel.invokeFunction(\n",
              "            'suggestCharts', [key], {});\n",
              "      } catch (error) {\n",
              "        console.error('Error during call to suggestCharts:', error);\n",
              "      }\n",
              "      quickchartButtonEl.classList.remove('colab-df-spinner');\n",
              "      quickchartButtonEl.classList.add('colab-df-quickchart-complete');\n",
              "    }\n",
              "    (() => {\n",
              "      let quickchartButtonEl =\n",
              "        document.querySelector('#df-b42f9e56-9723-482e-903c-7972bda33729 button');\n",
              "      quickchartButtonEl.style.display =\n",
              "        google.colab.kernel.accessAllowed ? 'block' : 'none';\n",
              "    })();\n",
              "  </script>\n",
              "</div>\n",
              "\n",
              "    </div>\n",
              "  </div>\n"
            ],
            "application/vnd.google.colaboratory.intrinsic+json": {
              "type": "dataframe",
              "summary": "{\n  \"name\": \"y_resampled_ENN\",\n  \"rows\": 2,\n  \"fields\": [\n    {\n      \"column\": \"class\",\n      \"properties\": {\n        \"dtype\": \"number\",\n        \"std\": 0,\n        \"min\": 0,\n        \"max\": 1,\n        \"num_unique_values\": 2,\n        \"samples\": [\n          1,\n          0\n        ],\n        \"semantic_type\": \"\",\n        \"description\": \"\"\n      }\n    },\n    {\n      \"column\": \"count\",\n      \"properties\": {\n        \"dtype\": \"number\",\n        \"std\": 159867,\n        \"min\": 378,\n        \"max\": 226465,\n        \"num_unique_values\": 2,\n        \"samples\": [\n          378,\n          226465\n        ],\n        \"semantic_type\": \"\",\n        \"description\": \"\"\n      }\n    }\n  ]\n}"
            }
          },
          "metadata": {},
          "execution_count": 39
        }
      ],
      "source": [
        "y_resampled_ENN.value_counts().reset_index()"
      ]
    },
    {
      "cell_type": "markdown",
      "metadata": {
        "id": "nW5obXDVHC3r"
      },
      "source": [
        "Samples have been removed from the majority class, the minority class remain unchanged."
      ]
    },
    {
      "cell_type": "code",
      "execution_count": null,
      "metadata": {
        "colab": {
          "base_uri": "https://localhost:8080/"
        },
        "id": "50vDH3kACfW9",
        "outputId": "bf474caa-1313-407e-f3c0-5e50b3ddda8e"
      },
      "outputs": [
        {
          "output_type": "stream",
          "name": "stdout",
          "text": [
            "Classification Report: EditedNearestNeighbours \n",
            "\n",
            "              precision    recall  f1-score   support\n",
            "\n",
            "       legit       1.00      1.00      1.00     56651\n",
            "       fraud       0.86      0.63      0.73        95\n",
            "\n",
            "    accuracy                           1.00     56746\n",
            "   macro avg       0.93      0.82      0.86     56746\n",
            "weighted avg       1.00      1.00      1.00     56746\n",
            "\n"
          ]
        },
        {
          "output_type": "display_data",
          "data": {
            "text/plain": [
              "<Figure size 300x300 with 1 Axes>"
            ],
            "image/png": "[encoded data removed]"
          },
          "metadata": {}
        }
      ],
      "source": [
        "build_and_evaluate_model(logit, X_resampled_ENN, y_resampled_ENN, X_test_scaled, y_test, 'EditedNearestNeighbours')"
      ]
    },
    {
      "cell_type": "markdown",
      "metadata": {
        "id": "73j-90wDI47h"
      },
      "source": [
        "#### 🔍 Observations\n",
        "Now that the False Positives have decreased significantly, our f1-score has improved. However, the Recall remains too low for our specific need of detecting spam."
      ]
    },
    {
      "cell_type": "markdown",
      "metadata": {
        "id": "RNjaVp4zJYbG"
      },
      "source": [
        "### Cost-Sensitive Learning : Balanced Class Weights"
      ]
    },
    {
      "cell_type": "markdown",
      "metadata": {
        "id": "S9lCIGXkJdMj"
      },
      "source": [
        "Given that only 0.2% of samples are labeled as Fraud, while 99.8% are Legitimate Transactions, using class weight adjustments is a good approach instead of oversampling or undersampling. This can help to prevent the model overfitting on artificial samples and also will stop us from having to remove valuable data. Additionally this method can help the model give more importance to our Spam class.\n"
      ]
    },
    {
      "cell_type": "code",
      "execution_count": null,
      "metadata": {
        "id": "7rv0WLT4KK9L"
      },
      "outputs": [],
      "source": [
        "logit = LogisticRegression(class_weight='balanced', max_iter=1000, random_state=42)"
      ]
    },
    {
      "cell_type": "markdown",
      "metadata": {
        "id": "C8OUkE9CMkNL"
      },
      "source": [
        "![image.png](data:image/png;base64,iVBORw0KGgoAAAANSUhEUgAABUsAAAEoCAYAAABhDqDoAAAAAXNSR0IArs4c6QAAAARnQU1BAACxjwv8YQUAAAAJcEhZcwAADsMAAA7DAcdvqGQAAJczSURBVHhe7d2/axtZ/zf8+x+YwoW6Kb7FwB1YQYoItljhIoZtLLaIIEUECxlwEYSLxVsYsXAvwsWF2cKIFBEpcokUCwoElBsCcnHhFE9AKYKvIiA/4ActpFCRQkVAhYvPw5lzzsyZz5yRRhrZlu33C4bdSOPR/Dw689aZc/7X/wIAAAAAAAAAAAAAAAAAAAAAAAAAAAAAAAAAAAAAAAAAAAAAAAAAAAAAAAAAAAAAAAAAAAAAAAAAAAAAAAAAAAAAAAAAAAAAAAAAAAAAAAAAAAAAAAAAAAAAAAAAAAAAAAAAAAAAAAAAALgxCABgBXjZAgAAAAAAAABw4/DAAwBgGbxsAQAAAAAAAAC4cXjgAQCwDF62AAAAAAAAAADcODzwAABYBi9bAAAAAAAAAABuHB54AAAsg5ctAAAAAAAAAACXhgcTAACwerzsBQBYBi9bAAAEXlYAAABADvyLFgAAVo+XvQAAy+BlCwCAwMsKAAAAyIF/0QIAwOrxshcAYBm8bAEAEHhZAQAAADnwL1oAAFg9XvYCACyDly0AAAIvKwAAACAH/kULAACrx8teAIBl8LIFAEDgZQUAAADkwL9oAQBg9XjZCwCwDF62AAAIvKwAAACAHPgXLQAArB4vewEAlsHLFgAAgZcVAAAAkAP/ogUAgNXjZS8AwDJ42QIAIPCyAgAAAHLgX7QAALB6vOwFAFgGL1sAAAReVgAAAEAO/IsWAABWj5e9AADL4GULAIDAywoAAADIgX/RAgDA6vGyFwBgGbxsAQAQeFkBAAAAOfAvWgAAWD1e9gIALIOXLQAAAi8rAAAAIAf+RQsAAKvHy14AgGXwsgUAQOBlBQAAAOTAv2gBAGD1eNkLALAMXrYAAAi8rAAAAIAc+BctAACsHi97AQCWwcsWAACBlxUAAACQA/+iBbhJxp961HtrTic0/M7nIqLvQzqJzaemT2M+J8Cl4GUvAMAyeNkCACDwsgIAAABy4F+0ADfHmLq/euTd88jdcMhx5LT1whKA/tOmKpvPvedR+V+nfE6AS8HLXgCAZfCyBQBA4GUFAAAA5MC/aAFunil1Hzvk6CD0hyYN+Sza2SGVnCp1vvE3AC4XL3sBAJbByxYAAIGXFQAAAJAD/6IFuHEu+uSLAPRDk4pBq9EC7X3gMynvfHIed2nKXwe4ZLzsBQBYBi9bAAAEXlYAAABADvyLFuDG+dwkb7NFIxpT+6FqXfrEHogOfi9Q6WjEXwa4dLzsBQBYBi9bAAAEXlYAAABADvyLFuCmGR2VyPtT9j06fVNTfZJuUftrYk5q/ehR8zN/HeDy8bIXAGAZvGwBABB4WQEAAAA58C9agJtF9FdaoL2P6p8XJ7RXkK1Liwes59LvXao6PvUv4i8DXAVe9gIALIOXLQAAAi8rAAAAIAf+RQtwo6j+Srvfo5eGB0XZurSwRydmMPoe/ZXC9eFlLwDAMnjZAgAg8LICAAAAcuBftAA3iuivdLtDY/O1r23aCh7Fd6j2JopGRX+l5eforxSuBy97AQCWwcsWAACBlxUAAACQA/+iBbhJzP5KI1PqPlEDPT1sqyAV/ZXC9eJlLwDAMnjZAgAg8LICAAAAcuBftAA3h+iv1KH6MX+diD7sUSFoXVqUAem4QxWnTn0+H8AV4WUvAMAyeNkCACDwsgIAAABy4F+0ADeGpb/SyJCaP6jWpU+6NEF/pXDNeNkLALAMXrYAAAi8rAAAAIAc+BctwI0h+ivdbFFaL6TjF1syLHW2qPoI/ZXC9eJlLwDAMnjZAgAg8LICAAAAcuBftAA3hb2/UsP3PvkF1brUQX+lcL142QsAsAxetgAACLysAAAAgBz4Fy3AzTCmzrZD/nv+etzwoCjD0sIeDfibAFeIl70AAMvgZQsAgMDLCgAAAMiBf9ECrLXphMbjEZ0cVch1HKq8GNJ4PKHpBZ9R+dqmLRGWor9SuGa87AUAWAYvWwAABF5WAAAAQA78ixZgfU2p+0Q/Vm9OBdr7yOfV5N9UXo35GwBXipe9AADL4GULAIDAywoAAADIgX/RAgDA6vGyFwBgGbxsAQAQeFkBAAAAOfAvWgAAWD1e9gIALIOXLQAAAi8rAAAAIAf+RQsAAKvHy14AgGXwsgUAQOBlBQAAAOTAv2gBAGD1eNkLALAMXrYAAAi8rAAAAIAc+BctAACsHi97AQCWwcsWAACBlxUAAACQA/+iBQCA1eNlLwDAMnjZAgAg8LICAAAAcuBftDfB9LxPrf06NY76NJom3qXx5xM6/Ra9MvnUpsZ+mwYTcz4AgKvDy14AgGXwsgUAQOBlBQAAAOTAv2jX3lmLtu7VqPW2Tb7nkLPdobH5/oc9KjgOFQ+G6oU+1R2HHMeh8vOROScAwJXhZS8AwDJ42QIAIPCyAgAAAHLgX7Rr7eKUmg8q1Pkq/jGgvYIIQX3qG7MMfi8Ewaj/Tr8yof6OG7xWOpoflp6+qlP9cZm8ew064W9etU9NKt3zyFtyKh0M+BIB4JrwshcAYBm8bAEAEHhZAQAAADnwL9q19t4nZ0dFo5+b5IkWo7GWpafUFK1NnQp1zOamF33yHYcqr2JtUK2mkzGd7HuJEPZ6TGkyHtN4yWmS6KIAAK4LL3sBAJbByxYAAIGXFQAAAJAD/6Jda18HNAhalUYtSGtvjERw3KGKCFAfHJJ+CF8aUetHj5qfYy+mE6HsWoSlV0vsT0zrOcHNx8teAIBl8LIFAEDgZQUAAADkwL9obwb9CH6Nut+Nl9+JkNOhwu/s8XPRstTdo8wPpd/RsBQALg8vewEAlsHLFgAAgZcVAAAAkAP/or0RPspBnJzHXTKfNE/2V6p83CNXP76vXUzo9HWT6rt1qu+3qH9uLMkSlk7+26GmmHe3Qa23pzS5MN4UD8yfn1D7QL1/3KfOm9Pwvcl/e9TaF+81qfOhR93j+d0BSHgMH+C24GUvAMAyeNkCACDwsgIAAABy4F+0N8HoeTkIReMDNo2otSlam5aodW68TEQnv7nkvzdemPSp7jlU/us0CBSH/yrG+znlYWnwb5can0R+OaaeGDBqs0VDHZiet6i8eUjDIJyc0viNTwUVzk6P61R82pPh6sWUTv9VyjTQVAADPAHcGrzsBQBYBi9bAAAEXlYAAABADvyL9iYYHZUsYemQDh+IsLQafzT/e5dq3h4NwpagU+rvFMj5sUX6ryfv61TabNBA/x0PS8/bVLlXobYOYc9bVHIcqh/Lf45fbJHzsEWj8DNOqLF/Iv9v16HCbj9qAftPmxovM4alAHBr8LIXAGAZvGwBABB4WQEAAAA58C/aG+FTg1zRN6losalemrzz5aP5ToH2PugZJ9TfKZH/Xs8l9MkX8z2b0SMpD0uV6ddT6r9tU/PXcvBZYWtV0bJULHPDpdK2T83X0WP6omWpWFen4FH5sXhEfxTrOgAA7gZe9gIALIOXLQAAAi8rAAAAIAf+RXszTGhwVCVPBKY/Van+uESF+3t0cn5CDdG6dMOjylOfKvc8qrwaxv/0Hxlslv5ir5t4WPqtT40HBfIeNan/ZULTM9my1Hy0f3reo+bTCpVcOXq56CM1DHI/tqnxuExeMCiVQ+WjGZ+9tqY0/tyj1m4l1jVAeadNg29qloshtTbriZD5Oo0/9aj31pxOaGi2PNa+D+kkNp+aPmXtXxZgNl72AgAsg5ctAAACLysAAAAgB/5Fe6NMJ2owo0msteb0mxrgyBaK0YD2RGj5tBd/eTqJBkSKhaVj6vzikPOwTWFsph7D999Pafh5SP/8Xaem6M9UmXzYo6JTptY/RIODOnWNvG38skKOs16B4jyTjy2q3ZNBr7ddp9bfJzQM9vuQ+kc1Km6UqfVFBKUOOdudaD9duzF1f5Whrrsh119MWy8sa/hPm6psPleEwf+KBuoCyIOXvQAAy+BlCwCAwMsKAAAAyIF/0d4FcoCoMrXOjNeOatT8Iv9//EoEmjosPaWmx8LVD3vqMfwRtXZa9P8clajwm+yjNHDRI1/8/QVRf4eFc2eHVDL6S11vEzrZl/3DOvfr1Du3dyAwee/LrgZEmPrnOoaLU+o+Fi2OVRD6Q5NS2/aK4+NUqaNbywKsCC97AQCWwcsWAACBlxUAAACQA/+ivRvUY/yFElUPWtT6rUZ19bj+yb4XPi5f8Dxq/Ee0FG1QacOlrf02dY/q5B/0qPvMJccrUu35kEZHZfJ+2qLqsxZ137ap8XOZqmp5Iiwt/Vyl6n6ben+3qPZTmRofzD5U15Xo79WVLSx/6dAwHLzKZkStH1V/sR/5e2vgQvRTW6XOhyYVE/3aMu98ch530a8srBwvewEAlsHLFgAAgZcVAAAAkAP/or1TLqY0EY/rZ0rG1LzGo/1T/XffpzJcC7oFmNDUCBan39VM39V70VtrbXgkWt/KVpinM4NSafB7gRynSl1r1wfX7HOTvE3RmndM7YeqdekTeyAqtqN0dDPa/cLNwsteAIBl8LIFAEDgZQUAAADkwL9oAejjnnqs3s3cUnR0VFqsv9LvfWrszGuxKg1f+dT8jy3azEasm+4eYPqmpvok3aL218Sc1PrRo+Zn/jpAfrzsBQBYBi9bAAAEXlYAAABADvyLFu46/Ug9G9RqDtEic9H+SkXr1cLD1szANGjhujl7ntlEf6VG9wAXJ3KAL8eh4gHrufR7l6qqr1mAVeNlLwDAMnjZAgAg8LICAAAAcuBftHDHqcGrRJhYe7N8a85spjT8Kz0MzR+URv2Vmt0DDA+KMgwu7NGJuez36K8ULg8vewEAlsHLFgAAgZcVAAAAkAP/ooW7TfY9KsLSq+p/1B6YriQoFUR/pbx7gK9t2rIEwmLby8/RXylcDl72AgAsg5ctAAACLysAAAAgB/5FC3eZ8Qj+j2JApKsSD0xlUHpIwxU08TT7K41MqfuEdzWwYH+l4z4d7vpUeeBR9eXV7Sm4uXjZCwCwDF62AAAIvKwAAACAHPgXLdxl4pF1FSLu9Pmb6b5PaJI72JzQ4M8yORvOyoJS2V+pQ/Vj/rrZ3UBRBqTjDlWcOmXe6ospTf5pU9VxqHSEsBTm42UvAMAyeNkCACDwsgIAAABy4F+0cJf1qb5wWCpaabrRAEpLu4Sw1NJfaWRIzR/Utj7p0mSp/kplS1yEpZAFL3sBAJbByxYAAIGXFQAAAJAD/6KFu2xErc0Fw1LR/6e7R4NcfYte0mP4or/SzfTuBMYvtlT/rFtUfbRMf6UISyE7XvYCACyDly0AAAIvKwAAACAH/kULd5vo4zN7n6UT6j0tkv9uwt9YwOUN8GTvr9TwvU9+QYXDTnp/pdPzPrX261TfrVPz9SlNwnWyhKXTEfWPGsG89YM2nZyzxPdiQqdvW9QI3u/Qydsu9fXoU9MRnbxsBn/bOOpT/3WXZqw93DC87AUAWAYvWwAABF5WAAAAQA78ixbuuEk36IfTcVyqH89q2ikfm/d2+rR8VGoPSrV8gemYOtsO+e/563HDg6IMSwt7NOBvivefb5Hj+tT7OiWa9Ki24ZC7r+fkYakaIOuXTjBo1PS/h1R2XPLf6z00pf6zIvlv1b+/n9LhjyVqnau/3SzT4Re5z6fjLvkFP3sfqrD2eNkLALAMXrYAAAi8rAAAAIAc+BctwOR9nbwgMC1T86MlCv02oNYjj0q/n+QISmUYWng4OwxdODCdTmg8HtHJUYVcx6HKiyGNxxOapv296EZAbKutv9LzFpUcI3C9GFLrlxLVXsfD0SgsnVL/9xKVfu+Hy+rviD5YdSvdE6pvFGIh9Ohlg9r/6PXYopb4f+Vkv0En0T/hhuNlLwDAMnjZAgAg8LICAAAAcuBftADC5FOLqp56RN0tU1U8Nr5bp+qmSwWvSi1biLqIcY/2djqZQtDhK5+a/0lEmRZisCn9WL05FWYMQCX/pvJKPwsfkV0SlGMBZhwPS5XphIYfetQ9alBFDCIVdmkgWpa6wToVvDJV91vUDx/Tj/qLdR9UyD/o0Om32FLhhuNlLwDAMnjZAgAg8LICAAAAcuBftACRKU2+nFDvb9HHZoNaf/fp9J9JsgXmLdV/JsJLn3qpgS4PS6c0fFElr1Ci+utTGk2msmWp2f/rxYQGLxpU3fSooFrvts70n4+od+BT5YEMVMXj//2cmTSsD172AgAsg5ctAAACLysAAAAgB/5FCwDS+FWFHKdEhzrMVKYTozWoGZZ+apArWrF+iOYNw9Kvp3T6dUDNZ92gP9PAxZja2w45z/pE4y7VD4xeUycntPeDQ+Xn84fZgpuBl70AAMvgZQsAgMDLCgAAAMiBf9ECgPK9T3XXIdccxEq89kz3bzqgvUIUlk7fVFm4Oqb2QxWWvvfJf98n39mi9lf9PtHwr5L8e9E/amGPToxWrL2n8weogpuDl70AAMvgZQsAgMDLCgAAAMiBf9ECgOFrj+oPCuT9XKfWUZNqvzboRCSn/7Spek89Lr/hkveoTaOLIXUeeeTcr1Hr7zY1ntap865FZcclb7NO/Umf/I0SbT2qUuOl6NO0RuWf1PLOW1T2yrT1qE6tv3vU3t+i8qNsfbrCzcDLXgCAZfCyBQBA4GUFAAAA5MC/aAEgaToZ0/hbxt5av09oPDb6dp1O1f9PafpdvfRtTOPwcX7xSP5UzCb7iR2PaaLmg9uDl70AAMvgZQsAgMDLCgAAAMiBf9ECAMDq8bIXAGAZvGwBABB4WQEAAAA58C9aAABYPV72AgAsg5ctAAACLysAAAAgB/5FCwAAq8fLXgCAZfCyBQBA4GUFAAAA5MC/aAEAYPV42QsAsAxetgAACLysAAAAgBz4Fy0AAKweL3sBAJbByxYAAIGXFQAAAJAD/6IFAIDV42UvAMAyeNkCACDwsgIAAABy4F+0AACwerzsBQBYBi9bAAAEXlYAAABADvyLFgAAVo+XvQAAy+BlCwCAwMsKAAAAyIF/0QIAwOrxshcAYBm8bAEAEHhZAQAAADnwL1oAAFg9XvYCACyDly0AAAIvKwAAACAH/kULAACrx8teAIBl8LIFAEDgZQUAAADkwL9oAQBg9XjZCwCwDF62AAAIvKwAAACAHPgXLQAArB4vewEAlsHLFgAAgZcVAAAAkAP/ogUAgNXjZS8AwDJ42QIAIPCyAgAAAHLgX7QAALB6vOwFAFgGL1sAAAReVgAAAEAO/IsWAABWj5e9AADL4GULAIDAywoAAADIgX/RAgDA6vGyFwBgGbxsAQAQeFkBAAAAOfAvWgAAWD1e9gIALIOXLQAAAi8rAAAAIAf+RQsAAKvHy14AgGXwsgUAQOBlBQAAAOTAv2gBAGD1eNkLALAMXrYAAAi8rAAAAIAc+BctAACsHi97AQCWwcsWAACBlxUAAACQA/+iBQCA1eNlLwDAMoIC5f/8b0yYMGHChAkTJkyY7tTE68WXit/QAwDA6vGyFwBgGUGBYqk8YsKECRMmTJgwYcJ0mydeL75U/IYeAABWj5e9AADLCAoUS+UREyZMmDBhwoQJE6bbPPF68aXiN/QAALB6vOwFAFhGUKBYKo+YMGHChAkTJkyYMN3mideLLxW/oQcAgNXjZS8AwDKCAsVSecSECRMmTJgwYcKE6TZPvF58qfgNPQAArB4vewEAlhEUKJbKIwDcbbysAAAAuMkSdV2EpQAAAACQylJ5BIC7jd/jAQAA3GSJui7CUgAAAABIZak8AsDdxu/xAAAAbrJEXRdhKQAAAACkslQeAeBu4/d4AAAAN1mirouwFAAAAABSWSqPAHC38Xs8AACAmyxR10VYCgAAAACpLJVHALjb+D0eAADATZao6yIsBQAAAIBUlsojANxt/B4PAADgJkvUdRGWAgAAAEAqS+URAO42fo8HAABwkyXqughLAQAAACCVpfIIAHcbv8cDAAC4yRJ13bsdlo6o9aNDzk6fvwEAAAAAgqXyCAB3G7/HAwAAuMkSdV2EpQhLAQAAAFJZKo8AcLfxezwAAICbLFHXRViKsBQAAAAglaXyCAB3G7/HAwAAuMkSdV2EpQhLAQAAAFJZKo8AcLfxezwAAICbLFHXRViKsBQAAAAglaXyCAAAAABwa/C6bo76Ls9BM+ELyWvwe4Ecp0rd7/HXR0clcpwC7X2Mvz78S7yu5zfC0m8Daj0pUsFxyHEccjfr1Psa/9vAZEDtnTK5G3I+xy2T/2JAk9hMffIdh0pHQxq/q1O5IOYtUes8mmP8rkGV+2LdxXsFKm432OeNqLXpkOPVqc+2DQAAAODK8IpjjsojAAAAAMDa4XXdHPVdnoNmwheS24e9IOD035svjqmzLcNM78/T5OuPuzQN/q3C0kc++Z5H1YMu9d72qHtQIVeEmD806fTC+PNJn3xXBKRb1HjZC+Zt74rw1SH394ExowpLtytUetKhkfyw0PCoHPxN8dcWdd/2qPd3k6qeWN8KdcLAFGEpAAAArAFeccxReQQAAAAAWDu8rpujvstz0Ez4QnK7kMFkwQwrxx2qOCWqbBfI+bFFI/369y5VHYcqr8bqBRWWOi757+NtQ0//LLKWqVPq7xTIKfjUi8+qWqtWqKMXq8JSp7BHJ2bYKpy3qCSC1L+G8dcnPfILbDsAAAAArhuvOOaoPAIAAAAArB1e181R3+U5aCZ8IflNqftEtMBskm5DOn1TDf49eO/HQ8zg31vUNltvirD0wSGx6JLoc5M8s8WqClrjLVWVs8MgAI1at6qw9GkvPl8QwnrWbgOE3lMnHu4CAAAAXDdeccxReQQAAAAAWDu8rpujvstz0Ez4QlYhCEfDPkGn1H2sQk0VcFbfyOfgg/5NY2GkCkstoWbYAvRIza3+LfsYtU/hvPoxfN56VLyzk/y7+OQThpsCAACAtcErjjkqjwAAAAAAa4fXdXPUd3kOmglfyEoEj92rx+uDx/L14/Oqj9JgtPshHT7gLUONAZ64lLC0vC/7NbVNJ2e6c1I9wFOyjWgQlv5PjVqWv5fTKYVP8wMAAABcN15xzFF5BAAAAABYO7yum6O+y3PQTPhCViMauGkiHrUv7JHu+XP8qiL/HQSqHjU/m3+3QFiqAlnrY/gJ6WFp0Lo15TF8AAAAgLXDK445Ko8AAAAAAGuH13Vz1Hd5DpoJX8iqjI7EIEt1avxeoMJvJ9EbQehZosYf1ViIKi0QltKY2g/FoE3JAZ6S0sNS+rBHhZRH9AEAAADWDq845qg8AgAAAACsHV7XzVHf5TloJnwhK2P0KRoNtCScUtNzqFAoWELRRcJSMZBTi8riMzZK5B/px/G71NqvUvlnsy/UGWEpTai/4wbr6f3coLZ+/P5lk/xtj+rhuo+otSkGrqpTH61QAQAA4LrwimOOyiMAAAAAwNrhdd0c9V2eg2bCF7I6MhQNBki6iL8jH33nIaqwYFgqho8671Fjuxi0Dg0GZNpwydv0qfUfs6fRWWEpEV1MaPDCp7IbDexU8EpU2e/QMGy1irAUAAAA1gCvOOaoPAIAAAAArB1e181R3+U5aCZ8IQAAAACwxnjFMUflEQAAAABg7fC6bo76Ls9BM+ELAQAAAIA1xiuOOSqPAAAAAABrh9d1c9R3eQ6aCV8IAAAAAKwxXnHMUXkEAAAAAFg7vK6bo77Lc9BM+EIAAAAAYI3ximOOyiMAAAAAwNrhdd0c9V2eg2bCFwIAAAAAa4xXHHNUHgEAAAAA1g6v6+ao7/IcNBO+EAAAAABYY7zimKPyCAAAAACwdnhdN0d9l+egmfCFAAAAAMAa4xXHHJVHgOxG1PrRIcdxyH/P34O7aUqjt02qH/RofMHfS/FtQO39BrU/Tfg7d5C6pnb6/I0ba7DvkbOxRe1z/k5Wt2+frMR7nxynRK2M+7W/I8pqn+buxQWXC0v42qHKhkPebp+m/L0bZHRUynZOrRKv6+ao7/IcNBO+EAAAAABYY7zimKPymNl5i0qODMqS0xVXni8mNHjhU9lVn7/hUulJiwbf+IwWFxM6fd2gygM3Wn+3TP6LAU142HMxpt5umdwNOV/hfo1atoDnrEVlp0jNz/yNNH3yE/vQmNY2JLgZYenkY5v8zej4ups+tT9ajtuC89ok/v5BjVq2v58MqPWkSIXwc+rU+8pnIpq898l1qtS1LMIqCDqu4RrUjHKh/HzE37WSIY6Y6tezzmvltgWDU+rvIiy9FAuGmghL18h5m7YQli6H13Vz1Hd5DpoJXwgAAAAArDFeccxRecxMhSLe0zb13vbYdEpjPv+lmVB/xwin7nlhAOW4PvXnhEz9Z1EoWfC8MAgNlrXTp+jPp9R/Jj7HpcpBl3p/N6kShLMV6sRCrhG1Nh1yfx+YL86BsPSyDI/K0X4smMfXJf99/ORYZF6b0Yut6O9djzyvEP67fDQ05wzOEccpUv1lj3ov61QM/maPBmZA/71PddehyqsFrqbrDkvFOnviB4stap2Zb4zp5KhOlftbiRBG7zfvmXm9Xb3pWZeaj8vk7l7FnjulzuMyVV7wQBnBYNKi+yRt394yC4aaCEsh5r8dqm5WcvyIgbAUAAAAANYdrzjmqDxmpsLS0tH13pBO39RUuFWNQstJn3zVyrR4YIZUSSJorRyd0Dhs3jGl4V86NDNuGL93qSoC1d9Ooj/+sBcEs2aYNX5VIcetU/97NNt8UVi6rqGj3ZqHpV/btKXCztrrkWrBYxzfwh6d6HBykXltLqJjWPorOueiALZGXX1OfG6S5zi09cI4b4LAsEB7H8OXaPC7S85mixa6wq47LE2l98/6hjDyxn+RUC4PuT+S5eeiweBdsOg+Sdu3t8yCoSbCUohZwXFGWAoAAAAA641XHHNUHjNbi7B0TJ1tFVCx9Zi+qYYh16w2npOJrS2bJby0bS9/TfRD5rhUP170wTrL590I6x2Wjp6roPJhm7V0HlLzh/h6LzKvVfj4eYU65gIuesmQUAWaseXx1z7ukeuUF7+RRVi6NISl62rRfZK2b2+ZBcMuhKUQs4LjjLAUAAAAANYbrzjmqDxmxoPCWaYj6u1XqKT7FA36cqxQ4x1/vDi6KZ58alHt3ryQSgcwXrJ/0H9Ev6HivTK1/mHvzRWFl/Vj9dJYBKEOeX8Y0atqWVp9I8LRCXUfO1R42lviUeKMYWkYyJWodTam7o4n9+czdasyHVH/yKfyPbP/1RLVjgbxddKB2o/JVou6/8jEcf3ao8Z21Mdm4SfRx+YwU1gatv4VfW/yFrfhNhWp+UXNfy4+qxQ9Bi/6oN1u0yn703nCvjAtIYt+z/tTLnWRea1Uy+PEzac6b2Ih6kd13ryOjopsWarO44vTIKA1W6hmtkhYOhlSZ7dMXiHaz+XdHo0SWb8YtKlBlfuqWwE13/hMHzvzs5LnctQnKZvUvg5DSvN8ZOe62Vewu9mgftAf8YQGRzUq6vV3y1TnZUqWayK1/+X4sZx86VB90+zmo0z1t7oVcnb2/aE/ywgGv2Xr1zboS3m/Eu2HQpEq+/MH2Br8Lo5n8pqUxyPeylkY/iVej88/fmecF06BituNxDqmBipiYK+d6Lg69yrUPJ5QLxHqZd8ns/etLseMskXsqxczrmtd7vNrX7ck3+7Ef1xRP47E5td9ahvdchQ81S+2+bd6/S3lsjUATgu7Mu/XFMZyY8dXXPc7bRrwlRYm7DN1v998PitVvhj9hlv7A19wvaLzjvVpbr0+5tc97N9L7HwPfuRyqMjPl3NZH4m657EcT+O1YB309hXK1DiWGxd7fcNLfrcL6vjzcj3a3qiMjk3svFv82lY/LKb8QC3rAQXa+0A0Pa4H+2lrma4yeF03R32X56CZ8IUAAAAAwBrjFccclcfMsoalE9WHoePR1r7q3/TvFvkPZAU90ZejuGF5WKHKw+b8AZrCkCN5wx/dECRv+ueZvPPVzbjx6LQKQ8V21I7ENqg+S1U/k8HfFHzqJe5cskgGTFZGgFR9XIxucnjo5HpU2q7Ebs6TN9nJmyPBGpYGA1bpm6oCefdUf56FEpWCYztnvY1H1GWwHAnXWbfoND/LLVN1t6q2I8NNPnP6pwqTE61Fp+pYRvtukXnTnP4pj4n7S5tOxXkzHVHniQwA3GfGQB4qDBX9ejb+NvosVcFLEEr9eEjDOWGXVdaw1OiqItjPT42wbbMV+2zel6ungkd3sxx0JzAvLD3Zj/5GTKJvYHEOefuyS4vZYalHZTFg1oYb6wPW+aFJXbVesX6KjdA9tuxZ18Q/baqK9THChWD97lWprX5okQNtyffdzSr5xg8H8TJsvvFn0a9zI+j2Ierz+YSGQVmjysBHPvmeR1XRP/LbHnUPKvLzf2jSqXleXAzD/m9rR3reqjwuPMjj1I898Ws3aq0fDwjV64+74Xmsz4viry3qBuV6k6pBeRDvx9kalurzb6NEvl7vI59KGy65wXlpCUsz7JOZ+zZo+e+Q86BO7eD1LrV2ylTQPzZZjan90FJWqh88Et89wevGj3fi+Ii/F+fbjtpPb9vU+FmWN/F+sVcQli60X1Oo5TaOfPK8LWqIfpXf9qi9vyX3Nysfws90jXl35XWXqe9uVWaF+yfsD5y1rF9wvfR5d3hUpsIDn1qirBXH/FdVTsf2/ey6x+R9XV5TxufK/arWM+yfWfdtbl4Dqu4Q65Pacjz1a0992rpXpaZY3/CaKtHhuxaVN1Q/12+71PxFlqnxPq3Vdpj755na3vA7aEynYj//IX+g81+ovub/M8x9bdu6k1HvyPLjhyaJ0hJhKQAAAABcDV5xzFF5zCy1NZZ5AzCl/o4IJ8ybCU0PzLRF7bDyrR/rNl+bIVwH2w1gMrTJxAjrEi37pkNqG62avO2mbOE26ZFfEEHgUklpeksPvv6xfV6mw/+y4PF1IzHyug7wHK8ZtcxcKCxVYYGYf/OQhuFHTmjwZxSizdvHJ7+pkOpJFLaYy9b9d8rWbiIY6cRChMnHQWJd51JhULwfUhls6+ArDEAXmTdVfJ/oyf21m2zl961PDRECBvMUqLzTkfv27JBKIvDjLaWzyhSWGt1X/GG0TLoY0qFqKRz2pxr25epQ+a/oZlq0XmoGIR3/rLTrTr+ebAk3OyyNhyCTt/qHDDGV6fCLWiN1DYrXzZAv8zVhrgc/zjpkE0GN2dotOFbi9YzlVYwtLBF0GZgcVEyudzyIkOtcokNWvsoffGyhhUH9iFEwA62gJWWJKtuF+PFQLafDYEb/WMbLSHUczGXyQGXm90JY/lrC0oz7JG3fyq42kvtqOp3dNliuf7x7jaCc2q4E14Z5ngc/uhgt6+TfJtdbkIGUbGmn5QtLZ+zXf9rqHJ5VLijh90PyB5uJ6t6m8lrvDPWZlh8KZUtk1i2JzXGLmrwV6adGEE7Gzq8s62UEh/p6tj3tkTxvZtQ9vvdl2cJDYkEHxeaPbOq1wo4MJ6fvxbXoZjhHdRlZpa65wmFZyM6jixPaE+sV+1FkRJ0D/n0zoc4jeex75uuJ80fJc21/71KN9+0uqO8Rs5/upfG6bo76Ls9BM+ELAQAAAIA1xiuOOSqPmakKddR6J5pOztTNp21QJJNaRvm5vmFQNywPDoPWB3OtOCydHO/JFn5Bq5MeTfiNkZVqSfK4G9yQjd/VY4/71V4YAVOqxcNS8xHumdRgQrF9tEhYGnZnEG+xJ51SM0vLUiFsieVTX+/XMIiLWvCGLTzdGnXO5++52XQgr/alaDGoArXiD+pzwmBskXnthq9Uiz5L68OtA8vjkgmjoJWgfIQz+Yi5fhRzpixhqXndsHM8DAxVC8KwL1fVIigmDJgvMyzlXWwMZEBgKVf6z9S+mnOcrNeEuR7s79NejwKWZIvp+WxhiTCjDFTrHe1Xdf0ZrT1D6nHw5PJNU+o+iYfGQV/PXpMGwXlkBF3Bv6MgSV6nthb9RL2n8WOZCFR0SJvyvRD8vS0szbRPBPu+1d2BxEL/LL40g++F6BjL/V59cxqsVxQeyfWMtksdn0RrdUW3uDdatuYKS9Uxz75fU6gyxH5Oq+vvaU/+U33HJ7opENSPCXO/G6zUvjGvuUXWKzzvePmhqO4VokAw/RyT/Z/HQ22T/Jx4dz/yx4oiNT+d0J5ra2FrOZ56m41tkNR5xH7cEYJjmvLYu0n/qGJrqcvL41zXtj6H2YCIcj7zSZ0ceF03R32X56CZ8IUAAAAAwBrjFccclcfMdOuDWTfjah77zY3AbxbVDUviZiGFEfrEWkwEdDiTcrMUM6HBgXh8TAYfxd9PMgRbknycTD6aph8t8x41qRs+Jlcg/33a9mtpARMTbm/yBkeaBo+htvbr5G+XYo8+Lx2W6nmtN2RRWDRzvQPJYFU+ssduiMNuG9R0r0KNt0OaJo5vRqK/QEu/ljpYi52/i8zLqUAl1tpR+KZbPM4/D4JgUj2qqUPK0q74MaJN9fuzjrshS1gazjNjUueGPh9irQ81648VaefysmEpnz89oLSHmhmvidS/T+sHMz7NPDesbGGJMKMMTJS50b5OnRIBb5wMgvQ+ll1OBMGXCsH0Pg5aUhrHZ/4+ifZtIlCZ870gl20JSzPtEyFl314MqfNI/fBRKJN/1FddH8yjyi69L4OAVoZJQbCkQywVwEXnvVwPa5AYUNu1yfarpVy2bhMPuxberynUcnkLXEmts15H4we8tClxHCymZyfUPqhT/XE56uaFn7+LrJdx3iXrBgIPY9PPMbkce3gYUOVp2L95QHfbwx+/1yzH0/qakNw2zXpMp+Ix+xY1dn2qPPCM7kuyhaW5rm0h0b2H6st0TlmUGa/r5qjv8hw0E74QAAAAAFhjvOKYo/KYmfUmlZlz85YalmatVBuD6iRuoMIWkfMeA5xQ/5m6gXaKyQFiZrkYBK1GZMtY9Wiz14hujNQjaWbLIbu0gIlJDZCEEXVUH2ayX1HR32ed6r+Wk63/lglLLa1aFgtLiYYH8vFn2fJJP4JvabFzMaHT1w2qqEE2gsn2COTSovWO3+DaZJs3bBFrudkO35t1XgePertUPxbXimolZXZFoMLYqBV2ikXC0o0S1cQ5Ypv+1Q9aw+nzwRr4XHNYys+5ZNi5wDVh/XspDA9+rCX3k5oOjxcoNwJzghHbuZIoc+Uy3F9bidb94fR5znqpgC94fDlo6agfTVblWbAeQzp8ED8Hgn3yPzVq8c8Lp9OwNWUiUFHb4b8LFxeTDIAW2SdC2r6Vpmc9aj7W54BHdcsj8lwQFqsfjILt0Y8+By3m1Tn6TlxXZqh2PWFp9v2agi83Rq2z3n71meV92T+qbQqfNLGKvn8L9yvk7zZk36LHh/K73RKWZlov23kXI/cnbxVsO8eWC0t136XieCa7DbAeT+trwgJh6VmLtkTQLAZ1elyn+oF88qcT9CG7QFi67LUdUOGo7nIn+HHB8j2/LF7XzVHf5TloJnwhAAAAALDGeMUxR+UxM+tNKpPxMfyon7H0Gxa7KDjhfWHJFlP2GwxT+JixrZ+3OYJ+z8IbXdsNTdbtSQuYmNQAyXjMnfcdZ3vkODVQk6GIeC88ruHf2/pyU2HwvPXW9PqL0EGPEm97vNsw/dKiimrpGR/IIofPqhUoe1TQKuO84SPgS4WlshVSNACHOh9i86fdSDOpx9YQ9rU5IwBQwj5kLY8S68ea1zYsXeSasP29IvteTHncfWlpx3NGmZEoc1Wonmu9ooGbxCBWZgvy8auKca3GW+jL82L++SMkAhX1Q5Y9RNQDql1eWBr6NqBGcC4lu6NICAdukusSlUXyGIh/B/skdiyyPYZvttqW4Vc9ee3atpOHXapMzb5fU6gyhF9fAf2drtd55mdmoLeL94+puhRIhqUZ1ys873j5oagyIEvdI9tj+PEfZeWAcC7t/S37ik1sn/Uctb0m2OoWEg9Lg3/z8i4sw7KFpbmubUU+NSIfuw/6K5/zPb8QXtfNUd/lOWgmfCEAAAAAsMZ4xTFH5TEz281bguoTzxpE6j4izdFV029Y0oSPcrs+9fQItsZI39HN0JT6uzK02nququ16gIRF+gDVgsDJbNGqW5YaLTAtN3B2aQETkxogmS1AjZatFxPqPdWP4CVbdvHtHr+uhn1shsfV2EfuE2PgCLFso4/Pmesd0q1JPfJ3KsHfFQ/it1Cn73s0iiU/UYCrW1WK7g6CsOvhvNamUxqfjWNB0vSsQzV1bsRbaS4y7yjcDt0qLQoO2WP4X/XAKunXStC/XewG1xKCJW7uU2QJS3XLn+CYduL7W3RFcFCntj6/Uga+oq/dcN8sFpYmB0K7tLB0kWvC/Hs+4nzYxQLbB4IY6Gq3nQgx5lP7I9HqfEYZaClz5cBplpb1C5DbXafG74X4D1vB55Wo8Uc12Q2HOi+SIVBSMlBR558l1Jl+aqh9nT8sTexby0BOmQchUsFmeb9BFfbDURBQPW1Qw0ten7I1/awBnuID/8gfVpIDvOlByWaGpXo/Zd6vKfR187iT6Ldbroe5zqpMt3xmJsd1eS2z1rB6wCZbWJptvaLrufjHgP2YoB+Rz1j30D8K2p5u0HUNc5Al9Zr+8UsHlfFr1BaM2l4Tsoalss/rRL+rF6eqvLeFpbxFbN5rW1H9kVdfd4Nt4j9m58LrujnquzwHzYQvBAAAAADWGK845qg8Zma9SbUIg0uPtvbVYFB/t8gPAjB+EznjhiXNxVDeIAQ3guJRWy8aLfuhGWJEYc0i/a1Z10WNGs5vJoKWWOLm7JnYTt1nafLGNyktYGJSAyS2LQUv2A9igKLyjq9eN29ootHQxVTwPPLEMSr45Aej5saP6/i13K5gEgMf6T7lNuvkpwRXafQ+KhREyJNsrSpv/grkPaiQL/qv04HcRnRjG/WpZtkPMVGw5qr9obfD3emzfmkXmNfc1+H5YT7yrfap2T+m7UZbCEYYLpD/Lr42g9/F37pUORCPt+o+S9koyTZhWGqfwuOqW8wGk7xuomvH3K9j6vxiLEOcW6oPPPu5lXYuR/tXTGIfu7vqFv+ywtKFrgm274Lt3Ao/+1R1IRFblu4L0FjvoFWWtcsKTm9HmfbEY8dHTeoEnzWjDLSVubby9W2P2gc+Ve5ZWijaGPspvk9ly8jgWk2sTzQgmvdzg9r6Ed2XTfK3xY8I0Zy2QEX37+y4W9R4qdZ5f4s8T5dBecJS+74dHZWp8JMvH/MO1rVOJVGOqcH55om6Y4iHVkHLw0IhehzfZHw/lXZa1A32U5saP8sf7spHLJA6V93HbJSoHuyXLrV+LZLzuBr88DY7LF10v6YIlutRedMl50FdHdsuNVV/r4ny8CxaZ/9IP47fpdZ+lco/JwO+GB1Emuu7W6LCdkUO/pcIS7Ovl25ZWt7U/YjLfV/XP77F9v2McyxsKSp+eInWs3vky/PH9akffrD6McYMj3VYGXsc3xaM2l4TsoalUVc3xV/VufZ3k6qeR5VtS8tSfd1v7gXztg46avn5rm1J/VDuulSwDOykz9OtF3yLMuB13Rz1XZ6DZsIXAgAAAABrjFccc1QeM7PepKaYDKmzWzYCqAIVtxvU+cJvUWffsKSajqi3W44GhRCj0B8NWOsTS8vSJcPS4NF93voswAYIulej1ie+jTZpAROTGiBJk+Nm1M/nhif3Qfg37IZmMqDWk2i09sJPdep9jQIBflzH74w+REV/aLuiBWh6cJUq7GfW/vjw6I1PZTNkLHhU3mnTQLcaXqhl6Zj6vxmBq7ihfiAGjGKtAxeeN9myNKD7Wr2vWy6K0FQMJHMStciNUf3a2cKai3HsnNbHZ66sYan49PMeNbZL0XUjQtNNn1rHbJvFuuxXyNPziYGvxH6xnlszzmXRUtfYN96BbKt4aWHpotcETehk3yxHatQNG0RNafS2QZUH/NxsUf9c7y25bvNbkitif+h1Cz9rRhmYVuZ+G1B7x1hv9WND4/UweV5Z6cHXko+j624Y+L4OiFbIL3wqG9dMwStRZb9DQ+OD0wKVyac2+SL4UussvhOiMihPWGrft9OPh/Hj55aodpB2bSbprl0Sn6W7FLGEWYGLMZ0c1Khkli3iOvuPvbXd5FPLuE4KQVk7Vi1b54WlQvb9mkIv92xC/YP4de+/GFjPKVmWRN8nwY9qM7bRlNjenQ4Np6ocSYSl2dcrPO+mQ+rs6D5qZd+ojUTf5DPOMWXypUP1TePH2EIxca7rFrG89bwOB6MfWC3H0/qakD0s5d8bYoDE5vGEhio45ufK8FUt3I8F8eRIuJx813ZAP5Wg+y41ICwFAAAAgKvBK445Ko8AAJmoR2hTb5bvmuCHAD1AEiyr91ScUxlbxcLdkRIOp5kZ5MHlC8LS9L5el8brujnquzwHzYQvBAAAAADWGK845qg8AgBkIfvLjI/mfacFgwAlW2fCAnQfyWYfkAACwtIbRD2Gv8qBnTRe181R3+U5aCZ8IQAAAACwxnjFMUflEQAgMqLOfotOxrGhr2j0uib78Msy6NQdEQzkMuMxXphPDnqEcwosEJbeHGqAp5UO7KTxum6O+i7PQTPhCwEAAACANcYrjjkqjwAAEWNgJlcObBT1jemQ+0tnTr+xAEmjFxUqP65TUw2WIwb9q6tBj8Q5hZbKkICwdO31n+9RNxhUig9otUK8rpujvstz0Ez4QgAAAABgjfGKY47KIwBAZErDN2JgI2NgEz2AkHXwK4D5ph9bVN1kwXswKNUpG5gPQEFYuvb6z9RgUD816ISPuLUqvK6bo77Lc9BM+EIAAAAAYI3ximOOyiMAAAAAwNrhdd0c9V2eg2bCFwIAAAAAa4xXHHNUHgEAAAAA1g6v6+ao7/IcNBO+kDtnMqS+6DvFnD7bO6cdf2bzBVOfhpfV7BgAAACA4xXHHJVHAAAAAIC1w+u6Oeq7PAfNhC/kzvnUpNI9jzyvEPah4hT26CTRf8qUTvZLbD6PvAc+db/yeQEAAAAuCa845qg8AgAAAACsHV7XzVHf5TloJnwhd9bnJnlGp9O1N+ldmPeeOlT8Y4BOzqlPvuNQ6eimj2F407djQoOjWnj+1o/5+7fEgh19AwDcWrzimKPyCAAAAACwdnhdN0d9l+egmfCF3FViBDXvzxPqPlaB6cM22R/GH9LhA4+an/nrd9FNDxm1m70d41eV4JwtPmtT7+8mdT7xOW4JhKUAABKvOOaoPAIAAAAArB1e181R3+U5aCZ8IXfTNAhJgxZ5H/aoELQuLVLzC59PJFMdqjg+9ROP6V+VU+o8LlPlRf5gb3zcoMr9PerzNzK72SFj5CZvx4hamw45P7boJq79QhCWAgBIvOKYo/IIAAAAALB2eF03R32X56CZ8IXcSRciLKtS97v4x5CaP8jWpYXfTvicMrB53L3GR/BXF+yJ1rSOCH75G5mtbl2u103ejgHtFRxydpY/ijcGwlIAAIlXHHNUHgEAAAAA1g6v6+ao7/IcNBO+kDtJ9Fe63Qkfux+/2FJ9l9ZUgBo5/dO75lBtdcEewlLtJm+HXHeEpQAAdwivOOaoPAIAAAAArB1e181R3+U5aCZ8Idfh3//+N5VKIrhzgv+Kf18l2V/pafTC9y7V1EBPWy/MnktH1Prx+vor7e9EA1BFUzw8mp73qLFdIlcPVrXhUmm7Qb2vxoLOW1RKLCceuE0+tsnf9FSXBA45bpnq73gvrllDRrHf1PK/Daj1pBgu191sUP9bfO5gO62PlVs+LwzQ5CBHRdHKUrQK/kkvN/66c69GrU8TY5mCsdyvYv+Z6+dTOzG/aI08pt5+JVpuoUiV/R6NY90zRNs9+dSi2j05r//enMfiYkKDFz6VvUJ4bApemfwXAzLXxH4+zAm/g+0zzg+x3i+Mcz/rsb+O/Z4WlmY6Ftm2HQDgRuAVxxyVRwAAAACAtcPrujnquzwHzYQv5KqJYDQZ+DhXGJiK/koLtPcx/urJbyqo+qFJQ/1i0F9pfXYYZROEPMltjE9zQi7x8Z971HvboC3HIe9pm3pvxb9PaKhav07e18kTy/K2qPFSvNej7pFPpSAcKlPrTC3o+5BO3vao/dQjx9miRrCcHvU+q0BMhanezw1qB++1qX5fLMOl+rHZAYElvLRSoeEjn3zPo+pBV67bQYVcvo+XDEv9nS3yHjWpGyy3KvfDj4fUOyqTc78ut+PvJlVcsR0V6pjhsV7uH61g/bb21b592aCtYH5j3wkXQ9lPqFOk2pHeFvWZRgvlcLsfVqjysEkDFgpbiWU/lOdEaacVbI/Y/42fxbFyyBXBq5rVPB+cnxvqfDhNGZhMhIXi/HXIeaD2x9sutXbKVHhmnHlZj/117HdbWJr1WGTZdgCAm4JXHHNUHgEAAAAA1g6v6+ao7/IcNBO+kKumW5TySbx+JWL9lRq+NKkYrEuB9j6o15btr3Q6ofF4PGeaZFyuJTAUvvfJFy3rNls05C3qJn3yRfj0sB0L0lIfwz/vUPMNi9wmHaqK/fG0Z7yYsi4JKjR0XPLfx1sLnv5ZlPvYCKsXD0ud4LiYS5bbJlpF+tQ331ADeFVemdunHmV3SnRohnPCpCu3+5coeJPLTs47eedTIbYteru3qB0LCdPJZSf3kzAUAaR5PgayP4Y/ei7+Prne06lx5mU99le1383A0xKWZj0WmbYdAOCm4BXHHJVHAAAAAIC1w+u6Oeq7PAfNhC/kqvGQ1JyuhOivdNMWzI2prVr46UBo8HuBys+Tc14tS2AoQp83VUuQFpGhUpla//DXLGGplQr+YiGmfV2S1N8+OIy1IA18lCGa/y56aZmw1Pz7gDiuooWk2b2CcNELllH4fWC8qEK7lCBcHHexn3pBCH1KTS9lXrXsaP1mbLeVWjYLtUNBsO+QE2sNmT0snb6pBfuq/Ncwue4zWY79le93W1ia/Vgsv+0AAGuIVxxzVB4BAAAAANYOr+vmqO/yHDQTvpCrdt0tSxP9lRp0wCIe8W1+ud7+SiOWwDAMPi0tZDUVbtWPo5dmhaXT8Sn1jhpUf1qh0j2PPN0fZJ6w1Bboqce+zWUsHpZa+rG0LFeyhYtquX/ZI03delF+hm4NOWMKl622O9Yadxa57LTzMVxeLNy3bU+KiyF1HsnH+Z1CmfyjftiFgynTsb/y/W77zAWORcZtBwC4EXjFMUflEQAAAABg7fC6bo76Ls9BM+ELuWrX22ep6K80HiDGXJzQnh645lGVtpbpr1RYUZ+lkiUwXHFYOny+JdfJLVN1t07NoP/TDtUf8BDTvi5JNyQsTcwryf1UoU7Q3FPO6/7aUn2EWibd9+us7ba65LBUmZ71qPm4rAZT8qhuPPKf+dhf+X63feYix0Kate0AADcGrzjmqDwCAAAAAKwdXtfNUd/lOWgmfCHXQQSjuoWp+O/VBKUz+is1hH0wisn2uG8WV9BnabbH8I3gKS0sVY96F572Yn1REg3pkAdmKeuSNCM0tIRrcpR3SzBtmTcZoCm2eQPpoZ11/VSg7hT2SD5APpABeqZzYcZ2W2V7DN/6KHvmzzB8G1Aj6FPVp7541H2RY3/l+932mYscC4ZvOwDATcIrjjkqjwAAAAAAa4fXdXPUd3kOmglfyJ0i+su0tmA0fO9STYWl8cFprosKmPgo3no9Zw3wFBup3d6PKf3TorLt0ejPasCrKwhLT/8Uj0sXE10eyMGgLjEsdarU4SPWq+12jYDy5DfRl2ZysKCkGdudYnggtnHWAE9ubDAs+/aksAxmNPzLCNEXOfbXsN9tn5n5WMzbdgCAm4RXHHNUHgEAAAAA1g6v6+ao7/IcNBO+kLtg+m1M4y89qt93yPlhj/r/jGk8SYYpmgxk1qG/UkGPsF6mvb971DtqUkeFR5P3PrkifPK2qBE8Pt2j7pFPpQ3L6OSCejTffSIeY+7S3nMRZA2p+YNYfpFqR125jIMqeV6FKrx14SWFpeI1Edo5GyWqB9vRpdavRXIeV4MR0i8rLPU2y+SGn6m2W8zL950Onx2Ptvbb4SPf7QOfKvfMFrEztjvNxZBamzKcL+20qBssu02Nn2V/m+Uj3r+nbXvsRkdlKvzkU0ucN2K5L+vy3AhHtF/g2F/Hfrd9ZsZjMX/bAQBuEF5xzFF5BAAAAABYO7yum6O+y3PQTPhCbr0vqpUcn1iryxjxN+bjwNftrEO1e2q9CzXqGis++dKh+qan+mQU7xepst+hoTURmtDJvu6/0SHvQG3h1x7VN91w33jbTep/GyZHRL+ssFSs2acW1e6LkFqsQ4HKuz0aq8fELyssLR0NaXLcpIretxsulXfaNLDtu28Dau+IkE+fQwXyHlSo8XpohG8ztnuWizGdHNSoFISAcnI3fWr9x3aG2rbHbvrxkCoPouPquCWqHZzQ2GyJnPXYX8d+T/vMDMci07YDANwUvOKYo/IIAAAAALB2eF03R32X56CZ8IUAAFwNS/gNAADz8YpjjsojAAAAAMDa4XXdHPVdnoNmwhcCAHA1EJYCACyFVxxzVB4BAAAAANYOr+vmqO/yHDQTvhAAgKuBsBQAYCm84pij8ggAAAAAsHZ4XTdHfZfnoJnwhQAAXA2EpQAAS+EVxxyVRwAAAACAtcPrujnquzwHzYQvBADgaiAsBQBYCq845qg8AgAAAACsHV7XzVHf5TloJnwhAAAAALDGeMUxR+URAAAAAGDt8Lpujvouz0Ez4QsBAAAAgDXGK445Ko9wzc5bVHIcchyf+vy9pcinNhzHIf89f++Wu5jQ4EWDGi8GNOHvXYspjd42qX7Qo/EFfw9uq+l5j5q7Tep95e8sICwXStQ652/eUt8G1N5vUPtTjqv3Lu43gNuM13Vz1Hd5DpoJXwgAAAAArDFeccxRebw13vtBQJg2rW1weBfD0otTav7gkOP61M+RiyQY50D9mL95DcJj61D5+fV1OSTCu8Z2kQpqXQpemepvRzTlM1pMz/vU2imTV9DXUoGK2w3qnSf/evKpRbX7BTnfhkvlXVtIPKH+jkvO42480J50qSr+brNFw8TfXIcs15GexwzmRtT6Ue2rzRYtfdTvYOjX39HnWH35svAK99vkTVVe20dD/lZu41cVtS9StkMEyztlcjfUPnPL5IsfiWzXToZ5L3NbAHLhdd0c9V2eg2bCFwIAAAAAa4xXHHNUHm8NhKVKlpDneg1+d4PQzX+3yqRU7Ms2bYlAwKuvNoRd1vc+1T0RHG5R68x8Y0wnR3Wq3N+yByGrdNaisr4OCh55bnRNzA1G/jH+dsMlz1NBaDCV49t0rua9X6f22x61nxWD+dzfB8ZMRNPjOrlOhTqWVpc6sCn+ecrfugZZriNbWDql/q4X/N3W8zn7d5YrDP3WxejFVrDfvGf95VuGL7zflrwWv3aoIj7nx8PVh/sXA9oLr1PLdpjXtFOIXdPuDtt3meedUPexeL1Izc/mAgCuGa/r5qjv8hw0E74QAAAAAFhjvOKYo/J4a4Rh6apCxyty18LSL00qivXb7tCYv3dn2EK2yzCULXjFYJp/RF0TDI/K6lqpUfc7+xOTCEDv16l3ZrQi/dYjXwcuO9EZe/qnCAi3qB2GoGNqPxQB7R6FcakKgdJb2epWmeZyrkuW6+gSj+PCoR8EFt5vyxzDKXWfiL9xae8jfy+/0z/lDw32sFRdVyLsfNKhkbo0p18OVShaoL0Py8xr7LuH7TtcNsPa4XXdHPVdnoNmwhcCAAAAAGuMVxxzVB5vDYSlSpaQ5/qc/CZaJ7Kb9DtnmYBmCR/31KP3PvVjrd9OqSlavDoOVV7NiEW+T6yP9Y6OSvJa+zF6zFw+Qh0/h/lrQYviOY+mT9/UgmUXfjvhb12xLNfRJR7HhUM/CCy835Y4hl/btHVZoeLZYbD+hR9L5NnWK2ztnfxBYXigQlb9I8Yi8wZ0CHzXy2dYK7yum6O+y3PQTPhCAAAAAGCN8YpjjsrjZfn3v/9NpZIMVcR/xb8vVcaw1Ax6hl+75N+TgYju4zLso9F8XPFBjVps0BHdv17piEc/6Tff43cNqug+HZ2C7NPxbNGwVAwa1KDKA/Eou1pH0QfdmzC2soc80xH1j3wq3zP/rkS1o+RgSJOPbfI3vbCPS/H4dvm3fhQMTEfU269QKbaPKtT+b3w5CRdq3Qp7dBIL4cx1ntDgqEZF1Udm4X6N2l9kk6jxuzqV9WcWisl1twYl5rLFvjOXUSb/b/uj0ol9sOFSydJX5+zzKXkson4Z2bTzf1VQ4QT9eSZ6BNXBZ2LfpQvXzbK8/jP1Wc+ynXWmcLlG8Dn4XZzXVeqEB0S1avOaFDxU/1m0KC7RYaw7AgvjHIk/wH/VkscuyX6th8c4FkQl+44U57YoV6xlSexcjl8T4npvHPOrVpy0Q+rsGv3Lqn5jdYtCiV1rB1vyvEoLsc1y1TzvxuoxdN4/sD5+oqsFI0kc/6dJNaPMCrb9Y3wbbCF8IBi4zU9e+3rdzPkX2G/p1+Lsa0Kv59aLFUelF0M6DFpWV6n7yVaWzfme0+/pa26RednrBdZ9BsC14XXdHPVdnoNmwhcCAAAAAGuMVxxzVB4vgwhGEzegjnO5gemsG0NDeEP+oEpV9YiymGQgEg3O4t4rUWXbHNjGHohkDUujR59V35EqtIxaEM1e78DFkDq/GGGnsZzoBt8e8oTb7XpU2q5Q2eh/0twGEUC46vXC/Qr5T1UoqgOJiyG1NtXnizDmcZ2qKlRMD5UUHfg97bE3onUubYr9VIi2K5hq1H4j16vgedFAJY5DtTdGEjQnLJXLFsfWXIZL9eN4lJg8VkZo6hSp8TGaf/b5lDwWJ/vGMVPbI5bv7Z+ErSqDsIQ9Hi9b5C7W4lKfo56lD9BwvRftDiEMdBwqHhhBcxCGitZ2DeoafZYGLVfV35T+sgfTcVPVd2KGYHUhYxqeWQLGVMljl2S/1q1h6aQfdV+gzkFZtpSprPZnWlha2ZZ9/PLzsPklmj22fLdM1aeVKCSMDZoVbVf1sewjNph4QKl9VwNvOV6sL8up6l82cX7pa9xYXnQ9icHBfKpu6vPfDQJbzR6WqgHB9Hq6Xth3bnnTMv8C+23WtZhuTJ1tufzVnp/RdgbXjLUsk9eZ/L5IthaNjon6LllkXk0f7weHlOVqBbh0vK6bo77Lc9BM+EIAAAAAYI3ximOOyuNl0C1K+SRevzQzB3iKbgjDG3IxbR7SaSyUGlFnv0WDb8ZLeuR2FgosFJbqxzbFDf5fw6iV32RATR088ptWi/DRSadMTbNV1rcBNZ/PCUtfNxItucK+8cLWRToIcMj7w2xZNKXRx1MZqoWPdputCOU6DOY8xqpHeE7fZyIM8cPBmUTfejIwEJMbDQhlBHaxVpPWgCG+7J4+ttOUZXzcU2GxS7XXxojx0xF1nqhg5YdmGCTMPp/sx8J6jggXJ7SnAq6qGQKHr7OAbI70czQtmJrHCK4KPvVY9jg5bsRb7b6W5/rwr1Kwz04ztoiV/Z865L/j7+QxotZDj+pGODebcd7MneaHpTrsjp2D4rp6XQt/nLCHpeK8atJAr/a3jgovzfIoum7NvmnN6yRqBWlul0v+23Gi1XGcDq/j6xdsY6GQaJWqz6swSNfXU6EaG9Rr8s5PtJS2npMfdHljXP/BEwAdqulzzRqWZtlvQsq1mGqgrsX55fUi9P4IB12ylmXxMsLshzTWl7Bet0XmDekuOnzqZbxeAS4Vr+vmqO/yHDQTvhAAAAAAWGO84pij8ngZ5E2Yfbo0C4elLOybQYc3ZviRHkQlb75Hz1XLKiNkC4Wtf/hNK6dv0kWQNmvF0wI6i8RnR8FIEDSYobEW/g0LEzPQ+z4WBAaM1m6x96IQiPcPGO5Ta1BiD0v559qWEQZdT5KPrkehd9TKbvb5lHYskueIFgbiZoCrA6MF+0hMP0dTgqlZpkNqh62ay3SoukaYSwwSpUfYngyo9aQYtvJzNxvUt5xjet1s653LWYu2NuKtGdOtMiztU13NG2sJHYgG4bGHpcn+I3tP2fLNfo9ZwBUe5/B8irYr/oNIOv0jR9QKWZVFOy3Vyly3hNblR3R9pJ+Dej0s15J5PeruIizX4/jFVmL+hfZbIP1atFPz88fXDcNXNfKCluuyqxWzGwS5jeyz9Ij1xg9F9rJMMlv/i8nVTwn8UEx8lywyr6Sfrkh+LsC14HXdHPVdnoNmwhcCAAAAAGuMVxxzVB4vw/W2LOU3f3G2G/KY6ZhO37aosetT5YEX67t02bBUz2vtB84MOvh7pnC+eF+ASWkB3ZTGn3vU2q+Tv11ij7kbnx0EStE2F37yqf3BbH02of4zFR6LacOjyn6PhrNGVVf0vk+GuGnrPONR8rn9FeoX05edXEbUDYN94KMhHT6IL2v2+ZT22clzJBQGstGj+HofLNpHYniOWh5/T4ZoM3ztUk0NCOW4Fepkfvx4FIRpbnDey/93NkpUf9mj3su6fGzfst8WCktn/kiSNpWpNXcb0o6dyX4cE2HpnGvXWpZYz2UpPHZ6+Vn2Qbifs2wXw8NY9YOJ+PFB/5AU9Fua6G82up5mTenX0pzrMXH9LrjfAvZjmE7NbzlvA7olrbdF/uOy/GHAq1HnbGq0ZjdC7bCVJzsnZ2yHMPnYopru/1r1TTt+X0/ujwXnRVgKa4fXdXPUd3kOmglfCAAAAACsMV5xzFF5vAw3os/SxE2iuEHtUCV8jNgjb7NK9d061X5SN5o5w9JE4CcsHJYm+7OMs4UhI6OvU9GHX5mqu3Wq/6pu5vln68Ggwv5ajcdDlcl/O9TYNkJTfrNvkaVlKQ9wUvdz5qAkfdnJZUThTHIdhSsIS8MRqVUrxHDAnNqc454UtohO9BEbtdizBvgmIzx3f2lFjzVnELRIdOvUF+utum+ovo4WIFvRlqn1T+zPFgtLFyG2pZD1Ufy0Y2eyH8f0sNR+7VrPceu5LCVCP30eb5SoJq5r2/QvPUBblu3ihqorkgLtfdSfr4JfdVyDsk23Og/Lyeh68n62rJOaOmpguOS1NOd6TFy/C+63gP0YplPzp7QslQOdGX2Emj80qKl8FP14Ea7T3Gn++oXLyjBoW/q8CEthzfC6bo76Ls9BM+ELAQAAAIA1xiuOOSqPl0UEo7qFqfjvpQalwgrCUnmj61DhaS8WDM56DD9+4y0CGd3PZnSzGf695THqaFCf2esdDbRie5TXZAlDwpHUWT+TicfwkybHe7IFoApKEqZDam2rMHnOYEFZ+izlAY41SBIyByXpy7YtQz+qax1IaaL7PZz96HAk7bNnBzThOfGkS2P1/9b1mUdvn9EvpKT7JeTrxXzvU139eMDD8rkm4nw1Bs9S6xL7vOC15D4I+jhNC8iWJlq2Zg1KhbRjZ7Ifx0TZEI4cn3w0PAoic4SlYZljD2PjsmxXki7DSkcD2TWGLst0mL/Zor5aL3O5+nqy/lDEJK+lqBsO2/kfdlkxtwyQEvstYD+G6Wb3WXr6qk71Ax1MKxcTOn3dDILh5tt41yWjl1U5qBSfjAH45MBTVWqzHxViwr61becYM3Ne/YNQlnMJ4Arwum6O+i7PQTPhCwEAAACANcYrjjkqj7fGCsLSsAWo2ZefeExSt7A0brKjFkFV6uh+Fy/G1Hmsb3KNm29jkJLaG+M2euZAG9yU+jt6kJgKtc0+I+cN8KT3jdeggQ7NLibUe6rXVX/2mAbvBjQxg7WLXri84FHb//apdx4PsXS4ZQ70YqVD20RLR8s663euOCydvlcDz7ABZWIDPBnzzzqf0j87et3a/2w4MEuVakEfkClB9TzGAC/mwGLh6OTuXnQ+nLdlC1KvHvabGPYJaZ43mchzK/ajg25ZagSgMoDjj6Yn+71cjTENzyz7OlXasTPZg7ZEWGr0SxrvC3hCgz/1SPE5wlIjcI0N5CNcTGhwUKd2luthFn3tPqoGPxhE66qPV5Wqj+R/zZAt+jGIDUon3hODNP1hKVONayk8B9nfTz41ZT+fbP7F9psw51pM0AFuiQ7ntKTPZcZ2TL8OaWwe4+/DqGxiZfAi88r31Y9yKS1nAa4cr+vmqO/yHDQTvhAAAAAAWGO84pij8nhrrCAsNR+JlK15PCpslMl/arnJ/qpbi4lJPNrukbshWqX6qvWheZM7ps4vel4RUollyxvW8jM/22P4wqRPdfORTmM50bpZwpDwxlt1LyBaLhUcKu/wz1aPYG64QRcEQd+mOijWgZnazwWvRJWnVSobfZ9WXs9qV2rr01CzrLN+54rD0kSfrGp/6UGJeJ+ds86n9M+O9+XoinNnN370w1ZzYmIDg+lH6LP0YRob4EWcL2E470WtPtm5r9c1DP1Sp2SQIwQje/NWzBcD2hOf7Vao+bfRZ+njbrzFatjtQHKwoquVduxMWcNSETY2VCtuOQXHXITTrk9+EDLmCUtlK3HZAlxMsjyKztuM18Ms4XERUzzIDgeAElOidfmYujqcE1NQZhnnoe0HKPNauhhQg5d5wd+65O9Uk/Mvut8yXIucXo61H9VVybIdYl8YLVBjA0QtMW9Al4n8iQmA68LrujnquzwHzYQvBAAAAADWGK845qg83horCEtFK6z+QUWNZOyQc69GrU+TlJts0brJGDhDjXw8DkMFdpN7MabevrFst0x18UhmeFM8e71D01GwnFIYehXI2/Sp/Unf+drDkMlxkyr31N9seFQ7GtAk8dlTGvyrQqXYTXUpGMApbK123iV/UwU95uezVmN2uj9O/vinfZ2Dd648LBWmNHrboMoDI+QpFKmy36FTNnr7zPNp1mefdYxzxyHvgPUdGg70xENR/ZhsMkRJExvgJRiFvp5oHWxrWbpUWKoe3be20vvao/pm1HeuvF7is+iWiLbHrq/WjGMXsl/r1rA0KC/a5Ov+j50CFZ+0glam1nPcei5LaeXR9LxHje1S4tpsHZuPfmfZLrtwu/iPHWE3APxcVUTr1hc+lRPlSvx6Sr2WJgNq7+j+lR0q3K9RS5Q3tut3if0291rkvqhg2tKtysrM2I7x8V7sR6pEGb3kvOnlM8A14nXdHPVdnoNmwhcCAAAAAGuMVxxzVB4BrpRuAZdogQYxYVjKHlPXj8my1qa3g35cPRkQ3V6iL1UZZCV+EICZRs9VFwY8XL10E9X1gLtc9xjrSpc5V74/AWbgdd0c9V2eg2bCFwIAAAAAa4xXHHNUHgGu1pT6z0RLp0K8T1CICVvBPenGBoSh47ps/ZZhwJybJnh8X7R8/X1Oy77bxGhBHPQJDBkZ/cAmRnS/Auct2Wfqj4c0vNbuIlZF92F9ywJguPl4XTdHfZfnoJnwhQAAAADAGuMVxxyVR4ArF/ZfmdJv3l33tUPVoK/YYmKQIzmY1qoHP1oDE9VidrN1S8In5viQ6m+HNDW3TQzMplqVxgbbAkOfDp/1aGiOzC4e6w8Hxrq+cE/31Vo+uvltvCdvZP+vt2Fb4Jbhdd0c9V2eg2bCFwIAAAAAa4xXHHNUHgFgPYyOtsg1+hf09u9QC8vbLuxTWQ2+ZPbf6RRp7wN+NbCL+lgNB90L95tDxd9P4gOEAcDtwuu6Oeq7PAfNhC8EAAAAANYYrzjmqDwCwHoI+2AsFOUAXHwGuLm+nlBrpxyNAh+0JvWovNMOBnmCNGM6OfLjgxRtuAsMKgcANxqv6+ao7/IcNBO+EAAAAABYY7zimKPyCAAAAACwdnhdN0d9l+egmfCFAAAAAMAa4xXHHJVHAAAAAIC1w+u6Oeq7PAfNhC/krpuenVD7oEpl0Z+MmkrbDeqd67EoJ9TfqVDrnP0hAAAAwFXgFccclUcAAAAAgLXD67o56rs8B82EL+Sump73qP6T7Gy78FOVmi/7dPrPmMbjEZ2+btCW65L/fkT9HZecwh6hy3UAAAC4FrzimKPyCAAAAACwdnhdN0d9l+egmfCF3EXDV1Xygo62K9RK6yz6rEVl3bH04y7pdqYwotaPDjk7ff7GjTF+V6dyQR7b8vMRf3sxwWiXJbQ8XtTFgBqeQ87DNuU8Atktcqy+dqiy4ZC328e1fyOp0VRvcDmVx/h1hRzHo/pxhrP3Oq5FWByvOOaoPAIAAAAArB1e181R3+U5aCZ8IXfN8EiNPHl/j05SclKtvyMDtcqrMX/rDrvhYenHPXIdh9xfmtR926bW25zxwCIB3I0muqNwydls0fBCvfT1hJpPSuRuqB8VCh6Vd3s0ypDP0Pc+1a86oFnkWJ23aQthqaKuef3jEZv893z+dbBEWPptQK0nRSrobbtXoca7Zct+tc9+bF3d+W0YvdjKHpZex7W4YpP3PrlOOdu1fVPximOOyiMAAAAAwNrhdd0c9V2eg2bCF3KXyBsqcSNcpe6coFQYv5Ktc5qf+Tt32c0OS/vPxPH3qa8Dv7wWCeBusMk7nwpOhTpf9St9qutA6WWPem971N7fkteXGaheg/Fxgyr39yhxht6RY7V66pr3fGq/lcfanE7Dc2KdLBiWXgxozxXbWKXm21Mafu5T+1mRHMfNFjgmXG9YandKncdlqrxYnzWK5F23KfWfyR9zll3C2uMVxxyVRwAAAACAtcPrujnquzwHzYQv5M4Qj9WqFkOZW4qKcAX9lTI3OSwdU2d7xQHGXQjgVJBUPBgaLw6o82KYaHUpf2C43taGo6OSDMT5G3fhWF2KdQz+5lkwLD2uW34YO6WmaHH5LOMyYtZxn8l9UjpanzWKrGDdJl2qOg7V3vBS6ZbgFccclUcAAAAAgLXD67o56rs8B82EL+RumFJ/Rw7mJMLPk4yt3oLgB/2VMjc5LL2EAOMOBHDTNzVynBp1v/N3LM5bVMobeuSEsHTVLuG6uXQLhqXq3Dg8M18c0uEDhwq/Rz+Xnf7pkePUk+dWwjrusxUEkpdmNet28lsh6E4g48+hNwuvOOaoPAIAAAAArB1e181R3+U5aCZ8Idfh3//+N5VKItBwgv+Kf1+qr23aUq1K463j1lMY9lxMaHBUo6IajMhxy9Q4jvcfkBoMWUPN6IZ08qlFtfs6QI6WG3t9w6Pa0YDYJ0bLnQyovVMO+6ws3E/v42/8TjwarZbrFKi43aAee3w33JaJ6DtQhBJ8/e0mH9vkb3pRX4Oi78ydNg2MFZfL5v0tZgjOxDF44VPZ0+sut7P9X/W+NYCb0uhtgyoPXONvatT6xPt+SC7b3dyjvrkLv/aosW32C1qkyotTYwaxmPhxEOeJ/4IfN3Fs2X5yy7R3bD9ekSl1Hy8wyJkKS+cPnGU7P43XWP+R7maD+t+MWW3UZyeOs/6M8FiJ41OnsnjsWu3T5HluD2+W24fS9Jwdyw2Xyr/1o2DnmzyOnr7exfu7PRrzH3eynBMXY+rtV6KyQ8yzz5Z1Lgexm98va8bgT+/fszH1dstyHxl/k7hO3TLVeXmhjqGtZXJaWSeXG11r3naT+t96i4Wl37tUE+fZTl+eB+K6/1P0b12mlhGgpq1DUsZ9JmS8fsNyxShHyzsdGn6x/EDByiXd/3Z80u/PuRa/9qiu96/4TtAtys3XxbrYztXpKDgPS/paE2X/k1asbJ69bpK87qJj7G761E6Up7JP6kKiPL4leMUxR+URAAAAAGDt8Lpujvouz0Ez4Qu5aiIYTd4YOZcamOpHg5OPWa5QcHOa3K74lOUmW9+QV8nf8ch7JAYi6lHv7yZVghvOIjW/8Hlty7XdAKsA6KlPW/eq1PxbLrcqHjUVraretai8UaR60Adll5q/yJvTeLcFarlPD6m1WaDSTkutnwhZxXJc8t/Hb2L1oFrFX/W8+jPNPjD1tmxR5Zctan603AhbDJ+LgUwcch741BLbo/rO9MRrrghe5XzTsxPqvW2TLz437HvxhIazWkteDKm1KY9duJ1vu9TaEQGZmscWlqpzIdo3+tjFByAZ/C72r0fVg67s//Flgyr3tqJ5dNcRD+pqfeVnF8zHgid98sWy3a2o79BdGQy7Ros4PbBVeD69bVNj26OtuS25ZN+kWbuuGAcDy8TPUTvb+alee+ST70X7pXtQkX2h/tCkmT91fB/Sidj+pyJo36KG7lfzs1p3dax8sQ/DfdqmenDeOlR9Y55zlrB06X1o9JfsRccpON5P9KA6atuN92WfmQ65z4wwM8s5EZ63IgTW+7Aqr4ntThTOXlJYWtkuUe31KL5MFYJ6PzfYfmd9gi4Ylob7Nbz+xf4okeO68vWsYalY1oc9Koq/uVciTwSXD+rUO4/vmeFfJXK8JrFo2iLjPst6/RrlqLkPGz97wbaKAHpWWDr+LOZvBD8aek/bqr9ZXf7NuRbvldR3QpvqD8QxK5D/uku+61JFXaPhucrWOQhCN0rkh+ehupaNvkVnr1t0jN2HxrkTrIdLex/NTxPnvrxus5ZXNwqvOOaoPAIAAAAArB1e181R3+U5aCZ8IVdNtyjlk3j9skQtV2yh4opMJzQej+dMkzmhhKRbQYatnLTPzeBm3nws1BYgqHcsN8Dq0VQ+wFXYIo8FnRcntCdappkBi16uuGF+xwLNi1Nq/iBu/BtRP6/6sey/WMw16ZFfsG2LQ1svMt7oqmUn9pNwJoOgwm8nxosZAwxFhpnJ8DfGFpYet6jJWz19agRhVbQf1ABJT3vx+S6mNFWts0bPRTjCHw0mmk71WaS6lyj41GMfF4Q6IoxWu1IPbNVjLb/CRaUJ9nEhGUrYqH1uPR4JtvNTn1vJfX76pwhjsq1H6jWhf9DgA1Cpvg7j53kyLF16H+qAk39uzIg6B13WMm9CnUfxz5x/TujtT84jB+nKtg/j9HGxTOa1pPZv/JpTzjvUfMOu60lH7nfzGlgkLP3eD8oQ234dvVA/kGUNS43W7O49+SNR4ScelqpW1vyatcpS1mS/ftPLugn1d+T6zgpLpeQ5Lc26FovxHxj1Phetx4/MMn1M7YeymxszLu0/b8ZakQqDP8R+5udnyrqpzys87cW3+2JIh2L9YtesoNZ7qX5m1xyvOOaoPAIAAAAArB1e181R3+U5aCZ8IVctcbNtTJfDuNGfeePKTCc0mdXq8BKlhR1iUJ0gvDRu1hMBQvSO5QZYhaWJm301kImlxVTvKb8BVsu1zCvIVrzRuss+/qrW/i6DZRvHJH277eSyt6idMhq3DMnN/gWzBBiKaqFkDX5M1lDChvehOFTBsk+9lMfLZV+hDpX/Sg6kFPguQz7vT8uRODuMhU7DAzmydyLgnifjY62Tj80gKHUeJoMrO9v5qV57cJhsQRqsh0P+O/5GUuo1ocK85DJUCBY7L5LhzbL7ULeYTjtPZ9HXhN7/c88JfS3buk24kI+mJwKpufQ1r1tkG9N/jPVI3b9pLNfjImHpO/F5Bdr7EJ8voLY1U1iqW3feF11gyK2Zjk+oKcI/x6O6Du7Vo/rZBhCybBu3wPU78xxS815KWJq4FtW1YinTEwFvGn2exI6xfd2mb6qpT4TIz0te50G5n+W43zS84pij8ggAAAAAsHZ4XTdHfZfnoJnwhVy1q29ZOgofpZ5548qIYOS6HuVLhALRO4kb8LnzWsJSfkNqW64mA0dz+WreROCqsBthe3905hQtW28Lb7mXJlh2SmgryOWVqfVP+Erqdiao0KY6LxixhhLysf/2QZ3qj8vk3fOi/giN4zH50KCSet3bblDn8zgecF0MqfNI9d1aKJN/1I93G5DWR6cxhcd6ckKN4NFV8ZhxhRqvT0nlQrOlbF/oYkL9fXlNbx0MaJLx2NnPT9trygIDR6VeE2pbbGF88jy3XCtL7sN552loOqbTty1q7PpUeeCRF/Zla+z/eedE2Hp8xmTbvzNlvG5m7F9hOj6l3lGD6k8rVLrnRX2zLhmWyn8nQzuJ/ziRLhgUyNK6U5zbvaDVpuy3NOhiouBT3/p5XIZ9tsD1O/Mcsl0b1uvWck4HbNed7TUpea1IPNgPXExp+KFNzd06VTc98lSrXTFlCUvlMpP7JZr4NiIsBQAAAAC4kXhdN0d9l+egmfCFXLXr6LNUPj4758bVJB4/d+P9ac6lH/GdOSVvMG14KGC8k7gBnzvvZYWlaTejwX6IHvUN/v5/atTiLdLC6TR8jDJ9W+xmBgjh8vKFpXNbySVCiQn1n8kwSwwE5e82ZF+Kx4fykWO+36ZjOnlRp8o9dY5YWmZOz3rUfKwGzDFbuql1LO+rPk8t08lZ/DHi8Yc21bdV2LaxFRu8xuq4bg0kAtMhtUTrO7diGbxqHtt5ZHtNsQVCKVLPo8SxiiTP87RrZfF9GCw70UKPOWvRlgjOxaBOj+tUP5B9N3aC/iuT65x6Tqj1dn9tJc6FcNJ9uGaW8bqZsX/DvoXdMlV369QM+sDsyL4nc4WlaT+uZA1LVWv9tPl0/6+uJ7vRSJwPaTLsswWu35nnkO3asB6LtHPadt3ZXpOS14qUCEsnfaoHfVOLAf18qu/LPpz7/xKtRfkxtq+bLsMbb5L7Rk7JfqcRlgIAAAAA3EC8rpujvstz0Ez4Qq6DCEZ1C1Px38sMSgNhkClGmOdvJonH+xJ9bM6z8j5LkzejthvwZCCoqMfILy0stcwryEfjo0cxB7+L1nFprb/i0rfbLtNj+LYuBFLWPWYs+5k0+1S14qGEDi74+TP3seApjV5VkwO1mL4NqCHWX5/Hah2tj/HOMT3vUFWERPP2RbA9tsdgx9TZlo8unyyakwZsYYztNcUWCKVIPY/4sTIkz/O0ayWSdR/Ka2D248nyXE22bpSPGtvXOcDPCR3+2R7DX1rG6yZt/+ouLXi/kzSkw5SwtPw8+Un8GMkuP2znZvSIu/VciknpO9j0RT7mHoSVGb4/pAz7bIHrV/7gl1KOfm4mg1zrsUg7p23Xne01iR8HjYel+t+JlsZB9wnZwtKZx9hKPUmCPksBAAAAAG4WXtfNUd/lOWgmfCF3gh54KOUm3DR+UyPPMmDIVUoNeyw34LJPNz6SN9FEvX5pYalTpMYnFsfYBsr5IPuaTISHFunbneKLHPAqOeiJMdhQLOxM386kieqbTz6Cm4qHEkFLzGSL1OTxmCYHBlKBahjQJmbg/QLqQVWSIRtnDgCkJfujtZFhUqJLiuC4etT4FH85O1sYY3tNWTgstfyAwI+VIXmeJ6+VpfehGpjNep4GVMDDWw6G5ZaxzpZ14H1FBo+V20KqpWW8btL27z/yWkyUAWq/xJarQ87H3fi+0mWLeYzUOZEMYac0+EOOzm49l2Km1H0y4zr/NqDWL/rR8eTAY+my7LMFrl/VV21iH15MqBOUU9nD0mSQaLvubK9JyWtF4mGpfUA0Xa7aw9LEun1t05b1GKdJKa9uA15xzFF5BAAAAABYO7yum6O+y3PQTPhC7gz9mKvjUu31KNnqajqi3m6JvF861xqUCumhoeUG/Huf6mJwEsej6oF8nLO9v0XuD1WqilZblxWW/lim8kb0mb2XddX/Jg8dotGavZ8b0QAxL5vkb4vHh6M507c73fBIjA4ugiZfPu6utl+0tEqOkp2+nVZ64BfHo619+Vh07207ePx571jNw0MJNQiM425RI3jUuEft3RIVtivBTX90PPrkb3hUCZfbpWbQF2U0+vToqEyFn6LtCvexGSSpUNjZKJF/pB/n7VJrv0rln6PtFMdR9Iuq93/3oBrso+LcVm1qQJcn8ZaKMqDbokbisVg9Rd0r2NnCGNtrygJhqW5J7j4Rj6J3ae+5Wh4/VobkeZ68Vpbfh/bztHtUp8qTdnCM5OBRDhV/lY8q9/5uUtXzqLLNW+tlOCes522P2gc+Ve4ZA56dy3PH2+0ny8OYjNdN6v5Vg5k5RaqpczTYd16FKrxlqRgh/pkqLx415b542aAtt0jVx7x8iOZ1H+rj0qbGzx55O37GlqXGNST2167a/+o6D7o58KrU+aIexxfnxOMmtY4a1Hg7a2+ofWYbFMvsHiPj9RsG6rFzpEX+gwKVd/zktWE9FvqHrjLtifPnqEmd4H3bdWd7TUpeKxIPS3XAax6b+oMCVbZllwzxsDRt3ezXjtj2xuMybfEfP4NWtkVqfom/fCvwimOOyiMAAAAAwNrhdd0c9V2eg2bCF3KnfO3JPvLEjVehSJWndarv1snfLlKhUKL6W0uIeg3SQ8OU0EJs12Y0cIb3pEWDie1mNxkASSnLtd4YR8udfumQ/5MehEb0S9egnu2R+IsJDV74VA4CHDkVvBJV9js0NJoLpW/3bOP/NKn2INp+0S+if3RC40Tonb6dqb4NqL1Tjgaj2XCptN2gvt5OSygx+dSi2v1ov5R3OjSc8m4RRtQ1l+sUyNusU+dLtEOmHw+pEtuuEtUOkts1Pe9RQ5zDer4Nl7xNn1r/ieLK0RufyuGAQWL/l6n+epiptZYMPWqxR4DleTFrmnccbeen7TVlkbCUJnSyr/vzdMg7UO0+LcdKS57nyWslzz4Mull424gdT/H3/qtTWeZcjKm3W44GArtXoebxhIY8gMp4TujzNlyeOL8eiEGpjPW9srDUUkZtN6n/bWhfbmJf1II+ce3lAytbRLm+36OxtRuSGfh1LkK+YH+dRoOWqfWS51WBKi9n7Q0d/tmnWIvlDNdvQHz+foWKeh1FOfdiQBPbtZF2LM46VNP9Ixdq1A0+wnbd2V6TkteKxMPS4Ngc1aL1FQOSvR7SVP2YkeiX1rpugrp2wjJV9iFb3mnRCfu+CVpV/9C09+160/GKY47KIwAAAADA2uF13Rz1XZ6DZsIXchdNv55SX7QcUgONnHyZ0JSHDQAgXQxoz80aVALAlTqTfarO62Lm1lNdNfAuaW4NXnHMUXkEAAAAAFg7vK6bo77Lc9BM+EIAAOaZvPOpIPrFtLUcBoBrM34hHmsv0N5H/s5dorpk2JzT+vkm4xXHHJVHAAAAAIC1w+u6Oeq7PAfNhC8EAGA+1fdsoh9YALg2un9ad48Gd/i6nLz3yRX9ZfNuB24TXnHMUXkEAAAAAFg7vK6bo77Lc9BM+EIAAABgnfVp736F/H09AJUYsKuqBtUrUuPj7F5n4RbgFccclUcAAAAAgLXD67o56rs8B82ELwQAAADW2Yi6uxUqGQOMOQU5yFH/HEHpncArjjkqjwAAAAAAa4fXdXPUd3kOmglfCAAAAACsMV5xzFF5BAAAAABYO7yum6O+y3PQTPhCAAAAAGCN8YpjjsojrMqURm+bVD/o0Thrn8HfBtTeb1D704S/c6eMjkqyhfyPt3hQtryu4FyZnveoudukHgbvBFjQEuW/RX9HPS200+dvAdxNvK6bo77Lc9BM+EIAAAAAYI3ximOOyuOt8d5X3VL4dC23mectKqluMcrPs0V+4Y2xU7+edV4TNyEsPf2zSI7jkv/+8sLKWS7/XBlR60f1GZvXdxwmH9vkb7phFzPupk/tjyn7XATIO2Vyg/66xeCGZfJfDGiSNaxK/H2JakeWv58MqPWkSIVwnerWQFkOLlilLlvd6z534qLjXDq6rqN8Cy1R/ttcWVh6cUrNH8Q571N/VafltwG1fnEzl+Pix5nGdnRdFbwy1d+OyNaZVOZ5LyZ0+rpBlQdRGWIrF9brmoSZeF03R32X56CZ8IUAAAAAwBrjFccclcdb47rD0u99qnsOORtb1Doz3xjTyVGdKve3qHVuvk40erEVrLP3rE/Xecs2PetS83GZ3N1r2XPrH5Z+3CNX3KA/7V3bcbr8c2VK/V0v+Iyt58PY68M3TapuulR/b7x8CYZH5SjgKHhRiGkLNc5aVNbzOgXyXP3/Drk7GfbReZu29PI3XPLueWEQI8LiYRisjKi1KV4vUv1lj3ov61QMApg9Gpihqrj+XYcqr8bGi4oOpixB6tVDWHopUsv/xSwcln49odZuhYo/L1Z2Dn4XYWKB/Hf5T8jpWZ9aO6oMz1qOm9dvwYtdv+Ujs/xZbN7+s+i9gmeWIaxcWKtrEmbidd0c9V2eg2bCFwIAAAAAa4xXHHNUHm+N6w5LU/XJD9arlAhL10UYVma9QV+x9Q5Lh+qmukIdS2vC2y8K1/zLDEu/tmkruE5cqr3WLcamNPxLBaiFPToJw8kxtR+qAORJh0aqedn0y6EKVQq09yFcslUYSv14GAWjRihTe6MW+rlJngiQX0Qh6DgIrgu09zF8SYZPM1rkTt/7QRhb+O2Ev3XFEJaus4XDUv29t0jZ+aUpA//tDlmi/cWE37vGNHdddJnqUOmPQRhgRj+W1Kj7fZl5xf5zqXJ0QuOwyalRhrDv4PW5JmEmXtfNUd/lOWgmfCEAAAAAsMZ4xTFH5fHWQFi6NISlM3zYu+M31FcTlo6eq0DjYZsFOFFYEn7+PzrU3KI2C7CHB+Lx2nnncrRNvCVo7ykLElW5Ett2/lrQ8rg85/rW25Fc56uFsHSdXUVYevJbIdMPCpm8rwddZbSORzTMWo5/lGVq8F0d6/LilJqida55XS4yr+gKY2JrJqq/g3kZti7XJMzE67o56rs8B82ELwQAAAAA1hivOOaoPF6Wf//731QqyZsn8V/x70u1SFg6GVJnt0xeQd2YbrhU3u2FLdQiYtCOBlXui5vLaL7xme6fzvys5A1Z1M8km9SNsDUkDPu+K1HrbEy93ahPRXezQf1vYqYJDY5qVNTr75ap/o61EZqOqH/kU/me2Xeb6pNRz2P0sxef4sHu5EuH6pvGY8ri82z9xaVRfUOG+9spUHH7kAaqRZB1P4jP/W+HGtul2N95lv4iZX92peiRyw2XStttOjXmkX1hGttQ8Kj8W39uyyp5DJPBgrnOw689qut+NsU5st+X/eNl6esyy3GasY+ExLYF29+g3jk7Quzc6u7Ix+6dZ/J85EFN+Jl8+rFFZ29q6t/VWMsuaUB7wTFL7rc0/LNt73l/qiM661rX73nN2PGPm1L3sVxmPDAcU2dbvs7Dmurr6GjIlqUeNT9Hj/OW/mKPDlvo/ckD2qu1WFia6dwyj4cZaI07VFF/Vz82Xr/QZWWFOsauGP+nSTWjr8nC/Rq1WH+18euuS/49y/JD6ds6+F2V6aw1sF5+4fdB9GKm74tk+a/x/jZlOTC0/ggRuw7MckWUmU/aNAw/M/o8PvHPj9H7PtZSezVmlVGmcL7H3cR3SPgYvSqTFpk3XbSv+HmyHtckzMTrujnquzwHzYQvBAAAAADWGK845qg8XgYRjPIbODFdamA6K0AxTfrk6z7P3DJVn1ai0DHWV2GyD0VPBVruZjl4NHdeWHqyH/2NmEQfaqJvRG9ftlK03lyGgZZHZXGjLPpT9NSNvZh+aFJXrZdr9rPoFKn5JVyZaNmuR6XtCpWNZYTBwT9tqor1MUKAYP3uVan9j5xFDloj33c3q+QbN/28vzibyYc9+cinXkb4eVEga90P4f4skHevTBUzDC341NcBndmfnTieu1W1rdGxMbehcL9C/tMKlcQ5MOemPgr9fOqxYCFcZ69MZbEs19iPjkPFP7uyr0vL8TP3WqbjlLqPbOdo/JxofDQiBiMsrT5WLTDFpAJKHliOXlbjyxPbKI7fozaNvneppl6v6kfWNdUad5FA5vRPFdwmWpZGwWYYpKpH420twqZvqmq75pQDn9WjyG6F2v8V6z+l0euaPE/cenR+6b4NN7ao8bfRZ6l6hHn4Vyn+KP8ser2f9vg7uYzPhvP7aA2lB4hc5nPre5eqwWsqQFaiY2EE3YJuLWicy9FniR9S/KCPXPnveH+14XXwoEpV1eJYTGkBYXhexcK2qFViPOyPwvJweZm/L5Llf4D3rXtP9aPplqms1sEalj6syKBZXHNGH53OE70dJ9QQ12L4nly2mBr/iZaXoPf9is9BIa2M4hI/fhjCZajra5F500zeycft+SP7gUu6JmGFeF03R32X56CZ8IUAAAAAwBrjFccclcfLoFuU8km8fmkyhaXRzbDZ/xldDOlQBQhh34RhH4oOlf8aRjfa3wbUDAZ84Z+VcrM84zF8682l2drTuBmfvNU3fGIq0+EXtUaTHvnq5t28oRy9biRaZckRgJOt7sL14K36vuqWYSVqfDKWdXao1jEZVsUYgZrZt6QMpprUmROWHj5jrbcmOpSJArqwhdijTiwwmnwcqGVFx9z7w2gtJtbh4+nMm+ywZZzl5j9cZzM0vphQ76kRjG4ehi3Bohv2eKCU9ThZ95EaeCrez6dsrdp5osImM5yNtSQu02EQEkZ4WCqlP4YvH+flQVT0evFgfpge0gEr2xax33TQHa7XxYkKsdl59a0XBVszywFp8rFJZWMAmGD6nxp1+Tn9rU8No4Vfeacjj2twHRRjx3MmHSo+OIwF5nmNnm8tMPBXxrB0oXPL3lI3OJ8KBXlcjRac+lwOzw/9WYVqrF/g8JoxQnfzuhPX1ykPv7gwWDdavarroFCQ52nY2jBs8apDtQW+L6zlf9S3rlkWiHJi8GcURFvDUrHf3+hlT2nwh/5xg7XkXvAx/PGrSuI4rYq1jLLQ22hbB76MRea1MsJqa+vvS7omYYV4XTdHfZfnoJnwhQAAAADAGuMVxxyVx8ugbwJt06XJEpaGYRHv/8y48VLBT9iHImsJGAiDncsMS+OhWtTKMdl/Zvg4Ig87OTM4MF5OC0vTXjcDl0SrQoO+MRf78HRGyzvrfrBKhjJhyzG3Rh3+2HnAaJm42aRB0I1BRvpYWB4BDdeZP+4d9rHHH0HvU916flhYjpNtH4XBStjazBCG/cZ5ZISl5mPl2qJhaThQjBnghEHmnCA9YRIMzhJ8vphEi1x1vhd/UMfYWC+ztbCYXN0i94diYt9ZnXWoqlsX8haDD5s0SO4eZhS0HC4GP1Aku8VoHNsWoMuCOeu2qIshtR6y0b5TZQtLFz23wms9bOWnyqudlmxhHZ4j+nqM/jY9ENP7K5o3Ckur1Jm/sfEuIdSAXHJdS9R6Xg+WFf7IpK87fb0v8H1hLf/DvnXjrf4DRuBvDUt5C+vwByr2PbJgWKrXO7XcnpxQ4yd1Ld3j3SCobUx8H0i2Msom/Xgnl7HIvNzkOHqqwd3pya5REi7pmoTV4XXdHPVdnoNmwhcCAAAAAGuMVxxzVB4vw9q2LLWN3MsndpMW67tOM2+iwxctN8ux1xcNS/n86QGlPdSc0vhzj1r7dfJFv59mn5gZw9KolVP6ZLuJ1WbuQ4N1Pwjfh3Tyskl18Wi92V2A+bmTPtXDR2rFDX6FGm+HNDVvjM9atGW0ICz85FP7wzgZAnH6WFjCgdR1Do8f78szLXTMdpySn5c+SJE0pMMH7PNSzy1p4bDUaDkXnpP6GuNhTxaixZ2lL179YwA/1yYfW1Tj/Qm/lwFY4rjERINGxVqNGy2DCzv9medH8GOKu0eDi+iHldJum3pv21S/n7aPFwlmovJkkWl+1xhZwtI855YKFlXwKM4L/YNG0ILT6DNTlgrRZ82a9Ockr4P54oGbCmvFjxy6VaFq9aqXHW7zAt8X1vJf/324rSb7dWW/BoN37N8jS4alyWtZMFrSPvapovqD3TqQo8vrpxvSzpusxyY8HpaWnjyEXmTeyIQGB6JfYfm3xd9PZvyIsMg1CdeC13Vz1Hd5DpoJXwgAAAAArDFeccxRebwMa9tnqZ5no0S13TrVbdO/5KA/+ibN1lfadYel/EY3GXaOqPNL9Niw6POzKrbt17KlRazt76Xwxv3HWnI/qenw2BamSDP3ocG2H6YfG1Ffp0F/nn7weRUVcsVu2C8mdPq6Ed7cBxPrfzYcSMkIXOe2xMvSspQHA9ZzQ7Adv+zHKfl56eG5NCvQ4ueWZA9qbOsdmeqBnlQLRL2MmnWdlhF9Ph+cxSbcT7MGfTFa7vK+aG2tehOC7ilcqh+LbVQtF81uIFSL2/JzHhldUjATtCwtZHwUf7GwNPO5FQbQsgWnPA5qACfV2jooB/T+Ncoq/Vnez8nyRU+d/6q5E9fBfOE5Klq9qrBW/oCjw0Hxw4Zu8WpcGwt8X1jL/5mDjdmvK/s1GLxj/x5ZMiy1HlfV7Uj05EI8dAwm16d+ykmW9diETwNY+gnVP4zoH9gWmVeaUP+Z+hunmBz4MOGSrklYHV7XzVHf5TloJnwhAAAAALDGeMUxR+XxsohgVLcwFf+91KBUyBKWho8y8lZ/SWFfmJYWcuHN97qGpfpR8IJPPfPGNiUISvy9EgxeI163hIVZhDe6tq4MDMn9YLRwirUoSj6Gz02/tKiiAlF7qzjz8czo0VyrLH2W8vcWCUsXOE62z+s9lcvj3TIEJp3koDup55ZkD2os620K+6UVfX2q/19gYKe59EBMWZapB2NKdIHAHKvWp0uFpZPgHHSf6Zan6vqO7TP5WuIcvejJea3h2fJGR+WMQamQJSxd4twyrvfS0UBev7rs1K1JN1vUV+exeS7pz5r3o4pguw7mCgeg8qkfdKESnR96efX3ah3N5S7wfWEt/8MuOSxdUhj9OV9lWDqzz9Jxnw5369RmffBOz/tBy/f6fntmNyaZj43R4jZ+TUcDbyUC5yzzinXQ3ec4ZWqdmfOnuKRrElaI13Vz1Hd5DpoJXwgAAAAArDFeccxRebw1soSlxuO38QGH1CPAB3Vq6xvRlAFnSARC1kFkLDfL7PXqm3icYb25TA200kOrRNgZtmhqBI8JB2KDD6WEpbxv0bBPSrYPBDHQ1W579k1xuC3iUci+0WfcvAGejJZtRt+a0y86vIhu9k/fs0GgjFZvsmXfmAbvBvH+6vQN8tzWirq/w2SollxnZZGwdIHjZPu86Xs9aJRL/jvj3DIH4cl0bkn2oCZab9k/Z5Ie0Kn6RI5+Pq/bBbspjc/iXSNMzzrhtcZbaU6/DoNHg0Pfh9E2G4MJieX2d2WIt/VcBe9GUBV/DH9MbRXSJ46rEgw6FAu31Tli/qCgAtdEWM/7xFyR8dkwY1AqZAtLFz63BB0OPqoG4WS0fP0jR5Wqj+R/zfAx+vGpTE022Nn0vEO1P6Lz0XYdzKd/fPGo+kj8vdEHqTompUfV4L/xwHaB7wtb+Z82ENnFmLp6H64qLBX7NMtJoI+RpaVmXvZjM1JddXhUf69W0Ngv5vU3PFJBp+reIs+8tj6ZrS7pmoQV4nXdHPVdnoNmwhcCAAAAAGuMVxxzVB5vjTn9y4U37rqlWjCJR5+9YJLBgHkjOqbOL8YyCh55ahCZ8o5vCcQsN8uBKJwQk3vPI3dX/pX15jI10LKEbfodHpYaIWWw3qq/T/t6s30XbOdW+NmnB3oUZmNZejCdDIHF8Ln5GKfa38ENbbR9yf0wpf6ODgzlPgv68nR98oOwJTqeMlwokPegQv7jMnk6yN6oqJG11X4TAwZtVmW/oPpRfDOkTKGXz1ugJtdZWSQsXeA42T/PfOQ0WoY8l0WQUKGO2boq9dyS0oKa8HURhHoeeT+zbQ5DdTGxwWx0K05LC+24aP8Ex3tOdwnh/nCN8zH4N39MOLouzX03el2JBohS+80N+7VNaZU26ZFfKMTDw6AVugi+XKocdI0+S5PhlV7nWSHl5YuXR8lJn3MLnltCOJq8mOKtTsMBoMQUDgIVvhsLD4NjKs4BfS0b56P9Opgv/DsxxYKxaOA823We/fvCXv6PXxvbrf4++NtNn/xEVwbp12BqWGqWIaKMu+dS3dYCXEv0Gbs61mNjrp+xTbEB2sTxDn+A9FT3FpHM85qflTax/boe1yTMxOu6Oeq7PAfNhC8EAAAAANYYrzjmqDzeGlnD0qC1Uo8a2yUjHCmQt+lT65i1nrwYU2+/Qp6eTww483ZEU2sgZr9ZDogWcnogGtF66UANbTLz5pIHWpawTb/Dw9LgUfNm1Ifnhke1owFNrOsdzE0n++VofxRq1A3TjCmN3jao8sAIMwoelXda1LeOPp80+dgmf9MMWkpU2e/RWAWV1v0wHVJnR/fdKQZlqlPvqzHghzqeozc+lc1BkYJ1Mx8XndLgXxUqxQI1+fnxFql2utUbfxzZus5C6j62H7+sxyn8vFirScF2fIpU2e/QKX9kNvXcklKDGjFC9ma0/MKTbiLs0gM98VBUd+UwP4wYU/83I+wWIekDMVgXuyb13Md78eOeekwtLUuVyX871NguRuelOq9P+CPTgSn1n7lB0MaD26Cc2I2uH32uxulWipZHsq9U1rBUWODcUsJziIdx4SPtDm29sMTmoqXmC5/Kies0/lmp1908RpDGW/zqbgCSj3pL2b4v0sv/8TujP2U1ENloai8PUq/BtLBUnFmvjEHRNjxqfoq/Hzel7hO5DTO7qliC/dhYWpYqsQHaxPW+WadeyndKpnkXDkvX5ZqEmXhdN0d9l+egmfCFAAAAAMAa4xXHHJVHWILR5yG/pYVbJuwHU7dUvR62QHx9RGFpPIjSj1+z1qZ3kerWo7Cj+zqFu61PdRXg8XD10unWsokWvncMrsmbgdd1c9R3eQ6aCV8IAAAAAKwxXnHMUXmExek+GpOt/OA2mh7Xg8dAC097yVaFVyQccGep/kAvWdiiq8YGwlGB0F0fPOViSIdBK8LrDdxhjYR9Ypep9Q9/87KpVtJOskuJOwPX5M3B67o56rs8B82ELwQAAAAA1hivOOaoPEKaEXX2W3QSG0VGDExUC/tP449zwu2l+6X02aOkV+KfNlWuqxXaPBdj6jyWPx4kBoBSj15nGeX8Njv9U/T7e03nDlyr0esGtT6wgcvEoFW6u4nrat15MaA9sQ6JPn7vBlyTNwiv6+ao7/IcNBO+EAAAAABYY7zimKPyCGmMvv3UgCNRn3UOub90aGjp3w5gVfrPjAFh1q0l83mLtlzjmsgwWBbAXRN2nxEMvmQOTpQySBYAxPG6bo76Ls9BM+ELAQAAAIA1xiuOOSqPkGZKwzdicBMjrFKjrqcNOgOwSif7amAdMSjMToeG63TS/dOisromik9aNEADLYCE6Vk3GBzK0wMwia40vLTByAAggdd1c9R3eQ6aCV8IAAAAAKwxXnHMUXkEAAAAAFg7vK6bo77Lc9BM+EIAAAAAYI3ximOOyiMAAAAAwNrhdd0c9V2eg2bCF3LnTIbUf9ujnjl9tne1PP7M5gumPg3x6AkAAABcFV5xzFF5BAAAAABYO7yum6O+y3PQTPhC7pxPTSqJDpc9OZJjMBX26CTRSfmUTvZLbD6PvAc+db/yeQEAAAAuCa845qg8AgAAAACsHV7XzVHf5TloJnwhd9bnJnnGKKe1N+m9LveeOlT8Y4DO/ddSn3zHodLR2owXupjJgFpPPHUe1qnP378t3vvkOCVqnfM3LtHXDlU2HPJ2+1d27cpRMP3bexzXyPh1hRzHo/rxVR3dxeBcgJXiFccclUcAAAAAgLXD67o56rs8B82EL+SuEjey3p8n1H2sAtOHbbI/jD+kwwceNT/z12E93OSwdEydbXH+Fan+skfdgw4N+Cy3xXWEpedt2kJYemuNXmwhLIW7g1ccc1QeAQAAAADWDq/r5qjv8hw0E76Qu2kahKT1YyL6sEeFoFVfkZpf+Hwiz+pQRdzwJh7Th/Vwg8PSf1pUvqnrvqjrCEsvzSl1Hpep8iJ53BCQrd74uEGV+3s3bp/iXICV4hXHHJVHAAAAAIC1w+u6Oeq7PAfNhC/kTroQAVuVut/FP4bU/EG2Li38dsLnlCHP4+6VtUyDRd3gsPSjDOr99/yNW+hWhaXp5xwCstW7qfv0pq43rCleccxReQQAAAAAWDu8rpujvstz0Ez4Qu4k0V/pdid87H4cPM4pAtOaClAjp3961lAE1kV6cLX2ggARYenNk37OISBbvZu6T2/qesOa4hXHHJVHAAAAAIC1w+u6Oeq7PAfNhC/kOvz73/+mUkncSDrBf8W/r5Lsr/Q0euF7l2pqoKetF2bPpSNq/XjX+yuNgqHpeY/qm64KlgtUfNKmIWty299xyPmxRckYyRIwhQHahAZHNSoWVAvfnxrU/yZmiL/u3KtR69PEWKZgLPdrjxrbRdWtgkPupk/txPyiZfGYevuVaLmFIlX2ezSOdbUgjr1Dzk6fJp9aVLsn550bbE5HwbJLbjR4mPugQo135nkl11m/H047s2OVyac2+ZteuH2OW6a9Y3O5Uxq9bVDlgT5GDhXuW/bZdez3tLB0MqD2TplcPdiaWyb/xYD4p83fdptZ55zYV3Uq6+NUKFLtxXBuC/Lg/ObHzdiuMCC7YPvQLVM9dg4omc7FFHpbzsbU2y3LfWNeeyvat1HoN6HBCz+2z9LWVS4zOg+t50Qgec6Gn3/eolJiXxvXSeycUk8I/NCkIfuE4N2DIjnOFrW/Rq9lX8cU3+T+9fSxE2Xidpv0N4s1LE2UD6IcbdGAf6w6L2LzGcsW5h03uGV4xTFH5REAAAAAYO3wum6O+i7PQTPhC7lqIhhN3Pw6zhUGpqK/0gLtfYy/evJbQa6LebMd9Fd6M0colzfqyf0cm6yhJqcCp6c+lQulYCCi3tsetZ+J8MEh50m8i4JlwlJ/Z4u8R03qvhWDHFXJC9btkHpHZXLu16n9tke9v5tUCYKDCnWMwCNc7h8t8j2Ptvbbwfr1XjZoK5i/TK0zY/aLIbU2xetFqh11g3nDzzRaG4dh6cMKVR42aRCEiHNM+lT3xLKN9fi7Rf4Dub/LR/rMGtOpeO8P2aJ56w+5T3ufZwQdH/fIdZxwP/Xetqmx7dFWYn86VNppyXnCfVaOh5TXsd9tYemkT76Y192ihj6vduV56/5uDHWVZdutZp1zZSo8UNv4tk31+/IY1d7MjkvHn8X8DdoS6/NUbfPbExqqFunyuquSv+NF6xvuw2L8h5fM52IKtS2V7RLVXo/iQe8K960O/Q6PxD7zqfW3mK9LrV9lGeCKHxSiJdLkvR8s033YiPZvcA24rNydUH9HhpXez3reHrX3K1QT/cF+H9KJ+PdTLwg6G+r98Dph55R8QsD249YpNcV1aZRV2dcxxZnsb9jZKJGvjl1wrf8U9a1qC0uD8tH4m+5BJVgPZ9MsM9XAbxtReds9EuWv8V2U4bjBLcMrjjkqjwAAAAAAa4fXdXPUd3kOmglfyFXTLUr5JF6/ErH+Sg1fmlQM1qVAex/Ua+JmfIH+SsfHh1R/WqHSvSq1/+HvXrHvExqPx7Onb1m2TLeCZOEXTYJBsoIQzUh1Fg9LnWAfm2FLGPS6PvXNN9RgXJVXtlaaJTqMrZ9YxS5VxXu/RMGTXHZy3sk7nwri2IdBiQpLWWu0dFPq74jAne8nQYdCbFlq++e2VhVb+Uysi0891opvah7C4xY1ecu4T40gfCv9ZbS3u6r9bgZ+ibBU7a+CTz22ysO/xHpE51Wmbbeacc5ttmhoLs+2zqksy1X0PuQBouj6Q5QvBSOozH4uplDbkuxrebX7Vm9T4Wkv0Sr19E8RmBrr+r1PfsEy78WQDsX1ZHZ/8qoSLDf6EcHOFjoG+DkV/LgV38cB3jfwAutodTGgvSCIZtcJY1vv/vNmohXp4A8RBhvngR74zbxmhek0/C7KctzgluEVxxyVRwAAAACAtcPrujnquzwHzYQv5KrxkNScroTorzTWikcbU/uhWhcVIg1+L1D5eXLOVN8nNHpZTbagu9FUKPa0x99QYUc87FkmLPXfmfOpYyRaTZldJQgXvWAZ8TBErV9KqC2OYRQqqBZmtnnVsqP1U2Hpg0PrY70J32XYlgyuFPVIcex8WiAslY8Ru+S/m5HOWKn9Yz7if+X73RJsqf2V+Czh7DDYV3q/5N32TOecbs2X6XhblqukBaDhuRceh0XOxRRp27LifSu3ydZiMwoodbA3fSPKP/u8MqjV4aFuud2eHUymhI4Bfk6JpwaeiO4B9ujECBGDpwaM17KvY4rgc40f1VKkrjfHywHdLczmYaKbEy3LcYNbhlccc1QeAQAAAADWDq/r5qjv8hw0E76Qq3bdLUvFDaw1RAhuomtqfYrU/LJkf6VBKHb7wlJrcMNv8pcKSy37SgWLyc+0BH96ubwVlqLDK/kZujXkjClctgpzLCGxlVrnaupj3Oqzn1lCywxhKU1OqKEe53fuVajx+pTGlo+anp1Q+6BO9cdl8u55UX+VibD0Kve75TPT+qM0pnA9Mm570gLnnD53s4RbtuUqOiDjLf7C8ym8NhY5F1OobUkEsyvet+nbJMTPjbB1cuoUvxbTymJTauhoO5Y8yAyeJHCoeBCdp9nX0U7+veXpBMa63hdTGn5oU3O3TtVNj7x7UZ+pZjkwfKW6Y3AKVN5pUf+MHZQMxw1uGV5xzFF5BAAAAABYO7yum6O+y3PQTPhCrtr19lkq+it1qH7MX1cuTmhPD3bzqEpby/RXuiZh6fxAIC3U5NKDIVvYd21haWJeSe4H/dixnNf9taX6mrRMYb+h0QBPmVx2WBqY0vhDm+rb4rFd0afhlvHI/4T6z+TrhfsV8ncbsm/J40P5ePllhaWJeaX4frd8pm5pu6/6e7RMJ7GAaNa2p7GsI18PwyrD0uQy7GFptnMxRdq2rHjfpm+TILdDtzqW85ap8Sb5mXLS/buqfZgStptSP9+2/aoM1y285Q9g8e4vsq+j3ezwOJJY77BPYzFYk0/1fdm3cP9foqWrpRz4PqTeQZXK6jvJe8a6dphz3OCW4RXHHJVHAAAAAIC1w+u6Oeq7PAfNhC/kOohgVLcwFf+9mqB0Rn+lhljIaHtENjCl0XGLGrt1qu82qfNf4xbWFpZ+O6WOaO23W6fGUY9O+WBB0xGdvGyq9/vUf90NRz2e/LdHrX31OR961M062vGK+yy1BUO2sE8GTpaQ2RbE2cIOwTZvID20s4eaMhwXj+DKKGcgw/DU42paMCzN+Bh+rN9Py/7LanreoarYFh2+6X3Gwyf1SPdlhaX2/cP3u+Uz1ePbWVoWcoltT2U5d/l6GK42LF3kXEyRti0r3rdymyyfI6iuG/R5LbvmyNIiX23/vP5BZ+3TlO0//VOEhz71L9R5yAahy76OdvLv5/cpy9db78dES+B3c8qBiwkN/pDfS2nz2I4b3DK84pij8ggAAAAAsHZ4XTdHfZfnoJnwhdwpYqCPeTeTur84HmxpYgTrh2IAlx6NvxNN3oqWSy41Pqn3eViqHgN190VsNKXxWzEKszkI0Iham2U6/CJv56fjLvkFeYM9Pa5TUQxCIlowXUzp9F8la0BzudKDIVvYJ4MKNup3OBBMxuBqmdDOqVKHh9BqUB1z9O+g/0JbYJGwYFiq+0ucOcATG1Hesv/STC0jt/SeGoHkcV0ui/VfOQn6Z7zEsDTjfk9+puoj2DIIETd321NZzt3EekQWDUtjrYQVHpAZ77CwdJFzMUXqtqx23+ofkIp/DFiwawzyps/rr23aShkMipNlgkv++9lz6pagLT5oXtr2q8H6/FftIDROXF8LrKOVHgyMDxLG8HPBPiiT3ofGel5MacqXq/qa1d9JWY4b3DK84pij8ggAAAAAsHZ4XTdHfZfnoJnwhdwF029jGn/pUf2+Q84Pe9T/Z0zjSfJmU5Mhhr3lUXgDrG9mz1pUeVCjjr5h52Epjaj9i0eVF2E7LRma6KAluHHfigUBJ/sNEu0TT3YdKuz2o4DinzY1XvIg67JZAifNFvady5GcnY0S1V+KR1q71Pq1SM7jahAwZAqulgjtvM0yueFn9qh7oPr84yNWT/rki5GsHY+29tvho7ftA58q98wWsYuGpSnL/rtFftC3oCUUsu2/FCLI87Yb1Fbrq7evqFsP6pDf3aKG2gft3RIVtitBMHRZYWnm/W77zLPoXPGP9CPjXWrtV6n8cxQqzt32VJZz17YeSvawVJ0bTpn2RFcHR83w+ucBWSQZllrPF+u5mGLGtqxy3+oWkeVNh7xHzeDR8d7bNtVVn5l8NPvhUVkG9A982RWEug4aj8u0ZQ5wJn542pTLKO3IR9KDddytUC0sL6PrxH0iuizo0t5ztWdSt1+GxQXXTQz2pGVexxST9+JHL4ccL7reei+bVP1pj7Ukjc4F3Se2+1Dvb7EPC1TZ3oqXA6IMLZSN46b3dZW66prKctzgluEVxxyVRwAAAACAtcPrujnquzwHzYQv5NZTrYyCG2NzmvX4p/gbawsdFXhszmidmghLle9jOj0WQUhN9kEXBk+iZalcJ/dBhfyDTviYvmhZGtyQFzwqP25Q63i0/CO7S7METlpK2Df51KLafRE4i+0qUHm3R2PVwjZTcLVEaFc6GtLkuEmVe+r4brhU3mnTwNZ07NuA2jsi5NPnQ4G8B2KQlKHR0myJsFSYDKmzWyZP9TMo+ydsUOeLZUVS9p/N6I1PZU/vU4cKXpnqsfW17PedDg2nln12Hfs95TOn5z1qbBepoK/LDZe8TZ9a/4muzizbbrfAObdQWCrCyA7V9DYXatRVq8sDsoglLBUynYspZmyLsKp9G27TdEidnXK4PNE3buOdrRSd0uhtgyrhuSjCcy8YqOjEbFkdzDqi3n6FSkForLZ/06fOZ7Okm9DJfvS53oEqmWds//iFDCDNgZ3iFljHFJOPbfI3vWj/uiWq7PfD75XkuTChwVGNirpsEIHo6yFNeTnwfUCH26XonNhwqfSkGVuvLMcNbhleccxReQQAAAAAWDu8rpujvstz0Ez4QmARfaqLm9NZI6TzsPRiQv39EhW8KjWPhzT5PkyGcCIwEK3JHqiRkY1WeeKGXLR20uEbb8UFcD0sQSTcSsnQDwCuHK845qg8AgAAAACsHV7XzVHf5TloJnwhsIgxdbbFo5uHFIssL6Y00YNGsbB0/FoMBmKOxhy1WJyendLw/+tSXbeUEiYntPeDQ+XnIxoc1MMWa8L4pVhWhsdzAS4dwtK7AmEpwBrgFccclUcAAAAAgLXD67o56rs8B82ELwQWIx+Nj/c/OX1fp/ob9dioGETKCEv1yMzhoB4XJ3IU6J0+jY58ap20qMT61RMDdYhHMsVjwVsvjLRUDPLBH+MFuBYIS+8KhKUAa4BXHHNUHgEAAAAA1g6v6+ao7/IcNBO+EFjc+F2dSgWPtnZb1DqoUe2Pk6CvuNHLKnm67z3Xo6oYjGlyQo0HalCPv1tUf9qk3hsRuHpUfNKi4f/borJXpq1H9WCgkfb+FpUfdYJRlkVYWvq5SlUx+MvfLar9VKbGB/RKB+sAYeldgbAUYA3wimOOyiMAAAAAwNrhdd0c9V2eg2bCFwLLmtJkPI4ev59jOhnT+JsxaMlU/f/FVP1vcnnT72qe7xMajyfXMLgTQBqEpXcFwlKANcArjjkqjwBwO/B7PAAAgJssUdf9P//7ar/r+BctAAAAAKwxS+UREyZMmDBhwoQJE6bbPPE881Lx+jcAAAAArDFL5RETJkyYMGHChAkTpts88TzzUvH6NwAAAACsMUvlERMmTJgwYcKECROm2zzxPPNS8fo3AAAAAKwxS+UREyZMmDBhwoQJE6bbPPE881Lx+jcAAAAArDFL5RETJkyYMGHChAkTpts88TzzUvH6NwAAAAAAANwc/B4PAAAAcuBftAAAAAAAAHBz8Hs8AAAAyIF/0QIAAAAAAMDNwe/xAAAAIAf+RQsAAAAAAAA3B7/HAwAAgBz4Fy0AAAAAAADcHPweDwAAAHLgX7QAAAAAAABwc/B7PAAAAMiBf9ECAAAAAADAzcHv8QAAACAH/kULAAAAAAAANwe/xwMAAIAc+BctAAAAAAAA3Bz8Hg8AAABy4F+0AAAAAAAAcHPwezwAAADIgX/RAgAAAAAAwM3B7/EAAAAgB/5FCwAAAAAAADcHv8cDAACAHPgXLQAAAAAAANwc/B4PAAAAcuBftAAAAAAAAHBz8Hs8AAAAyIF/0QIAAAAAAMDNwe/xAAAAIAf+RQsAAAAAAAA3B7/HAwAAAOn/B5NeTkfVH0ihAAAAAElFTkSuQmCC)"
      ]
    },
    {
      "cell_type": "code",
      "execution_count": null,
      "metadata": {
        "colab": {
          "base_uri": "https://localhost:8080/"
        },
        "id": "TQ7ohfQCKdsQ",
        "outputId": "23d10bf7-8713-4e12-e04d-edbf2e8148bc"
      },
      "outputs": [
        {
          "output_type": "stream",
          "name": "stdout",
          "text": [
            "Classification Report: Balanced Class Weights \n",
            "\n",
            "              precision    recall  f1-score   support\n",
            "\n",
            "       legit       1.00      0.98      0.99     56651\n",
            "       fraud       0.06      0.87      0.10        95\n",
            "\n",
            "    accuracy                           0.98     56746\n",
            "   macro avg       0.53      0.92      0.55     56746\n",
            "weighted avg       1.00      0.98      0.99     56746\n",
            "\n"
          ]
        },
        {
          "output_type": "display_data",
          "data": {
            "text/plain": [
              "<Figure size 300x300 with 1 Axes>"
            ],
            "image/png": "[encoded data removed]"
          },
          "metadata": {}
        }
      ],
      "source": [
        "build_and_evaluate_model(logit, X_train_scaled, y_train, X_test_scaled, y_test, 'Balanced Class Weights')"
      ]
    },
    {
      "cell_type": "markdown",
      "metadata": {
        "id": "GhN0R65nM1Ot"
      },
      "source": [
        "### Cost-Sensitive : Custom Class Weights"
      ]
    },
    {
      "cell_type": "code",
      "execution_count": null,
      "metadata": {
        "id": "yxL_pdU1M4KF"
      },
      "outputs": [],
      "source": [
        "logit = LogisticRegression(class_weight={0:1, 1:1000}, max_iter=1000, random_state=42)"
      ]
    },
    {
      "cell_type": "code",
      "execution_count": null,
      "metadata": {
        "colab": {
          "base_uri": "https://localhost:8080/"
        },
        "id": "-o7pz3tPNU42",
        "outputId": "d75d3117-7cbc-4747-a493-1f65e9a61b2a"
      },
      "outputs": [
        {
          "output_type": "stream",
          "name": "stdout",
          "text": [
            "Classification Report: Custom Class Weights \n",
            "\n",
            "              precision    recall  f1-score   support\n",
            "\n",
            "       legit       1.00      0.96      0.98     56651\n",
            "       fraud       0.04      0.87      0.07        95\n",
            "\n",
            "    accuracy                           0.96     56746\n",
            "   macro avg       0.52      0.92      0.52     56746\n",
            "weighted avg       1.00      0.96      0.98     56746\n",
            "\n"
          ]
        },
        {
          "output_type": "display_data",
          "data": {
            "text/plain": [
              "<Figure size 300x300 with 1 Axes>"
            ],
            "image/png": "[encoded data removed]"
          },
          "metadata": {}
        }
      ],
      "source": [
        "build_and_evaluate_model(logit, X_train_scaled, y_train, X_test_scaled, y_test, 'Custom Class Weights')"
      ]
    },
    {
      "cell_type": "markdown",
      "metadata": {
        "id": "Vuq25LHfOCH1"
      },
      "source": [
        "### Cost_Sensitive: Implement different algorithms"
      ]
    },
    {
      "cell_type": "markdown",
      "metadata": {
        "id": "7wDr_OX1OZYM"
      },
      "source": [
        "#### Support Vector Classification"
      ]
    },
    {
      "cell_type": "markdown",
      "metadata": {
        "id": "1VGo0FtLPlmx"
      },
      "source": [
        "* Dataset is large, so it takes too long  to build the model."
      ]
    },
    {
      "cell_type": "markdown",
      "metadata": {
        "id": "kfpKKz3oSFUr"
      },
      "source": [
        "#### Random Forest"
      ]
    },
    {
      "cell_type": "markdown",
      "metadata": {
        "id": "EBXgtkxiVNcE"
      },
      "source": [
        "* Dataset is large, model building is slow."
      ]
    },
    {
      "cell_type": "markdown",
      "metadata": {
        "id": "8i6fsgooVVoF"
      },
      "source": [
        "#### XGBoost (Extreme Gradient Boosting)"
      ]
    },
    {
      "cell_type": "markdown",
      "metadata": {
        "id": "3N6xgbmqVnZi"
      },
      "source": [
        "XGBoost is an optimized gradient boosting library that works exceptionally well for fraud detection. It provides scale_pos_weight, which adjusts the weight of the minority class."
      ]
    },
    {
      "cell_type": "code",
      "execution_count": null,
      "metadata": {
        "id": "Gu6pjX5mWHo6"
      },
      "outputs": [],
      "source": [
        "xgb = XGBClassifier(n_estimators = 100, scale_pos_weight=fraud_weight, random_state=42, use_label_encoder=False,verbose=1, n_jobs=-1)"
      ]
    },
    {
      "cell_type": "code",
      "execution_count": null,
      "metadata": {
        "colab": {
          "base_uri": "https://localhost:8080/",
          "height": 524
        },
        "id": "WRgUjmGQWsO5",
        "outputId": "9abded6e-c051-4a32-bcab-7a10b2e42083"
      },
      "outputs": [
        {
          "output_type": "stream",
          "name": "stdout",
          "text": [
            "Classification Report: XGBoost \n",
            "\n",
            "              precision    recall  f1-score   support\n",
            "\n",
            "       legit       1.00      1.00      1.00     56651\n",
            "       fraud       0.95      0.77      0.85        95\n",
            "\n",
            "    accuracy                           1.00     56746\n",
            "   macro avg       0.97      0.88      0.92     56746\n",
            "weighted avg       1.00      1.00      1.00     56746\n",
            "\n"
          ]
        },
        {
          "output_type": "display_data",
          "data": {
            "text/plain": [
              "<Figure size 300x300 with 1 Axes>"
            ],
            "image/png": "[encoded data removed]"
          },
          "metadata": {}
        }
      ],
      "source": [
        "build_and_evaluate_model(xgb, X_train_scaled, y_train, X_test_scaled, y_test, 'XGBoost')"
      ]
    },
    {
      "cell_type": "markdown",
      "source": [
        "## Bayesian Optimization ( Optuna)"
      ],
      "metadata": {
        "id": "qAaIMU_kcRFd"
      }
    },
    {
      "cell_type": "markdown",
      "source": [
        "We can implement optuna to tune the hyperparameters of our XGBoost model."
      ],
      "metadata": {
        "id": "G_PaoHPc3--x"
      }
    },
    {
      "cell_type": "code",
      "source": [
        "# install optuna\n",
        "!pip install optuna"
      ],
      "metadata": {
        "colab": {
          "base_uri": "https://localhost:8080/"
        },
        "id": "eBCjOCnedG-_",
        "outputId": "4de40e4a-8613-408b-996f-23ffc5cf4b4c"
      },
      "execution_count": null,
      "outputs": [
        {
          "output_type": "stream",
          "name": "stdout",
          "text": [
            "Collecting optuna\n",
            "  Downloading optuna-4.3.0-py3-none-any.whl.metadata (17 kB)\n",
            "Collecting alembic>=1.5.0 (from optuna)\n",
            "  Downloading alembic-1.15.2-py3-none-any.whl.metadata (7.3 kB)\n",
            "Collecting colorlog (from optuna)\n",
            "  Downloading colorlog-6.9.0-py3-none-any.whl.metadata (10 kB)\n",
            "Requirement already satisfied: numpy in /usr/local/lib/python3.11/dist-packages (from optuna) (2.0.2)\n",
            "Requirement already satisfied: packaging>=20.0 in /usr/local/lib/python3.11/dist-packages (from optuna) (24.2)\n",
            "Requirement already satisfied: sqlalchemy>=1.4.2 in /usr/local/lib/python3.11/dist-packages (from optuna) (2.0.40)\n",
            "Requirement already satisfied: tqdm in /usr/local/lib/python3.11/dist-packages (from optuna) (4.67.1)\n",
            "Requirement already satisfied: PyYAML in /usr/local/lib/python3.11/dist-packages (from optuna) (6.0.2)\n",
            "Requirement already satisfied: Mako in /usr/lib/python3/dist-packages (from alembic>=1.5.0->optuna) (1.1.3)\n",
            "Requirement already satisfied: typing-extensions>=4.12 in /usr/local/lib/python3.11/dist-packages (from alembic>=1.5.0->optuna) (4.13.1)\n",
            "Requirement already satisfied: greenlet>=1 in /usr/local/lib/python3.11/dist-packages (from sqlalchemy>=1.4.2->optuna) (3.1.1)\n",
            "Downloading optuna-4.3.0-py3-none-any.whl (386 kB)\n",
            "\u001b[2K   \u001b[90m━━━━━━━━━━━━━━━━━━━━━━━━━━━━━━━━━━━━━━━━\u001b[0m \u001b[32m386.6/386.6 kB\u001b[0m \u001b[31m8.4 MB/s\u001b[0m eta \u001b[36m0:00:00\u001b[0m\n",
            "\u001b[?25hDownloading alembic-1.15.2-py3-none-any.whl (231 kB)\n",
            "\u001b[2K   \u001b[90m━━━━━━━━━━━━━━━━━━━━━━━━━━━━━━━━━━━━━━━━\u001b[0m \u001b[32m231.9/231.9 kB\u001b[0m \u001b[31m15.9 MB/s\u001b[0m eta \u001b[36m0:00:00\u001b[0m\n",
            "\u001b[?25hDownloading colorlog-6.9.0-py3-none-any.whl (11 kB)\n",
            "Installing collected packages: colorlog, alembic, optuna\n",
            "Successfully installed alembic-1.15.2 colorlog-6.9.0 optuna-4.3.0\n"
          ]
        }
      ]
    },
    {
      "cell_type": "code",
      "source": [
        "import optuna\n",
        "from sklearn.metrics import recall_score, f1_score\n",
        "from sklearn.utils.class_weight import compute_sample_weight\n",
        "\n",
        "\n",
        "# Define Optuna objective function\n",
        "def objective(trial):\n",
        "    params = {\n",
        "        'n_estimators': trial.suggest_int('n_estimators', 100, 1000),\n",
        "        'max_depth': trial.suggest_int('max_depth', 3, 12),\n",
        "        'learning_rate': trial.suggest_loguniform('learning_rate', 0.01, 0.3),\n",
        "        'subsample': trial.suggest_uniform('subsample', 0.5, 1),\n",
        "        'colsample_bytree': trial.suggest_uniform('colsample_bytree', 0.5, 1),\n",
        "        'gamma': trial.suggest_uniform('gamma', 0, 5),\n",
        "        'min_child_weight': trial.suggest_int('min_child_weight', 1, 10),\n",
        "    }\n",
        "\n",
        "    # Train XGBoost model\n",
        "    model = XGBClassifier(**params, scale_pos_weight=fraud_weight, use_label_encoder=False, eval_metric='logloss', verbose=1, n_jobs=-1)\n",
        "    model.fit(X_train, y_train)\n",
        "\n",
        "    # Predict probabilities\n",
        "    y_pred_proba = model.predict_proba(X_test)[:, 1]  # Get fraud class probability\n",
        "\n",
        "    # Convert probabilities to class labels using a low threshold (improves recall)\n",
        "    threshold = 0.5  # You can tune this further\n",
        "    y_pred = (y_pred_proba >= threshold).astype(int)\n",
        "    #---------------------------------------------------------------------\n",
        "    # Calculate recall\n",
        "    #recall = recall_score(y_test, y_pred)\n",
        "    #return recall\n",
        "    #---------------------------------------------------------------------\n",
        "    # Calculate F1-score\n",
        "    f1 = f1_score(y_test, y_pred)\n",
        "    return f1\n",
        "\n",
        "# Run Optuna optimization\n",
        "study = optuna.create_study(direction='maximize')  # Maximise f1-score for spam\n",
        "study.optimize(objective, n_trials=50)"
      ],
      "metadata": {
        "colab": {
          "base_uri": "https://localhost:8080/"
        },
        "id": "z8lhsbo_cf8q",
        "outputId": "f8797a25-4734-49ef-86ab-8f6fc0b9dc8e"
      },
      "execution_count": null,
      "outputs": [
        {
          "output_type": "stream",
          "name": "stderr",
          "text": [
            "[I 2025-04-14 13:23:31,595] A new study created in memory with name: no-name-17fe6c8a-d3f2-45a2-8267-b34157355847\n",
            "[I 2025-04-14 13:23:37,030] Trial 0 finished with value: 0.2351233671988389 and parameters: {'n_estimators': 180, 'max_depth': 3, 'learning_rate': 0.035253704443998474, 'subsample': 0.5886139588195565, 'colsample_bytree': 0.9481932905262745, 'gamma': 0.21140900171553623, 'min_child_weight': 1}. Best is trial 0 with value: 0.2351233671988389.\n",
            "[I 2025-04-14 13:23:59,806] Trial 1 finished with value: 0.8505747126436781 and parameters: {'n_estimators': 713, 'max_depth': 9, 'learning_rate': 0.12244823148307396, 'subsample': 0.5496080690489697, 'colsample_bytree': 0.9238185234269278, 'gamma': 0.7610762733473969, 'min_child_weight': 1}. Best is trial 1 with value: 0.8505747126436781.\n",
            "[I 2025-04-14 13:24:11,031] Trial 2 finished with value: 0.8539325842696629 and parameters: {'n_estimators': 191, 'max_depth': 12, 'learning_rate': 0.10180820258779626, 'subsample': 0.8008572134491379, 'colsample_bytree': 0.9025495952459748, 'gamma': 2.3696567723686446, 'min_child_weight': 5}. Best is trial 2 with value: 0.8539325842696629.\n",
            "[I 2025-04-14 13:24:19,577] Trial 3 finished with value: 0.5724907063197026 and parameters: {'n_estimators': 176, 'max_depth': 5, 'learning_rate': 0.03380521469637105, 'subsample': 0.6326530473923615, 'colsample_bytree': 0.9215364337283563, 'gamma': 0.009303301896612659, 'min_child_weight': 5}. Best is trial 2 with value: 0.8539325842696629.\n",
            "[I 2025-04-14 13:24:39,307] Trial 4 finished with value: 0.8522727272727273 and parameters: {'n_estimators': 987, 'max_depth': 5, 'learning_rate': 0.18209075410346903, 'subsample': 0.6984515548477414, 'colsample_bytree': 0.6807945092325303, 'gamma': 2.23305375369246, 'min_child_weight': 1}. Best is trial 2 with value: 0.8539325842696629.\n",
            "[I 2025-04-14 13:25:03,916] Trial 5 finished with value: 0.8020833333333334 and parameters: {'n_estimators': 867, 'max_depth': 3, 'learning_rate': 0.05735500131259994, 'subsample': 0.5033714999680723, 'colsample_bytree': 0.5029236444407953, 'gamma': 4.614865270728114, 'min_child_weight': 6}. Best is trial 2 with value: 0.8539325842696629.\n",
            "[I 2025-04-14 13:25:20,602] Trial 6 finished with value: 0.50625 and parameters: {'n_estimators': 599, 'max_depth': 3, 'learning_rate': 0.02901694527696513, 'subsample': 0.9576422365208163, 'colsample_bytree': 0.5303360136869779, 'gamma': 3.968886474475024, 'min_child_weight': 6}. Best is trial 2 with value: 0.8539325842696629.\n",
            "[I 2025-04-14 13:25:41,102] Trial 7 finished with value: 0.8539325842696629 and parameters: {'n_estimators': 933, 'max_depth': 3, 'learning_rate': 0.20001959628403668, 'subsample': 0.5485009696789616, 'colsample_bytree': 0.6672122759446235, 'gamma': 3.3885856917245336, 'min_child_weight': 2}. Best is trial 2 with value: 0.8539325842696629.\n",
            "[I 2025-04-14 13:26:13,342] Trial 8 finished with value: 0.8457142857142858 and parameters: {'n_estimators': 899, 'max_depth': 6, 'learning_rate': 0.059649396031970794, 'subsample': 0.8113759689839511, 'colsample_bytree': 0.9253008074721032, 'gamma': 0.5563371576648912, 'min_child_weight': 7}. Best is trial 2 with value: 0.8539325842696629.\n",
            "[I 2025-04-14 13:26:34,557] Trial 9 finished with value: 0.8539325842696629 and parameters: {'n_estimators': 778, 'max_depth': 8, 'learning_rate': 0.14431943626657984, 'subsample': 0.5435988669369263, 'colsample_bytree': 0.8281563080082892, 'gamma': 2.5323941591241206, 'min_child_weight': 1}. Best is trial 2 with value: 0.8539325842696629.\n",
            "[I 2025-04-14 13:26:54,451] Trial 10 finished with value: 0.7894736842105263 and parameters: {'n_estimators': 373, 'max_depth': 12, 'learning_rate': 0.017980578137464585, 'subsample': 0.8385006560372337, 'colsample_bytree': 0.7963430362802607, 'gamma': 2.004096106148207, 'min_child_weight': 10}. Best is trial 2 with value: 0.8539325842696629.\n",
            "[I 2025-04-14 13:27:04,609] Trial 11 finished with value: 0.847457627118644 and parameters: {'n_estimators': 393, 'max_depth': 12, 'learning_rate': 0.28119644327977117, 'subsample': 0.7389684559142857, 'colsample_bytree': 0.6626729738067784, 'gamma': 3.2478640259680702, 'min_child_weight': 4}. Best is trial 2 with value: 0.8539325842696629.\n",
            "[I 2025-04-14 13:27:16,828] Trial 12 finished with value: 0.8426966292134831 and parameters: {'n_estimators': 415, 'max_depth': 10, 'learning_rate': 0.08916425277952326, 'subsample': 0.8865731990074065, 'colsample_bytree': 0.688401784271669, 'gamma': 3.1533660137862327, 'min_child_weight': 3}. Best is trial 2 with value: 0.8539325842696629.\n",
            "[I 2025-04-14 13:27:31,644] Trial 13 finished with value: 0.8505747126436781 and parameters: {'n_estimators': 576, 'max_depth': 7, 'learning_rate': 0.2638083436765111, 'subsample': 0.6822877244227173, 'colsample_bytree': 0.9998141586405582, 'gamma': 1.5022735320502836, 'min_child_weight': 8}. Best is trial 2 with value: 0.8539325842696629.\n",
            "[I 2025-04-14 13:27:39,269] Trial 14 finished with value: 0.8241758241758241 and parameters: {'n_estimators': 118, 'max_depth': 10, 'learning_rate': 0.08821517085838505, 'subsample': 0.7896969219126684, 'colsample_bytree': 0.5949854938055983, 'gamma': 3.3161687421192494, 'min_child_weight': 3}. Best is trial 2 with value: 0.8539325842696629.\n",
            "[I 2025-04-14 13:27:47,375] Trial 15 finished with value: 0.8202247191011236 and parameters: {'n_estimators': 284, 'max_depth': 11, 'learning_rate': 0.18887424015556517, 'subsample': 0.9630194717396335, 'colsample_bytree': 0.8202575050791007, 'gamma': 4.009725609677396, 'min_child_weight': 3}. Best is trial 2 with value: 0.8539325842696629.\n",
            "[I 2025-04-14 13:28:19,536] Trial 16 finished with value: 0.7772020725388601 and parameters: {'n_estimators': 684, 'max_depth': 8, 'learning_rate': 0.010230705580187969, 'subsample': 0.8850312119972636, 'colsample_bytree': 0.7476968195910951, 'gamma': 1.4143340366065813, 'min_child_weight': 9}. Best is trial 2 with value: 0.8539325842696629.\n",
            "[I 2025-04-14 13:28:36,507] Trial 17 finished with value: 0.8522727272727273 and parameters: {'n_estimators': 480, 'max_depth': 5, 'learning_rate': 0.10151166947880369, 'subsample': 0.6378449290624892, 'colsample_bytree': 0.6053654415634099, 'gamma': 2.684470434655698, 'min_child_weight': 4}. Best is trial 2 with value: 0.8539325842696629.\n",
            "[I 2025-04-14 13:28:43,716] Trial 18 finished with value: 0.8351648351648352 and parameters: {'n_estimators': 286, 'max_depth': 7, 'learning_rate': 0.2048924143244084, 'subsample': 0.7418141594616704, 'colsample_bytree': 0.7375853891936914, 'gamma': 4.906557364715425, 'min_child_weight': 5}. Best is trial 2 with value: 0.8539325842696629.\n",
            "[I 2025-04-14 13:29:06,664] Trial 19 finished with value: 0.8306010928961749 and parameters: {'n_estimators': 985, 'max_depth': 4, 'learning_rate': 0.07853618027408879, 'subsample': 0.8901598744817136, 'colsample_bytree': 0.8820331707719171, 'gamma': 3.7961106329038206, 'min_child_weight': 7}. Best is trial 2 with value: 0.8539325842696629.\n",
            "[I 2025-04-14 13:29:21,355] Trial 20 finished with value: 0.8522727272727273 and parameters: {'n_estimators': 506, 'max_depth': 9, 'learning_rate': 0.11981583011128479, 'subsample': 0.6913993888195815, 'colsample_bytree': 0.8678044559548853, 'gamma': 1.6604206304494444, 'min_child_weight': 2}. Best is trial 2 with value: 0.8539325842696629.\n",
            "[I 2025-04-14 13:29:42,095] Trial 21 finished with value: 0.8700564971751412 and parameters: {'n_estimators': 792, 'max_depth': 8, 'learning_rate': 0.14919972873853396, 'subsample': 0.5218367160424239, 'colsample_bytree': 0.8117189185457654, 'gamma': 2.675199867633924, 'min_child_weight': 2}. Best is trial 21 with value: 0.8700564971751412.\n",
            "[I 2025-04-14 13:30:03,636] Trial 22 finished with value: 0.8522727272727273 and parameters: {'n_estimators': 832, 'max_depth': 11, 'learning_rate': 0.1466455095582976, 'subsample': 0.5049361623253102, 'colsample_bytree': 0.7727348760362724, 'gamma': 2.924289927991394, 'min_child_weight': 2}. Best is trial 21 with value: 0.8700564971751412.\n",
            "[I 2025-04-14 13:30:18,929] Trial 23 finished with value: 0.8131868131868132 and parameters: {'n_estimators': 686, 'max_depth': 6, 'learning_rate': 0.2234706412781011, 'subsample': 0.6127800854003458, 'colsample_bytree': 0.8756396059601306, 'gamma': 3.555371387941073, 'min_child_weight': 2}. Best is trial 21 with value: 0.8700564971751412.\n",
            "[I 2025-04-14 13:30:41,483] Trial 24 finished with value: 0.8488372093023255 and parameters: {'n_estimators': 919, 'max_depth': 9, 'learning_rate': 0.1464980113080797, 'subsample': 0.5643378615433409, 'colsample_bytree': 0.71246567103233, 'gamma': 2.12106233883425, 'min_child_weight': 4}. Best is trial 21 with value: 0.8700564971751412.\n",
            "[I 2025-04-14 13:31:00,477] Trial 25 finished with value: 0.8587570621468926 and parameters: {'n_estimators': 770, 'max_depth': 6, 'learning_rate': 0.06835152537736337, 'subsample': 0.7747763746757654, 'colsample_bytree': 0.8372376324886845, 'gamma': 4.36494199879681, 'min_child_weight': 3}. Best is trial 21 with value: 0.8700564971751412.\n",
            "[I 2025-04-14 13:31:22,949] Trial 26 finished with value: 0.8351648351648352 and parameters: {'n_estimators': 784, 'max_depth': 6, 'learning_rate': 0.04535277367943074, 'subsample': 0.7821938440462498, 'colsample_bytree': 0.8355856760844786, 'gamma': 4.759263520925495, 'min_child_weight': 4}. Best is trial 21 with value: 0.8700564971751412.\n",
            "[I 2025-04-14 13:31:43,086] Trial 27 finished with value: 0.8241758241758241 and parameters: {'n_estimators': 760, 'max_depth': 7, 'learning_rate': 0.06491859078587978, 'subsample': 0.8233264304323334, 'colsample_bytree': 0.9984959599349523, 'gamma': 4.293513801208759, 'min_child_weight': 5}. Best is trial 21 with value: 0.8700564971751412.\n",
            "[I 2025-04-14 13:32:06,758] Trial 28 finished with value: 0.8522727272727273 and parameters: {'n_estimators': 670, 'max_depth': 11, 'learning_rate': 0.046993344670831334, 'subsample': 0.8572704952014134, 'colsample_bytree': 0.78618536590578, 'gamma': 0.9582183969599551, 'min_child_weight': 3}. Best is trial 21 with value: 0.8700564971751412.\n",
            "[I 2025-04-14 13:32:24,314] Trial 29 finished with value: 0.8539325842696629 and parameters: {'n_estimators': 599, 'max_depth': 8, 'learning_rate': 0.07020460198853598, 'subsample': 0.7607731201122758, 'colsample_bytree': 0.9525040099470414, 'gamma': 2.7781004691900195, 'min_child_weight': 6}. Best is trial 21 with value: 0.8700564971751412.\n",
            "[I 2025-04-14 13:32:34,210] Trial 30 finished with value: 0.4305177111716621 and parameters: {'n_estimators': 268, 'max_depth': 4, 'learning_rate': 0.02559307204495414, 'subsample': 0.9179761218055481, 'colsample_bytree': 0.8490918207078458, 'gamma': 4.323772920911175, 'min_child_weight': 3}. Best is trial 21 with value: 0.8700564971751412.\n",
            "[I 2025-04-14 13:32:58,125] Trial 31 finished with value: 0.8636363636363636 and parameters: {'n_estimators': 938, 'max_depth': 4, 'learning_rate': 0.11938850058309612, 'subsample': 0.5814653429826048, 'colsample_bytree': 0.6172079130767312, 'gamma': 2.3017860040970377, 'min_child_weight': 2}. Best is trial 21 with value: 0.8700564971751412.\n",
            "[I 2025-04-14 13:33:20,058] Trial 32 finished with value: 0.8735632183908046 and parameters: {'n_estimators': 837, 'max_depth': 4, 'learning_rate': 0.10774228774291583, 'subsample': 0.7191336286721062, 'colsample_bytree': 0.899699578811869, 'gamma': 1.7669335227691345, 'min_child_weight': 1}. Best is trial 32 with value: 0.8735632183908046.\n",
            "[I 2025-04-14 13:33:44,376] Trial 33 finished with value: 0.88 and parameters: {'n_estimators': 821, 'max_depth': 4, 'learning_rate': 0.10539053892436447, 'subsample': 0.582227696003035, 'colsample_bytree': 0.9547777515222989, 'gamma': 1.1722520673783698, 'min_child_weight': 1}. Best is trial 33 with value: 0.88.\n",
            "[I 2025-04-14 13:34:09,847] Trial 34 finished with value: 0.8670520231213873 and parameters: {'n_estimators': 829, 'max_depth': 4, 'learning_rate': 0.1069434010517231, 'subsample': 0.5943148647736771, 'colsample_bytree': 0.9674645762672014, 'gamma': 1.1168559970390903, 'min_child_weight': 1}. Best is trial 33 with value: 0.88.\n",
            "[I 2025-04-14 13:34:33,427] Trial 35 finished with value: 0.8685714285714285 and parameters: {'n_estimators': 825, 'max_depth': 4, 'learning_rate': 0.15769303193949546, 'subsample': 0.6112544285412657, 'colsample_bytree': 0.9617622213928047, 'gamma': 1.166950223532543, 'min_child_weight': 1}. Best is trial 33 with value: 0.88.\n",
            "[I 2025-04-14 13:34:55,966] Trial 36 finished with value: 0.8620689655172413 and parameters: {'n_estimators': 848, 'max_depth': 5, 'learning_rate': 0.1571838361673892, 'subsample': 0.6572190977165472, 'colsample_bytree': 0.9167691851264126, 'gamma': 0.5254136636326646, 'min_child_weight': 1}. Best is trial 33 with value: 0.88.\n",
            "[I 2025-04-14 13:35:13,770] Trial 37 finished with value: 0.8636363636363636 and parameters: {'n_estimators': 726, 'max_depth': 3, 'learning_rate': 0.24497741827838942, 'subsample': 0.5283410508404095, 'colsample_bytree': 0.9742159636485828, 'gamma': 1.850688695636802, 'min_child_weight': 1}. Best is trial 33 with value: 0.88.\n",
            "[I 2025-04-14 13:35:35,043] Trial 38 finished with value: 0.8636363636363636 and parameters: {'n_estimators': 872, 'max_depth': 5, 'learning_rate': 0.16120292206500228, 'subsample': 0.6611244961950686, 'colsample_bytree': 0.934106697635726, 'gamma': 1.317721687305473, 'min_child_weight': 1}. Best is trial 33 with value: 0.88.\n",
            "[I 2025-04-14 13:36:05,269] Trial 39 finished with value: 0.8837209302325582 and parameters: {'n_estimators': 993, 'max_depth': 4, 'learning_rate': 0.1260999364534706, 'subsample': 0.7223772600151763, 'colsample_bytree': 0.89362118996305, 'gamma': 0.0870262821607588, 'min_child_weight': 2}. Best is trial 39 with value: 0.8837209302325582.\n",
            "[I 2025-04-14 13:36:35,824] Trial 40 finished with value: 0.88 and parameters: {'n_estimators': 996, 'max_depth': 3, 'learning_rate': 0.09651736685012594, 'subsample': 0.713760524280546, 'colsample_bytree': 0.8960161842685075, 'gamma': 0.0005453577948200117, 'min_child_weight': 2}. Best is trial 39 with value: 0.8837209302325582.\n",
            "[I 2025-04-14 13:37:02,944] Trial 41 finished with value: 0.8735632183908046 and parameters: {'n_estimators': 936, 'max_depth': 3, 'learning_rate': 0.08824641307072117, 'subsample': 0.709675021461499, 'colsample_bytree': 0.8896100097486217, 'gamma': 0.14967620222174527, 'min_child_weight': 2}. Best is trial 39 with value: 0.8837209302325582.\n",
            "[I 2025-04-14 13:37:31,203] Trial 42 finished with value: 0.8488372093023255 and parameters: {'n_estimators': 984, 'max_depth': 3, 'learning_rate': 0.08492582155351103, 'subsample': 0.7166085602076954, 'colsample_bytree': 0.9056774999928402, 'gamma': 0.02818571762582945, 'min_child_weight': 2}. Best is trial 39 with value: 0.8837209302325582.\n",
            "[I 2025-04-14 13:37:59,797] Trial 43 finished with value: 0.8636363636363636 and parameters: {'n_estimators': 957, 'max_depth': 3, 'learning_rate': 0.10758389862845671, 'subsample': 0.7298929007294459, 'colsample_bytree': 0.8945384165986452, 'gamma': 0.378232140809323, 'min_child_weight': 1}. Best is trial 39 with value: 0.8837209302325582.\n",
            "[I 2025-04-14 13:38:25,580] Trial 44 finished with value: 0.8342245989304813 and parameters: {'n_estimators': 894, 'max_depth': 3, 'learning_rate': 0.05227146520444966, 'subsample': 0.6752083052021309, 'colsample_bytree': 0.8610743124027112, 'gamma': 0.8130331520750024, 'min_child_weight': 2}. Best is trial 39 with value: 0.8837209302325582.\n",
            "[I 2025-04-14 13:38:51,722] Trial 45 finished with value: 0.8505747126436781 and parameters: {'n_estimators': 995, 'max_depth': 4, 'learning_rate': 0.12537903801296907, 'subsample': 0.7150838113649188, 'colsample_bytree': 0.9294160745195608, 'gamma': 0.2843726847719061, 'min_child_weight': 1}. Best is trial 39 with value: 0.8837209302325582.\n",
            "[I 2025-04-14 13:39:18,029] Trial 46 finished with value: 0.8735632183908046 and parameters: {'n_estimators': 946, 'max_depth': 5, 'learning_rate': 0.07651723773127735, 'subsample': 0.7565707484318689, 'colsample_bytree': 0.897192221238983, 'gamma': 0.6574338334716148, 'min_child_weight': 2}. Best is trial 39 with value: 0.8837209302325582.\n",
            "[I 2025-04-14 13:39:43,907] Trial 47 finished with value: 0.8636363636363636 and parameters: {'n_estimators': 878, 'max_depth': 3, 'learning_rate': 0.09291465478876505, 'subsample': 0.6416310236247861, 'colsample_bytree': 0.9400607527736164, 'gamma': 0.06830330480606203, 'min_child_weight': 3}. Best is trial 39 with value: 0.8837209302325582.\n",
            "[I 2025-04-14 13:40:08,219] Trial 48 finished with value: 0.8522727272727273 and parameters: {'n_estimators': 901, 'max_depth': 4, 'learning_rate': 0.12850274896254, 'subsample': 0.7016606960753012, 'colsample_bytree': 0.9787214171218179, 'gamma': 0.4084356090798899, 'min_child_weight': 1}. Best is trial 39 with value: 0.8837209302325582.\n",
            "[I 2025-04-14 13:40:33,343] Trial 49 finished with value: 0.8620689655172413 and parameters: {'n_estimators': 962, 'max_depth': 3, 'learning_rate': 0.1028118322622416, 'subsample': 0.8062246270139658, 'colsample_bytree': 0.9113077856153821, 'gamma': 0.8635551338828975, 'min_child_weight': 2}. Best is trial 39 with value: 0.8837209302325582.\n"
          ]
        }
      ]
    },
    {
      "cell_type": "code",
      "source": [
        "# Best parameters\n",
        "print(\"Best f1_score:\", study.best_value)\n",
        "print(\"Best parameters:\", study.best_trial.params)"
      ],
      "metadata": {
        "colab": {
          "base_uri": "https://localhost:8080/"
        },
        "id": "sVEYwOBdg5Tn",
        "outputId": "7a9be9a1-75e9-46f9-d792-ac6c6db22593"
      },
      "execution_count": null,
      "outputs": [
        {
          "output_type": "stream",
          "name": "stdout",
          "text": [
            "Best f1_score: 0.8837209302325582\n",
            "Best parameters: {'n_estimators': 993, 'max_depth': 4, 'learning_rate': 0.1260999364534706, 'subsample': 0.7223772600151763, 'colsample_bytree': 0.89362118996305, 'gamma': 0.0870262821607588, 'min_child_weight': 2}\n"
          ]
        }
      ]
    },
    {
      "cell_type": "code",
      "source": [
        "xgb = XGBClassifier(**study.best_trial.params, scale_pos_weight=fraud_weight, random_state=42, use_label_encoder=False,verbose=1, n_jobs=-1)\n",
        "build_and_evaluate_model(xgb, X_train_scaled, y_train, X_test_scaled, y_test, 'XGBoost + Optuna (threshold = 0.5)', threshold=0.5)"
      ],
      "metadata": {
        "colab": {
          "base_uri": "https://localhost:8080/"
        },
        "id": "ja1arYbDk-ED",
        "outputId": "0a7aeabd-6709-4ce1-be03-75d1368bd552"
      },
      "execution_count": null,
      "outputs": [
        {
          "output_type": "stream",
          "name": "stdout",
          "text": [
            "Classification Report: XGBoost + Optuna (threshold = 0.5) \n",
            "\n",
            "              precision    recall  f1-score   support\n",
            "\n",
            "       legit       1.00      1.00      1.00     56651\n",
            "       fraud       0.97      0.79      0.87        95\n",
            "\n",
            "    accuracy                           1.00     56746\n",
            "   macro avg       0.99      0.89      0.94     56746\n",
            "weighted avg       1.00      1.00      1.00     56746\n",
            "\n"
          ]
        },
        {
          "output_type": "display_data",
          "data": {
            "text/plain": [
              "<Figure size 300x300 with 1 Axes>"
            ],
            "image/png": "[encoded data removed]"
          },
          "metadata": {}
        }
      ]
    },
    {
      "cell_type": "markdown",
      "source": [
        "### Plotting Precision-Recall Tradeoff and Determining Best Threshold for Fraud Detection"
      ],
      "metadata": {
        "id": "8L4PpfYaXbxk"
      }
    },
    {
      "cell_type": "code",
      "source": [
        "import matplotlib.pyplot as plt\n",
        "import numpy as np\n",
        "from sklearn.metrics import precision_recall_curve\n",
        "\n",
        "# Predict probabilities\n",
        "y_pred_proba = xgb.predict_proba(X_test)[:, 1]  # Get fraud class probability\n",
        "\n",
        "# Compute precision-recall curve\n",
        "precision, recall, thresholds = precision_recall_curve(y_test, y_pred_proba)\n",
        "\n",
        "\n",
        "# Compute F1-score\n",
        "f1_scores = (2 * precision[:-1] * recall[:-1]) / (precision[:-1] + recall[:-1] + 1e-10)  # Avoid division by zero\n",
        "best_idx = np.argmax(f1_scores)\n",
        "best_threshold = thresholds[best_idx]\n",
        "\n",
        "\n",
        "# Plot Precision and Recall against Threshold\n",
        "plt.figure(figsize=(8, 6))\n",
        "plt.plot(thresholds, precision[:-1], label=\"Precision\", linestyle=\"--\", marker=\"o\", color=\"blue\")\n",
        "plt.plot(thresholds, recall[:-1], label=\"Recall\", linestyle=\"--\", marker=\"s\", color=\"orange\")\n",
        "\n",
        "# Highlight best threshold\n",
        "plt.axvline(best_threshold, color=\"red\", linestyle=\"--\", label=f\"Best Threshold = {best_threshold}\")\n",
        "plt.scatter(best_threshold, precision[best_idx], color='red', s=100, label=\"Best Precision\")\n",
        "plt.scatter(best_threshold, recall[best_idx], color='blue', s=100, label=\"Best Recall\")\n",
        "\n",
        "# Labels and Legend\n",
        "plt.xlabel(\"Threshold\")\n",
        "plt.ylabel(\"Score\")\n",
        "plt.title(\"Precision-Recall Tradeoff\")\n",
        "plt.legend()\n",
        "plt.grid()\n",
        "plt.show()\n",
        "\n",
        "print(f\"At threshold {best_threshold:.4f}: Precision = {precision[best_idx]:.4f}, Recall = {recall[best_idx]:.4f}\")\n"
      ],
      "metadata": {
        "colab": {
          "base_uri": "https://localhost:8080/"
        },
        "id": "e0VuVHDWtXKT",
        "outputId": "78be02c0-f603-4bf6-8a30-1c8deba080f9"
      },
      "execution_count": null,
      "outputs": [
        {
          "output_type": "display_data",
          "data": {
            "text/plain": [
              "<Figure size 800x600 with 1 Axes>"
            ],
            "image/png": "[encoded data removed]"
          },
          "metadata": {}
        },
        {
          "output_type": "stream",
          "name": "stdout",
          "text": [
            "At threshold 0.9444: Precision = 0.8889, Recall = 0.7579\n"
          ]
        }
      ]
    },
    {
      "cell_type": "code",
      "source": [
        "build_and_evaluate_model(xgb, X_train_scaled, y_train, X_test_scaled, y_test, 'XGBoost + Optuna', threshold=best_threshold)"
      ],
      "metadata": {
        "colab": {
          "base_uri": "https://localhost:8080/"
        },
        "id": "gZxmiaUK2-51",
        "outputId": "30e57601-cd88-42bb-b5d6-88858e979f61"
      },
      "execution_count": null,
      "outputs": [
        {
          "output_type": "stream",
          "name": "stdout",
          "text": [
            "Classification Report: XGBoost + Optuna \n",
            "\n",
            "              precision    recall  f1-score   support\n",
            "\n",
            "       legit       1.00      1.00      1.00     56651\n",
            "       fraud       0.99      0.74      0.84        95\n",
            "\n",
            "    accuracy                           1.00     56746\n",
            "   macro avg       0.99      0.87      0.92     56746\n",
            "weighted avg       1.00      1.00      1.00     56746\n",
            "\n"
          ]
        },
        {
          "output_type": "display_data",
          "data": {
            "text/plain": [
              "<Figure size 300x300 with 1 Axes>"
            ],
            "image/png": "[encoded data removed]"
          },
          "metadata": {}
        }
      ]
    },
    {
      "cell_type": "code",
      "source": [
        "xgb = XGBClassifier(**study.best_trial.params, scale_pos_weight= fraud_weight, use_label_encoder=False, eval_metric='logloss', random_state=42)\n",
        "xgb.fit(X_train, y_train)\n",
        "# Predict probabilities\n",
        "y_pred_proba = xgb.predict_proba(X_test)[:, 1]  # Get fraud class probability\n",
        "\n",
        "# Convert probabilities to class labels using a low threshold (improves recall)\n",
        "threshold = 0.9714 # You can tune this further\n",
        "y_pred = (y_pred_proba >= threshold).astype(int)\n",
        "\n",
        "# Create classification report\n",
        "print(f'Classification Report:' )\n",
        "print(classification_report(y_test, y_pred, target_names=['legit', 'fraud']))\n",
        "\n",
        "# Create confusion matrix\n",
        "cm = confusion_matrix(y_test, y_pred)\n",
        "plt.figure(figsize=(3,3))\n",
        "sns.heatmap(cm, annot=True, fmt='d', cmap='Blues', xticklabels=['Legit', 'Fraud'], yticklabels=['Legit', 'Fraud'],cbar=False) # format=decimal\n",
        "plt.xlabel('Predicted_Labels'),\n",
        "plt.ylabel('Actual_Labels')\n",
        "plt.xticks(fontsize=10)\n",
        "plt.yticks(fontsize=10)\n",
        "plt.title('Confusion Matrix')\n",
        "plt.show()"
      ],
      "metadata": {
        "colab": {
          "base_uri": "https://localhost:8080/"
        },
        "id": "B15Aq6Nw1RcL",
        "outputId": "ea9d535c-bbf1-4075-80b2-cf3733f761fb"
      },
      "execution_count": null,
      "outputs": [
        {
          "output_type": "stream",
          "name": "stdout",
          "text": [
            "Classification Report:\n",
            "              precision    recall  f1-score   support\n",
            "\n",
            "       legit       1.00      1.00      1.00     56651\n",
            "       fraud       0.99      0.73      0.84        95\n",
            "\n",
            "    accuracy                           1.00     56746\n",
            "   macro avg       0.99      0.86      0.92     56746\n",
            "weighted avg       1.00      1.00      1.00     56746\n",
            "\n"
          ]
        },
        {
          "output_type": "display_data",
          "data": {
            "text/plain": [
              "<Figure size 300x300 with 1 Axes>"
            ],
            "image/png": "[encoded data removed]"
          },
          "metadata": {}
        }
      ]
    }
  ],
  "metadata": {
    "colab": {
      "toc_visible": true,
      "provenance": []
    },
    "kernelspec": {
      "display_name": "Python 3",
      "name": "python3"
    },
    "language_info": {
      "name": "python"
    }
  },
  "nbformat": 4,
  "nbformat_minor": 0
}